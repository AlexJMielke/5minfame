{
 "cells": [
  {
   "cell_type": "markdown",
   "id": "answering-nowhere",
   "metadata": {},
   "source": [
    "# **Load and write Pandas Dataframe faster, securely and efficiently with Parquet.**\n",
    "## *Showdown: TSV vs Pickle vs Parquet* \n",
    "\n",
    "<br>\n",
    "\n",
    "## Aishvarya Tandon\n",
    "### Czodrowski Lab - \"5 minutes of fame\"\n",
    "### 20 August 2021"
   ]
  },
  {
   "cell_type": "code",
   "execution_count": 1,
   "id": "destroyed-verse",
   "metadata": {
    "execution": {
     "iopub.execute_input": "2021-08-20T07:45:38.917282Z",
     "iopub.status.busy": "2021-08-20T07:45:38.916915Z",
     "iopub.status.idle": "2021-08-20T07:45:39.531628Z",
     "shell.execute_reply": "2021-08-20T07:45:39.531171Z",
     "shell.execute_reply.started": "2021-08-20T07:45:38.917233Z"
    },
    "tags": []
   },
   "outputs": [],
   "source": [
    "import pandas as pd\n",
    "import time\n",
    "import pickle\n",
    "import os\n",
    "import seaborn as sns\n",
    "import matplotlib.pyplot as plt\n",
    "\n",
    "#in-house packages\n",
    "from selfie_tools import vectorized as stv, single as sts"
   ]
  },
  {
   "cell_type": "markdown",
   "id": "familiar-pipeline",
   "metadata": {},
   "source": [
    "## Part 1"
   ]
  },
  {
   "cell_type": "code",
   "execution_count": 2,
   "id": "delayed-worth",
   "metadata": {
    "execution": {
     "iopub.execute_input": "2021-08-20T07:45:39.532726Z",
     "iopub.status.busy": "2021-08-20T07:45:39.532578Z",
     "iopub.status.idle": "2021-08-20T07:45:41.083807Z",
     "shell.execute_reply": "2021-08-20T07:45:41.083050Z",
     "shell.execute_reply.started": "2021-08-20T07:45:39.532709Z"
    },
    "tags": []
   },
   "outputs": [
    {
     "name": "stdout",
     "output_type": "stream",
     "text": [
      "Time taken to read a CHEMBL29 tsv file by standard 'read_csv()' function: 1.5461173057556152 seconds\n"
     ]
    }
   ],
   "source": [
    "#Reading tsv from 'read_csv()' function\n",
    "start = time.time()\n",
    "df = pd.read_csv(\"canonical-smiles_Chembl29.tsv\", sep = '\\t')\n",
    "end = time.time()\n",
    "\n",
    "tsv_readtime_1 = end - start\n",
    "print(f\"Time taken to read a CHEMBL29 tsv file by standard 'read_csv()' function: {tsv_readtime_1} seconds\")"
   ]
  },
  {
   "cell_type": "code",
   "execution_count": 3,
   "id": "compound-contributor",
   "metadata": {
    "execution": {
     "iopub.execute_input": "2021-08-20T07:45:41.085007Z",
     "iopub.status.busy": "2021-08-20T07:45:41.084852Z",
     "iopub.status.idle": "2021-08-20T07:45:41.098840Z",
     "shell.execute_reply": "2021-08-20T07:45:41.098344Z",
     "shell.execute_reply.started": "2021-08-20T07:45:41.084988Z"
    },
    "tags": []
   },
   "outputs": [
    {
     "name": "stdout",
     "output_type": "stream",
     "text": [
      "<class 'pandas.core.frame.DataFrame'>\n",
      "RangeIndex: 2084724 entries, 0 to 2084723\n",
      "Data columns (total 2 columns):\n",
      " #   Column            Dtype \n",
      "---  ------            ----- \n",
      " 0   molregno          int64 \n",
      " 1   canonical_smiles  object\n",
      "dtypes: int64(1), object(1)\n",
      "memory usage: 31.8+ MB\n"
     ]
    },
    {
     "data": {
      "text/html": [
       "<div>\n",
       "<style scoped>\n",
       "    .dataframe tbody tr th:only-of-type {\n",
       "        vertical-align: middle;\n",
       "    }\n",
       "\n",
       "    .dataframe tbody tr th {\n",
       "        vertical-align: top;\n",
       "    }\n",
       "\n",
       "    .dataframe thead th {\n",
       "        text-align: right;\n",
       "    }\n",
       "</style>\n",
       "<table border=\"1\" class=\"dataframe\">\n",
       "  <thead>\n",
       "    <tr style=\"text-align: right;\">\n",
       "      <th></th>\n",
       "      <th>molregno</th>\n",
       "      <th>canonical_smiles</th>\n",
       "    </tr>\n",
       "  </thead>\n",
       "  <tbody>\n",
       "    <tr>\n",
       "      <th>0</th>\n",
       "      <td>1</td>\n",
       "      <td>Cc1cc(-n2ncc(=O)[nH]c2=O)ccc1C(=O)c1ccccc1Cl</td>\n",
       "    </tr>\n",
       "    <tr>\n",
       "      <th>1</th>\n",
       "      <td>2</td>\n",
       "      <td>Cc1cc(-n2ncc(=O)[nH]c2=O)ccc1C(=O)c1ccc(C#N)cc1</td>\n",
       "    </tr>\n",
       "    <tr>\n",
       "      <th>2</th>\n",
       "      <td>3</td>\n",
       "      <td>Cc1cc(-n2ncc(=O)[nH]c2=O)cc(C)c1C(O)c1ccc(Cl)cc1</td>\n",
       "    </tr>\n",
       "    <tr>\n",
       "      <th>3</th>\n",
       "      <td>4</td>\n",
       "      <td>Cc1ccc(C(=O)c2ccc(-n3ncc(=O)[nH]c3=O)cc2)cc1</td>\n",
       "    </tr>\n",
       "    <tr>\n",
       "      <th>4</th>\n",
       "      <td>5</td>\n",
       "      <td>Cc1cc(-n2ncc(=O)[nH]c2=O)ccc1C(=O)c1ccc(Cl)cc1</td>\n",
       "    </tr>\n",
       "  </tbody>\n",
       "</table>\n",
       "</div>"
      ],
      "text/plain": [
       "   molregno                                  canonical_smiles\n",
       "0         1      Cc1cc(-n2ncc(=O)[nH]c2=O)ccc1C(=O)c1ccccc1Cl\n",
       "1         2   Cc1cc(-n2ncc(=O)[nH]c2=O)ccc1C(=O)c1ccc(C#N)cc1\n",
       "2         3  Cc1cc(-n2ncc(=O)[nH]c2=O)cc(C)c1C(O)c1ccc(Cl)cc1\n",
       "3         4      Cc1ccc(C(=O)c2ccc(-n3ncc(=O)[nH]c3=O)cc2)cc1\n",
       "4         5    Cc1cc(-n2ncc(=O)[nH]c2=O)ccc1C(=O)c1ccc(Cl)cc1"
      ]
     },
     "execution_count": 3,
     "metadata": {},
     "output_type": "execute_result"
    }
   ],
   "source": [
    "df.info()\n",
    "df.head()"
   ]
  },
  {
   "cell_type": "code",
   "execution_count": 4,
   "id": "employed-bearing",
   "metadata": {
    "execution": {
     "iopub.execute_input": "2021-08-20T07:45:41.099552Z",
     "iopub.status.busy": "2021-08-20T07:45:41.099428Z",
     "iopub.status.idle": "2021-08-20T07:45:44.180401Z",
     "shell.execute_reply": "2021-08-20T07:45:44.179760Z",
     "shell.execute_reply.started": "2021-08-20T07:45:41.099537Z"
    },
    "tags": []
   },
   "outputs": [
    {
     "name": "stdout",
     "output_type": "stream",
     "text": [
      "Time taken to write a CHEMBL29 dataframe to a standard tsv file by the Pandas 'to_csv()' function: 3.0059814453125 seconds\n"
     ]
    }
   ],
   "source": [
    "#TSV writing time\n",
    "start = time.time()\n",
    "df.to_csv('Copy_df.tsv', sep = '\\t', index = False)\n",
    "end = time.time()\n",
    "\n",
    "tsv_writetime_1 = end - start\n",
    "print(f\"Time taken to write a CHEMBL29 dataframe to a standard tsv file by the Pandas 'to_csv()' function: {tsv_writetime_1} seconds\")"
   ]
  },
  {
   "cell_type": "code",
   "execution_count": 5,
   "id": "weird-beijing",
   "metadata": {
    "execution": {
     "iopub.execute_input": "2021-08-20T07:45:44.181134Z",
     "iopub.status.busy": "2021-08-20T07:45:44.181000Z",
     "iopub.status.idle": "2021-08-20T07:45:44.184044Z",
     "shell.execute_reply": "2021-08-20T07:45:44.183523Z",
     "shell.execute_reply.started": "2021-08-20T07:45:44.181117Z"
    },
    "tags": []
   },
   "outputs": [],
   "source": [
    "file_size_tsv_1 = os.path.getsize('Copy_df.tsv')"
   ]
  },
  {
   "cell_type": "code",
   "execution_count": 6,
   "id": "antique-findings",
   "metadata": {
    "execution": {
     "iopub.execute_input": "2021-08-20T07:45:44.184769Z",
     "iopub.status.busy": "2021-08-20T07:45:44.184646Z",
     "iopub.status.idle": "2021-08-20T07:45:44.448457Z",
     "shell.execute_reply": "2021-08-20T07:45:44.447332Z",
     "shell.execute_reply.started": "2021-08-20T07:45:44.184754Z"
    },
    "tags": []
   },
   "outputs": [
    {
     "name": "stdout",
     "output_type": "stream",
     "text": [
      "138027283\n"
     ]
    }
   ],
   "source": [
    "print(file_size_tsv_1)"
   ]
  },
  {
   "cell_type": "code",
   "execution_count": 7,
   "id": "controlling-enforcement",
   "metadata": {
    "execution": {
     "iopub.execute_input": "2021-08-20T07:45:44.449285Z",
     "iopub.status.busy": "2021-08-20T07:45:44.449140Z",
     "iopub.status.idle": "2021-08-20T07:45:45.149921Z",
     "shell.execute_reply": "2021-08-20T07:45:45.148821Z",
     "shell.execute_reply.started": "2021-08-20T07:45:44.449268Z"
    },
    "tags": []
   },
   "outputs": [
    {
     "name": "stdout",
     "output_type": "stream",
     "text": [
      "Time taken to write a CHEMBL29 dataframe as a pickled object file by the Pandas 'to_pickle()' function: 0.6066086292266846 seconds\n"
     ]
    }
   ],
   "source": [
    "#Writing time to pickle\n",
    "start = time.time()\n",
    "df.to_pickle('Copy_df.pkl')\n",
    "end = time.time()\n",
    "pickle_writetime_1 = end - start\n",
    "print(f\"Time taken to write a CHEMBL29 dataframe as a pickled object file by the Pandas 'to_pickle()' function: {pickle_writetime_1} seconds\")"
   ]
  },
  {
   "cell_type": "code",
   "execution_count": 8,
   "id": "threaded-scout",
   "metadata": {
    "execution": {
     "iopub.execute_input": "2021-08-20T07:45:45.151984Z",
     "iopub.status.busy": "2021-08-20T07:45:45.151833Z",
     "iopub.status.idle": "2021-08-20T07:45:45.156501Z",
     "shell.execute_reply": "2021-08-20T07:45:45.155869Z",
     "shell.execute_reply.started": "2021-08-20T07:45:45.151965Z"
    },
    "tags": []
   },
   "outputs": [
    {
     "name": "stdout",
     "output_type": "stream",
     "text": [
      "143258753\n"
     ]
    }
   ],
   "source": [
    "file_size_pickle_1 = os.path.getsize('Copy_df.pkl')\n",
    "print(file_size_pickle_1)"
   ]
  },
  {
   "cell_type": "code",
   "execution_count": 9,
   "id": "spanish-greene",
   "metadata": {
    "execution": {
     "iopub.execute_input": "2021-08-20T07:45:45.157811Z",
     "iopub.status.busy": "2021-08-20T07:45:45.157635Z",
     "iopub.status.idle": "2021-08-20T07:45:53.708128Z",
     "shell.execute_reply": "2021-08-20T07:45:53.707431Z",
     "shell.execute_reply.started": "2021-08-20T07:45:45.157788Z"
    },
    "tags": []
   },
   "outputs": [
    {
     "name": "stdout",
     "output_type": "stream",
     "text": [
      "Time taken to write a CHEMBL29 dataframe to the binary parquet format by the Pandas 'to_parquet()' function: 8.451149940490723 seconds\n"
     ]
    }
   ],
   "source": [
    "#Writing time to parquet\n",
    "start = time.time()\n",
    "df.to_parquet('Copy_df.gzip', compression='gzip')\n",
    "end = time.time()\n",
    "parquet_writetime_1 = end - start\n",
    "print(f\"Time taken to write a CHEMBL29 dataframe to the binary parquet format by the Pandas 'to_parquet()' function: {parquet_writetime_1} seconds\")"
   ]
  },
  {
   "cell_type": "code",
   "execution_count": 10,
   "id": "flush-accreditation",
   "metadata": {
    "execution": {
     "iopub.execute_input": "2021-08-20T07:45:53.709140Z",
     "iopub.status.busy": "2021-08-20T07:45:53.708991Z",
     "iopub.status.idle": "2021-08-20T07:45:53.712692Z",
     "shell.execute_reply": "2021-08-20T07:45:53.712151Z",
     "shell.execute_reply.started": "2021-08-20T07:45:53.709120Z"
    },
    "tags": []
   },
   "outputs": [
    {
     "name": "stdout",
     "output_type": "stream",
     "text": [
      "29168847\n"
     ]
    }
   ],
   "source": [
    "file_size_parquet_1 = os.path.getsize('Copy_df.gzip')\n",
    "print(file_size_parquet_1)"
   ]
  },
  {
   "cell_type": "code",
   "execution_count": 11,
   "id": "flush-tennis",
   "metadata": {
    "execution": {
     "iopub.execute_input": "2021-08-20T07:45:53.713366Z",
     "iopub.status.busy": "2021-08-20T07:45:53.713238Z",
     "iopub.status.idle": "2021-08-20T07:45:54.169524Z",
     "shell.execute_reply": "2021-08-20T07:45:54.168846Z",
     "shell.execute_reply.started": "2021-08-20T07:45:53.713350Z"
    },
    "tags": []
   },
   "outputs": [
    {
     "name": "stdout",
     "output_type": "stream",
     "text": [
      "Time taken to read a CHEMBL29 pickled file by 'read_pickle()' function: 0.3565945625305176 seconds\n"
     ]
    }
   ],
   "source": [
    "#Reading pickle df\n",
    "start = time.time()\n",
    "unpickled_df = pd.read_pickle(\"Copy_df.pkl\")\n",
    "end = time.time()\n",
    "pickle_readtime_1 = end - start\n",
    "print(f\"Time taken to read a CHEMBL29 pickled file by 'read_pickle()' function: {pickle_readtime_1} seconds\")"
   ]
  },
  {
   "cell_type": "code",
   "execution_count": 12,
   "id": "independent-auckland",
   "metadata": {
    "execution": {
     "iopub.execute_input": "2021-08-20T07:45:54.170499Z",
     "iopub.status.busy": "2021-08-20T07:45:54.170358Z",
     "iopub.status.idle": "2021-08-20T07:45:54.178886Z",
     "shell.execute_reply": "2021-08-20T07:45:54.178431Z",
     "shell.execute_reply.started": "2021-08-20T07:45:54.170482Z"
    },
    "tags": []
   },
   "outputs": [
    {
     "data": {
      "text/html": [
       "<div>\n",
       "<style scoped>\n",
       "    .dataframe tbody tr th:only-of-type {\n",
       "        vertical-align: middle;\n",
       "    }\n",
       "\n",
       "    .dataframe tbody tr th {\n",
       "        vertical-align: top;\n",
       "    }\n",
       "\n",
       "    .dataframe thead th {\n",
       "        text-align: right;\n",
       "    }\n",
       "</style>\n",
       "<table border=\"1\" class=\"dataframe\">\n",
       "  <thead>\n",
       "    <tr style=\"text-align: right;\">\n",
       "      <th></th>\n",
       "      <th>molregno</th>\n",
       "      <th>canonical_smiles</th>\n",
       "    </tr>\n",
       "  </thead>\n",
       "  <tbody>\n",
       "    <tr>\n",
       "      <th>0</th>\n",
       "      <td>1</td>\n",
       "      <td>Cc1cc(-n2ncc(=O)[nH]c2=O)ccc1C(=O)c1ccccc1Cl</td>\n",
       "    </tr>\n",
       "    <tr>\n",
       "      <th>1</th>\n",
       "      <td>2</td>\n",
       "      <td>Cc1cc(-n2ncc(=O)[nH]c2=O)ccc1C(=O)c1ccc(C#N)cc1</td>\n",
       "    </tr>\n",
       "    <tr>\n",
       "      <th>2</th>\n",
       "      <td>3</td>\n",
       "      <td>Cc1cc(-n2ncc(=O)[nH]c2=O)cc(C)c1C(O)c1ccc(Cl)cc1</td>\n",
       "    </tr>\n",
       "    <tr>\n",
       "      <th>3</th>\n",
       "      <td>4</td>\n",
       "      <td>Cc1ccc(C(=O)c2ccc(-n3ncc(=O)[nH]c3=O)cc2)cc1</td>\n",
       "    </tr>\n",
       "    <tr>\n",
       "      <th>4</th>\n",
       "      <td>5</td>\n",
       "      <td>Cc1cc(-n2ncc(=O)[nH]c2=O)ccc1C(=O)c1ccc(Cl)cc1</td>\n",
       "    </tr>\n",
       "  </tbody>\n",
       "</table>\n",
       "</div>"
      ],
      "text/plain": [
       "   molregno                                  canonical_smiles\n",
       "0         1      Cc1cc(-n2ncc(=O)[nH]c2=O)ccc1C(=O)c1ccccc1Cl\n",
       "1         2   Cc1cc(-n2ncc(=O)[nH]c2=O)ccc1C(=O)c1ccc(C#N)cc1\n",
       "2         3  Cc1cc(-n2ncc(=O)[nH]c2=O)cc(C)c1C(O)c1ccc(Cl)cc1\n",
       "3         4      Cc1ccc(C(=O)c2ccc(-n3ncc(=O)[nH]c3=O)cc2)cc1\n",
       "4         5    Cc1cc(-n2ncc(=O)[nH]c2=O)ccc1C(=O)c1ccc(Cl)cc1"
      ]
     },
     "execution_count": 12,
     "metadata": {},
     "output_type": "execute_result"
    }
   ],
   "source": [
    "unpickled_df.head()"
   ]
  },
  {
   "cell_type": "code",
   "execution_count": 13,
   "id": "upper-wiring",
   "metadata": {
    "execution": {
     "iopub.execute_input": "2021-08-20T07:45:54.179630Z",
     "iopub.status.busy": "2021-08-20T07:45:54.179495Z",
     "iopub.status.idle": "2021-08-20T07:45:55.535060Z",
     "shell.execute_reply": "2021-08-20T07:45:55.534095Z",
     "shell.execute_reply.started": "2021-08-20T07:45:54.179614Z"
    },
    "tags": []
   },
   "outputs": [
    {
     "name": "stdout",
     "output_type": "stream",
     "text": [
      "Time taken to read a CHEMBL29 parquet file by 'read_parquet()' function: 1.2722344398498535 seconds\n"
     ]
    }
   ],
   "source": [
    "#Reading parquet df\n",
    "start = time.time()\n",
    "parquet_df = pd.read_parquet(\"/home/tandon/DL/Fun+Learning/5minsFame/Df_Parquet/Copy_df.gzip\")\n",
    "end = time.time()\n",
    "parquet_readtime_1 = end - start\n",
    "print(f\"Time taken to read a CHEMBL29 parquet file by 'read_parquet()' function: {parquet_readtime_1} seconds\")"
   ]
  },
  {
   "cell_type": "code",
   "execution_count": 14,
   "id": "logical-flesh",
   "metadata": {
    "execution": {
     "iopub.execute_input": "2021-08-20T07:45:55.536876Z",
     "iopub.status.busy": "2021-08-20T07:45:55.536516Z",
     "iopub.status.idle": "2021-08-20T07:45:55.544723Z",
     "shell.execute_reply": "2021-08-20T07:45:55.544196Z",
     "shell.execute_reply.started": "2021-08-20T07:45:55.536829Z"
    },
    "tags": []
   },
   "outputs": [
    {
     "data": {
      "text/html": [
       "<div>\n",
       "<style scoped>\n",
       "    .dataframe tbody tr th:only-of-type {\n",
       "        vertical-align: middle;\n",
       "    }\n",
       "\n",
       "    .dataframe tbody tr th {\n",
       "        vertical-align: top;\n",
       "    }\n",
       "\n",
       "    .dataframe thead th {\n",
       "        text-align: right;\n",
       "    }\n",
       "</style>\n",
       "<table border=\"1\" class=\"dataframe\">\n",
       "  <thead>\n",
       "    <tr style=\"text-align: right;\">\n",
       "      <th></th>\n",
       "      <th>molregno</th>\n",
       "      <th>canonical_smiles</th>\n",
       "    </tr>\n",
       "  </thead>\n",
       "  <tbody>\n",
       "    <tr>\n",
       "      <th>0</th>\n",
       "      <td>1</td>\n",
       "      <td>Cc1cc(-n2ncc(=O)[nH]c2=O)ccc1C(=O)c1ccccc1Cl</td>\n",
       "    </tr>\n",
       "    <tr>\n",
       "      <th>1</th>\n",
       "      <td>2</td>\n",
       "      <td>Cc1cc(-n2ncc(=O)[nH]c2=O)ccc1C(=O)c1ccc(C#N)cc1</td>\n",
       "    </tr>\n",
       "    <tr>\n",
       "      <th>2</th>\n",
       "      <td>3</td>\n",
       "      <td>Cc1cc(-n2ncc(=O)[nH]c2=O)cc(C)c1C(O)c1ccc(Cl)cc1</td>\n",
       "    </tr>\n",
       "    <tr>\n",
       "      <th>3</th>\n",
       "      <td>4</td>\n",
       "      <td>Cc1ccc(C(=O)c2ccc(-n3ncc(=O)[nH]c3=O)cc2)cc1</td>\n",
       "    </tr>\n",
       "    <tr>\n",
       "      <th>4</th>\n",
       "      <td>5</td>\n",
       "      <td>Cc1cc(-n2ncc(=O)[nH]c2=O)ccc1C(=O)c1ccc(Cl)cc1</td>\n",
       "    </tr>\n",
       "  </tbody>\n",
       "</table>\n",
       "</div>"
      ],
      "text/plain": [
       "   molregno                                  canonical_smiles\n",
       "0         1      Cc1cc(-n2ncc(=O)[nH]c2=O)ccc1C(=O)c1ccccc1Cl\n",
       "1         2   Cc1cc(-n2ncc(=O)[nH]c2=O)ccc1C(=O)c1ccc(C#N)cc1\n",
       "2         3  Cc1cc(-n2ncc(=O)[nH]c2=O)cc(C)c1C(O)c1ccc(Cl)cc1\n",
       "3         4      Cc1ccc(C(=O)c2ccc(-n3ncc(=O)[nH]c3=O)cc2)cc1\n",
       "4         5    Cc1cc(-n2ncc(=O)[nH]c2=O)ccc1C(=O)c1ccc(Cl)cc1"
      ]
     },
     "execution_count": 14,
     "metadata": {},
     "output_type": "execute_result"
    }
   ],
   "source": [
    "parquet_df.head()"
   ]
  },
  {
   "cell_type": "code",
   "execution_count": 15,
   "id": "finite-rebel",
   "metadata": {
    "execution": {
     "iopub.execute_input": "2021-08-20T07:45:55.545529Z",
     "iopub.status.busy": "2021-08-20T07:45:55.545377Z",
     "iopub.status.idle": "2021-08-20T07:45:55.636441Z",
     "shell.execute_reply": "2021-08-20T07:45:55.635419Z",
     "shell.execute_reply.started": "2021-08-20T07:45:55.545510Z"
    },
    "tags": []
   },
   "outputs": [],
   "source": [
    "plot_values = [parquet_readtime_1, pickle_readtime_1, tsv_readtime_1]\n",
    "plot_headers = ['Parquet Read Time' , 'Pickle Read Time', 'TSV Read Time']"
   ]
  },
  {
   "cell_type": "code",
   "execution_count": 16,
   "id": "smooth-hungary",
   "metadata": {
    "execution": {
     "iopub.execute_input": "2021-08-20T07:45:55.638250Z",
     "iopub.status.busy": "2021-08-20T07:45:55.637792Z",
     "iopub.status.idle": "2021-08-20T07:45:55.873543Z",
     "shell.execute_reply": "2021-08-20T07:45:55.872758Z",
     "shell.execute_reply.started": "2021-08-20T07:45:55.638204Z"
    },
    "tags": []
   },
   "outputs": [
    {
     "data": {
      "image/png": "[encoded data removed]",
      "text/plain": [
       "<Figure size 864x576 with 1 Axes>"
      ]
     },
     "metadata": {
      "needs_background": "light"
     },
     "output_type": "display_data"
    }
   ],
   "source": [
    "plt.figure(figsize=(12,8))\n",
    "sns.set_style(\"whitegrid\")\n",
    "sns.barplot(x = plot_headers, y = plot_values)\n",
    "plt.title(\"ChEMBL29 files reading time comparison: Part 1\", size=18)\n",
    "plt.xlabel(\"Different Techniques\", size=15)\n",
    "plt.ylabel(\"Total time taken in seconds (lower the better)\", size=15)\n",
    "\n",
    "plt.show()"
   ]
  },
  {
   "cell_type": "code",
   "execution_count": 17,
   "id": "confused-popularity",
   "metadata": {
    "execution": {
     "iopub.execute_input": "2021-08-20T07:45:55.874440Z",
     "iopub.status.busy": "2021-08-20T07:45:55.874278Z",
     "iopub.status.idle": "2021-08-20T07:45:55.877180Z",
     "shell.execute_reply": "2021-08-20T07:45:55.876609Z",
     "shell.execute_reply.started": "2021-08-20T07:45:55.874421Z"
    },
    "tags": []
   },
   "outputs": [],
   "source": [
    "plot_values = [parquet_writetime_1, pickle_writetime_1, tsv_writetime_1]\n",
    "plot_headers = ['Parquet Write Time' , 'Pickle Write Time', 'TSV Write Time']"
   ]
  },
  {
   "cell_type": "code",
   "execution_count": 18,
   "id": "regional-means",
   "metadata": {
    "execution": {
     "iopub.execute_input": "2021-08-20T07:45:55.877999Z",
     "iopub.status.busy": "2021-08-20T07:45:55.877842Z",
     "iopub.status.idle": "2021-08-20T07:45:56.130078Z",
     "shell.execute_reply": "2021-08-20T07:45:56.129508Z",
     "shell.execute_reply.started": "2021-08-20T07:45:55.877980Z"
    },
    "tags": []
   },
   "outputs": [
    {
     "data": {
      "image/png": "[encoded data removed]",
      "text/plain": [
       "<Figure size 864x576 with 1 Axes>"
      ]
     },
     "metadata": {},
     "output_type": "display_data"
    }
   ],
   "source": [
    "plt.figure(figsize=(12,8))\n",
    "sns.set_style(\"whitegrid\")\n",
    "sns.barplot(x = plot_headers, y = plot_values)\n",
    "plt.title(\"ChEMBL29 files writing time comparison: Part 1\", size=18)\n",
    "plt.xlabel(\"Different Techniques\", size=15)\n",
    "plt.ylabel(\"Total time taken in seconds (lower the better)\", size=15)\n",
    "\n",
    "plt.show()"
   ]
  },
  {
   "cell_type": "code",
   "execution_count": 19,
   "id": "historic-science",
   "metadata": {
    "execution": {
     "iopub.execute_input": "2021-08-20T07:45:56.130916Z",
     "iopub.status.busy": "2021-08-20T07:45:56.130752Z",
     "iopub.status.idle": "2021-08-20T07:45:56.133707Z",
     "shell.execute_reply": "2021-08-20T07:45:56.133147Z",
     "shell.execute_reply.started": "2021-08-20T07:45:56.130896Z"
    },
    "tags": []
   },
   "outputs": [],
   "source": [
    "plot_values = [file_size_parquet_1, file_size_pickle_1, file_size_tsv_1]\n",
    "plot_headers = ['Parquet (gzip) File Size ' , 'Pickle File Size', 'TSV File Size']"
   ]
  },
  {
   "cell_type": "code",
   "execution_count": 20,
   "id": "dietary-initial",
   "metadata": {
    "execution": {
     "iopub.execute_input": "2021-08-20T07:45:56.134599Z",
     "iopub.status.busy": "2021-08-20T07:45:56.134429Z",
     "iopub.status.idle": "2021-08-20T07:45:56.366569Z",
     "shell.execute_reply": "2021-08-20T07:45:56.365763Z",
     "shell.execute_reply.started": "2021-08-20T07:45:56.134579Z"
    },
    "tags": []
   },
   "outputs": [
    {
     "data": {
      "image/png": "[encoded data removed]",
      "text/plain": [
       "<Figure size 864x576 with 1 Axes>"
      ]
     },
     "metadata": {},
     "output_type": "display_data"
    }
   ],
   "source": [
    "plt.figure(figsize=(12,8))\n",
    "sns.set_style(\"whitegrid\")\n",
    "sns.barplot(x = plot_headers, y = plot_values)\n",
    "plt.title(\"ChEMBL29 files size comparison: Part 1\", size=18)\n",
    "plt.xlabel(\"Different File Systems\", size=15)\n",
    "plt.ylabel(\"File size in 'bytes' (lower the better)\", size=15)\n",
    "\n",
    "plt.show()"
   ]
  },
  {
   "cell_type": "markdown",
   "id": "cooked-revision",
   "metadata": {},
   "source": [
    "## Part 2"
   ]
  },
  {
   "cell_type": "code",
   "execution_count": 21,
   "id": "connected-roller",
   "metadata": {
    "execution": {
     "iopub.execute_input": "2021-08-20T07:45:56.367502Z",
     "iopub.status.busy": "2021-08-20T07:45:56.367336Z",
     "iopub.status.idle": "2021-08-20T07:53:28.822175Z",
     "shell.execute_reply": "2021-08-20T07:53:28.821613Z",
     "shell.execute_reply.started": "2021-08-20T07:45:56.367482Z"
    },
    "tags": []
   },
   "outputs": [
    {
     "data": {
      "text/html": [
       "<div>\n",
       "<style scoped>\n",
       "    .dataframe tbody tr th:only-of-type {\n",
       "        vertical-align: middle;\n",
       "    }\n",
       "\n",
       "    .dataframe tbody tr th {\n",
       "        vertical-align: top;\n",
       "    }\n",
       "\n",
       "    .dataframe thead th {\n",
       "        text-align: right;\n",
       "    }\n",
       "</style>\n",
       "<table border=\"1\" class=\"dataframe\">\n",
       "  <thead>\n",
       "    <tr style=\"text-align: right;\">\n",
       "      <th></th>\n",
       "      <th>molregno</th>\n",
       "      <th>Smiles</th>\n",
       "      <th>Selfies</th>\n",
       "      <th>Selfies_List</th>\n",
       "      <th>Selfies_Len</th>\n",
       "    </tr>\n",
       "  </thead>\n",
       "  <tbody>\n",
       "    <tr>\n",
       "      <th>0</th>\n",
       "      <td>1</td>\n",
       "      <td>Cc1cc(-n2ncc(=O)[nH]c2=O)ccc1C(=O)c1ccccc1Cl</td>\n",
       "      <td>[C][C][=C][C][Branch1_1][=N][N][N][=C][C][Bran...</td>\n",
       "      <td>[[C], [C], [=C], [C], [Branch1_1], [=N], [N], ...</td>\n",
       "      <td>36</td>\n",
       "    </tr>\n",
       "    <tr>\n",
       "      <th>1</th>\n",
       "      <td>2</td>\n",
       "      <td>Cc1cc(-n2ncc(=O)[nH]c2=O)ccc1C(=O)c1ccc(C#N)cc1</td>\n",
       "      <td>[C][C][=C][C][Branch1_1][=N][N][N][=C][C][Bran...</td>\n",
       "      <td>[[C], [C], [=C], [C], [Branch1_1], [=N], [N], ...</td>\n",
       "      <td>39</td>\n",
       "    </tr>\n",
       "    <tr>\n",
       "      <th>2</th>\n",
       "      <td>3</td>\n",
       "      <td>Cc1cc(-n2ncc(=O)[nH]c2=O)cc(C)c1C(O)c1ccc(Cl)cc1</td>\n",
       "      <td>[C][C][=C][C][Branch1_1][=N][N][N][=C][C][Bran...</td>\n",
       "      <td>[[C], [C], [=C], [C], [Branch1_1], [=N], [N], ...</td>\n",
       "      <td>41</td>\n",
       "    </tr>\n",
       "    <tr>\n",
       "      <th>3</th>\n",
       "      <td>4</td>\n",
       "      <td>Cc1ccc(C(=O)c2ccc(-n3ncc(=O)[nH]c3=O)cc2)cc1</td>\n",
       "      <td>[C][C][=C][C][=C][Branch2_1][Ring1][O][C][Bran...</td>\n",
       "      <td>[[C], [C], [=C], [C], [=C], [Branch2_1], [Ring...</td>\n",
       "      <td>39</td>\n",
       "    </tr>\n",
       "    <tr>\n",
       "      <th>4</th>\n",
       "      <td>5</td>\n",
       "      <td>Cc1cc(-n2ncc(=O)[nH]c2=O)ccc1C(=O)c1ccc(Cl)cc1</td>\n",
       "      <td>[C][C][=C][C][Branch1_1][=N][N][N][=C][C][Bran...</td>\n",
       "      <td>[[C], [C], [=C], [C], [Branch1_1], [=N], [N], ...</td>\n",
       "      <td>38</td>\n",
       "    </tr>\n",
       "  </tbody>\n",
       "</table>\n",
       "</div>"
      ],
      "text/plain": [
       "   molregno                                            Smiles  \\\n",
       "0         1      Cc1cc(-n2ncc(=O)[nH]c2=O)ccc1C(=O)c1ccccc1Cl   \n",
       "1         2   Cc1cc(-n2ncc(=O)[nH]c2=O)ccc1C(=O)c1ccc(C#N)cc1   \n",
       "2         3  Cc1cc(-n2ncc(=O)[nH]c2=O)cc(C)c1C(O)c1ccc(Cl)cc1   \n",
       "3         4      Cc1ccc(C(=O)c2ccc(-n3ncc(=O)[nH]c3=O)cc2)cc1   \n",
       "4         5    Cc1cc(-n2ncc(=O)[nH]c2=O)ccc1C(=O)c1ccc(Cl)cc1   \n",
       "\n",
       "                                             Selfies  \\\n",
       "0  [C][C][=C][C][Branch1_1][=N][N][N][=C][C][Bran...   \n",
       "1  [C][C][=C][C][Branch1_1][=N][N][N][=C][C][Bran...   \n",
       "2  [C][C][=C][C][Branch1_1][=N][N][N][=C][C][Bran...   \n",
       "3  [C][C][=C][C][=C][Branch2_1][Ring1][O][C][Bran...   \n",
       "4  [C][C][=C][C][Branch1_1][=N][N][N][=C][C][Bran...   \n",
       "\n",
       "                                        Selfies_List  Selfies_Len  \n",
       "0  [[C], [C], [=C], [C], [Branch1_1], [=N], [N], ...           36  \n",
       "1  [[C], [C], [=C], [C], [Branch1_1], [=N], [N], ...           39  \n",
       "2  [[C], [C], [=C], [C], [Branch1_1], [=N], [N], ...           41  \n",
       "3  [[C], [C], [=C], [C], [=C], [Branch2_1], [Ring...           39  \n",
       "4  [[C], [C], [=C], [C], [Branch1_1], [=N], [N], ...           38  "
      ]
     },
     "execution_count": 21,
     "metadata": {},
     "output_type": "execute_result"
    }
   ],
   "source": [
    "###Performing column operations using in-house packages\n",
    "\n",
    "df.rename(columns = {'canonical_smiles':'Smiles'}, inplace = True)\n",
    "df = stv.add_selfies(df)\n",
    "df = stv.add_selfies_list(df)\n",
    "df.head()"
   ]
  },
  {
   "cell_type": "code",
   "execution_count": 22,
   "id": "helpful-routine",
   "metadata": {
    "execution": {
     "iopub.execute_input": "2021-08-20T07:53:28.823064Z",
     "iopub.status.busy": "2021-08-20T07:53:28.822920Z",
     "iopub.status.idle": "2021-08-20T07:53:58.511294Z",
     "shell.execute_reply": "2021-08-20T07:53:58.510664Z",
     "shell.execute_reply.started": "2021-08-20T07:53:28.823048Z"
    },
    "tags": []
   },
   "outputs": [
    {
     "name": "stdout",
     "output_type": "stream",
     "text": [
      "Time taken to write a wider CHEMBL29 dataframe to a standard tsv file by the Pandas 'to_csv()' function: 29.68435573577881 seconds\n"
     ]
    }
   ],
   "source": [
    "#Writing time tsv 2\n",
    "start = time.time()\n",
    "df.to_csv('Copy_wider_df.tsv', sep = '\\t', index = False)\n",
    "end = time.time()\n",
    "tsv_writetime_2 = end - start\n",
    "print(f\"Time taken to write a wider CHEMBL29 dataframe to a standard tsv file by the Pandas 'to_csv()' function: {tsv_writetime_2} seconds\")"
   ]
  },
  {
   "cell_type": "code",
   "execution_count": 23,
   "id": "suspended-black",
   "metadata": {
    "execution": {
     "iopub.execute_input": "2021-08-20T07:53:58.512175Z",
     "iopub.status.busy": "2021-08-20T07:53:58.512032Z",
     "iopub.status.idle": "2021-08-20T07:53:58.515524Z",
     "shell.execute_reply": "2021-08-20T07:53:58.514927Z",
     "shell.execute_reply.started": "2021-08-20T07:53:58.512157Z"
    },
    "tags": []
   },
   "outputs": [
    {
     "name": "stdout",
     "output_type": "stream",
     "text": [
      "1674276192\n"
     ]
    }
   ],
   "source": [
    "file_size_tsv_2 = os.path.getsize('Copy_wider_df.tsv')\n",
    "print(file_size_tsv_2)"
   ]
  },
  {
   "cell_type": "code",
   "execution_count": 24,
   "id": "controlled-occupation",
   "metadata": {
    "execution": {
     "iopub.execute_input": "2021-08-20T07:53:58.516405Z",
     "iopub.status.busy": "2021-08-20T07:53:58.516244Z",
     "iopub.status.idle": "2021-08-20T07:54:11.971367Z",
     "shell.execute_reply": "2021-08-20T07:54:11.970732Z",
     "shell.execute_reply.started": "2021-08-20T07:53:58.516385Z"
    },
    "tags": []
   },
   "outputs": [
    {
     "name": "stdout",
     "output_type": "stream",
     "text": [
      "Time taken to read a wider CHEMBL29 tsv file by standard 'read_csv()' function: 13.362464427947998 seconds\n"
     ]
    }
   ],
   "source": [
    "#Reading time tsv 2\n",
    "start = time.time()\n",
    "df_wider_tsv = pd.read_csv('Copy_wider_df.tsv', sep = '\\t')\n",
    "end = time.time()\n",
    "tsv_readtime_2 = end - start\n",
    "print(f\"Time taken to read a wider CHEMBL29 tsv file by standard 'read_csv()' function: {tsv_readtime_2} seconds\")"
   ]
  },
  {
   "cell_type": "code",
   "execution_count": 25,
   "id": "bibliographic-protocol",
   "metadata": {
    "execution": {
     "iopub.execute_input": "2021-08-20T07:54:11.972272Z",
     "iopub.status.busy": "2021-08-20T07:54:11.972125Z",
     "iopub.status.idle": "2021-08-20T07:54:11.979461Z",
     "shell.execute_reply": "2021-08-20T07:54:11.978935Z",
     "shell.execute_reply.started": "2021-08-20T07:54:11.972254Z"
    },
    "tags": []
   },
   "outputs": [
    {
     "data": {
      "text/html": [
       "<div>\n",
       "<style scoped>\n",
       "    .dataframe tbody tr th:only-of-type {\n",
       "        vertical-align: middle;\n",
       "    }\n",
       "\n",
       "    .dataframe tbody tr th {\n",
       "        vertical-align: top;\n",
       "    }\n",
       "\n",
       "    .dataframe thead th {\n",
       "        text-align: right;\n",
       "    }\n",
       "</style>\n",
       "<table border=\"1\" class=\"dataframe\">\n",
       "  <thead>\n",
       "    <tr style=\"text-align: right;\">\n",
       "      <th></th>\n",
       "      <th>molregno</th>\n",
       "      <th>Smiles</th>\n",
       "      <th>Selfies</th>\n",
       "      <th>Selfies_List</th>\n",
       "      <th>Selfies_Len</th>\n",
       "    </tr>\n",
       "  </thead>\n",
       "  <tbody>\n",
       "    <tr>\n",
       "      <th>0</th>\n",
       "      <td>1</td>\n",
       "      <td>Cc1cc(-n2ncc(=O)[nH]c2=O)ccc1C(=O)c1ccccc1Cl</td>\n",
       "      <td>[C][C][=C][C][Branch1_1][=N][N][N][=C][C][Bran...</td>\n",
       "      <td>['[C]', '[C]', '[=C]', '[C]', '[Branch1_1]', '...</td>\n",
       "      <td>36</td>\n",
       "    </tr>\n",
       "    <tr>\n",
       "      <th>1</th>\n",
       "      <td>2</td>\n",
       "      <td>Cc1cc(-n2ncc(=O)[nH]c2=O)ccc1C(=O)c1ccc(C#N)cc1</td>\n",
       "      <td>[C][C][=C][C][Branch1_1][=N][N][N][=C][C][Bran...</td>\n",
       "      <td>['[C]', '[C]', '[=C]', '[C]', '[Branch1_1]', '...</td>\n",
       "      <td>39</td>\n",
       "    </tr>\n",
       "    <tr>\n",
       "      <th>2</th>\n",
       "      <td>3</td>\n",
       "      <td>Cc1cc(-n2ncc(=O)[nH]c2=O)cc(C)c1C(O)c1ccc(Cl)cc1</td>\n",
       "      <td>[C][C][=C][C][Branch1_1][=N][N][N][=C][C][Bran...</td>\n",
       "      <td>['[C]', '[C]', '[=C]', '[C]', '[Branch1_1]', '...</td>\n",
       "      <td>41</td>\n",
       "    </tr>\n",
       "    <tr>\n",
       "      <th>3</th>\n",
       "      <td>4</td>\n",
       "      <td>Cc1ccc(C(=O)c2ccc(-n3ncc(=O)[nH]c3=O)cc2)cc1</td>\n",
       "      <td>[C][C][=C][C][=C][Branch2_1][Ring1][O][C][Bran...</td>\n",
       "      <td>['[C]', '[C]', '[=C]', '[C]', '[=C]', '[Branch...</td>\n",
       "      <td>39</td>\n",
       "    </tr>\n",
       "    <tr>\n",
       "      <th>4</th>\n",
       "      <td>5</td>\n",
       "      <td>Cc1cc(-n2ncc(=O)[nH]c2=O)ccc1C(=O)c1ccc(Cl)cc1</td>\n",
       "      <td>[C][C][=C][C][Branch1_1][=N][N][N][=C][C][Bran...</td>\n",
       "      <td>['[C]', '[C]', '[=C]', '[C]', '[Branch1_1]', '...</td>\n",
       "      <td>38</td>\n",
       "    </tr>\n",
       "  </tbody>\n",
       "</table>\n",
       "</div>"
      ],
      "text/plain": [
       "   molregno                                            Smiles  \\\n",
       "0         1      Cc1cc(-n2ncc(=O)[nH]c2=O)ccc1C(=O)c1ccccc1Cl   \n",
       "1         2   Cc1cc(-n2ncc(=O)[nH]c2=O)ccc1C(=O)c1ccc(C#N)cc1   \n",
       "2         3  Cc1cc(-n2ncc(=O)[nH]c2=O)cc(C)c1C(O)c1ccc(Cl)cc1   \n",
       "3         4      Cc1ccc(C(=O)c2ccc(-n3ncc(=O)[nH]c3=O)cc2)cc1   \n",
       "4         5    Cc1cc(-n2ncc(=O)[nH]c2=O)ccc1C(=O)c1ccc(Cl)cc1   \n",
       "\n",
       "                                             Selfies  \\\n",
       "0  [C][C][=C][C][Branch1_1][=N][N][N][=C][C][Bran...   \n",
       "1  [C][C][=C][C][Branch1_1][=N][N][N][=C][C][Bran...   \n",
       "2  [C][C][=C][C][Branch1_1][=N][N][N][=C][C][Bran...   \n",
       "3  [C][C][=C][C][=C][Branch2_1][Ring1][O][C][Bran...   \n",
       "4  [C][C][=C][C][Branch1_1][=N][N][N][=C][C][Bran...   \n",
       "\n",
       "                                        Selfies_List  Selfies_Len  \n",
       "0  ['[C]', '[C]', '[=C]', '[C]', '[Branch1_1]', '...           36  \n",
       "1  ['[C]', '[C]', '[=C]', '[C]', '[Branch1_1]', '...           39  \n",
       "2  ['[C]', '[C]', '[=C]', '[C]', '[Branch1_1]', '...           41  \n",
       "3  ['[C]', '[C]', '[=C]', '[C]', '[=C]', '[Branch...           39  \n",
       "4  ['[C]', '[C]', '[=C]', '[C]', '[Branch1_1]', '...           38  "
      ]
     },
     "execution_count": 25,
     "metadata": {},
     "output_type": "execute_result"
    }
   ],
   "source": [
    "df_wider_tsv.head()\n",
    "#Notice that elements under the column 'Selfies_List' are somehow compromised"
   ]
  },
  {
   "cell_type": "code",
   "execution_count": 26,
   "id": "renewable-advice",
   "metadata": {
    "execution": {
     "iopub.execute_input": "2021-08-20T07:54:11.981578Z",
     "iopub.status.busy": "2021-08-20T07:54:11.981424Z",
     "iopub.status.idle": "2021-08-20T07:54:12.080505Z",
     "shell.execute_reply": "2021-08-20T07:54:12.079854Z",
     "shell.execute_reply.started": "2021-08-20T07:54:11.981559Z"
    },
    "tags": []
   },
   "outputs": [
    {
     "data": {
      "text/plain": [
       "['[C]',\n",
       " '[C]',\n",
       " '[=C]',\n",
       " '[C]',\n",
       " '[Branch1_1]',\n",
       " '[=N]',\n",
       " '[N]',\n",
       " '[N]',\n",
       " '[=C]',\n",
       " '[C]',\n",
       " '[Branch1_2]',\n",
       " '[C]',\n",
       " '[=O]',\n",
       " '[NHexpl]',\n",
       " '[C]',\n",
       " '[Ring1]',\n",
       " '[Branch1_3]',\n",
       " '[=O]',\n",
       " '[=C]',\n",
       " '[C]',\n",
       " '[=C]',\n",
       " '[Ring1]',\n",
       " '[=C]',\n",
       " '[C]',\n",
       " '[Branch1_2]',\n",
       " '[C]',\n",
       " '[=O]',\n",
       " '[C]',\n",
       " '[=C]',\n",
       " '[C]',\n",
       " '[=C]',\n",
       " '[C]',\n",
       " '[=C]',\n",
       " '[Ring1]',\n",
       " '[Branch1_2]',\n",
       " '[Cl]']"
      ]
     },
     "execution_count": 26,
     "metadata": {},
     "output_type": "execute_result"
    }
   ],
   "source": [
    "df['Selfies_List'][0]"
   ]
  },
  {
   "cell_type": "code",
   "execution_count": 27,
   "id": "infrared-manner",
   "metadata": {
    "execution": {
     "iopub.execute_input": "2021-08-20T07:54:12.081891Z",
     "iopub.status.busy": "2021-08-20T07:54:12.081662Z",
     "iopub.status.idle": "2021-08-20T07:54:12.172397Z",
     "shell.execute_reply": "2021-08-20T07:54:12.171661Z",
     "shell.execute_reply.started": "2021-08-20T07:54:12.081865Z"
    },
    "tags": []
   },
   "outputs": [
    {
     "data": {
      "text/plain": [
       "list"
      ]
     },
     "execution_count": 27,
     "metadata": {},
     "output_type": "execute_result"
    }
   ],
   "source": [
    "type(df['Selfies_List'][0])"
   ]
  },
  {
   "cell_type": "code",
   "execution_count": 28,
   "id": "identical-sponsorship",
   "metadata": {
    "execution": {
     "iopub.execute_input": "2021-08-20T07:54:12.174027Z",
     "iopub.status.busy": "2021-08-20T07:54:12.173699Z",
     "iopub.status.idle": "2021-08-20T07:54:12.264472Z",
     "shell.execute_reply": "2021-08-20T07:54:12.263476Z",
     "shell.execute_reply.started": "2021-08-20T07:54:12.173986Z"
    },
    "tags": []
   },
   "outputs": [
    {
     "data": {
      "text/plain": [
       "\"['[C]', '[C]', '[=C]', '[C]', '[Branch1_1]', '[=N]', '[N]', '[N]', '[=C]', '[C]', '[Branch1_2]', '[C]', '[=O]', '[NHexpl]', '[C]', '[Ring1]', '[Branch1_3]', '[=O]', '[=C]', '[C]', '[=C]', '[Ring1]', '[=C]', '[C]', '[Branch1_2]', '[C]', '[=O]', '[C]', '[=C]', '[C]', '[=C]', '[C]', '[=C]', '[Ring1]', '[Branch1_2]', '[Cl]']\""
      ]
     },
     "execution_count": 28,
     "metadata": {},
     "output_type": "execute_result"
    }
   ],
   "source": [
    "df_wider_tsv['Selfies_List'][0]"
   ]
  },
  {
   "cell_type": "code",
   "execution_count": 29,
   "id": "wrapped-mainland",
   "metadata": {
    "execution": {
     "iopub.execute_input": "2021-08-20T07:54:12.265967Z",
     "iopub.status.busy": "2021-08-20T07:54:12.265661Z",
     "iopub.status.idle": "2021-08-20T07:54:12.355742Z",
     "shell.execute_reply": "2021-08-20T07:54:12.354714Z",
     "shell.execute_reply.started": "2021-08-20T07:54:12.265929Z"
    },
    "tags": []
   },
   "outputs": [
    {
     "data": {
      "text/plain": [
       "str"
      ]
     },
     "execution_count": 29,
     "metadata": {},
     "output_type": "execute_result"
    }
   ],
   "source": [
    "type(df_wider_tsv['Selfies_List'][0])"
   ]
  },
  {
   "cell_type": "code",
   "execution_count": 30,
   "id": "enclosed-intranet",
   "metadata": {
    "execution": {
     "iopub.execute_input": "2021-08-20T07:54:12.357421Z",
     "iopub.status.busy": "2021-08-20T07:54:12.357090Z",
     "iopub.status.idle": "2021-08-20T07:54:48.164220Z",
     "shell.execute_reply": "2021-08-20T07:54:48.163276Z",
     "shell.execute_reply.started": "2021-08-20T07:54:12.357379Z"
    },
    "tags": []
   },
   "outputs": [
    {
     "name": "stdout",
     "output_type": "stream",
     "text": [
      "Time taken to write a wider CHEMBL29 dataframe as a pickled object file  by the Pandas 'to_pickle()' function: 35.71731519699097 seconds\n"
     ]
    }
   ],
   "source": [
    "#Writing time to pickle 2\n",
    "start = time.time()\n",
    "df.to_pickle('Copy_wider_df.pkl')\n",
    "end = time.time()\n",
    "pickle_writetime_2 = end - start\n",
    "print(f\"Time taken to write a wider CHEMBL29 dataframe as a pickled object file  by the Pandas 'to_pickle()' function: {pickle_writetime_2} seconds\")"
   ]
  },
  {
   "cell_type": "code",
   "execution_count": 31,
   "id": "authorized-communist",
   "metadata": {
    "execution": {
     "iopub.execute_input": "2021-08-20T07:54:48.165086Z",
     "iopub.status.busy": "2021-08-20T07:54:48.164937Z",
     "iopub.status.idle": "2021-08-20T07:55:06.757182Z",
     "shell.execute_reply": "2021-08-20T07:55:06.756258Z",
     "shell.execute_reply.started": "2021-08-20T07:54:48.165068Z"
    },
    "tags": []
   },
   "outputs": [
    {
     "name": "stdout",
     "output_type": "stream",
     "text": [
      "Time taken to read a CHEMBL29 pickled file by 'read_pickle()' function: 18.587334394454956 seconds\n"
     ]
    }
   ],
   "source": [
    "#Reading pickle df 2\n",
    "start = time.time()\n",
    "unpickled_wider_df = pd.read_pickle(\"Copy_wider_df.pkl\")\n",
    "end = time.time()\n",
    "pickle_readtime_2 = end - start\n",
    "print(f\"Time taken to read a CHEMBL29 pickled file by 'read_pickle()' function: {pickle_readtime_2} seconds\")"
   ]
  },
  {
   "cell_type": "code",
   "execution_count": 32,
   "id": "champion-montana",
   "metadata": {
    "execution": {
     "iopub.execute_input": "2021-08-20T07:55:06.758252Z",
     "iopub.status.busy": "2021-08-20T07:55:06.758106Z",
     "iopub.status.idle": "2021-08-20T07:55:06.769242Z",
     "shell.execute_reply": "2021-08-20T07:55:06.768538Z",
     "shell.execute_reply.started": "2021-08-20T07:55:06.758234Z"
    },
    "tags": []
   },
   "outputs": [
    {
     "data": {
      "text/html": [
       "<div>\n",
       "<style scoped>\n",
       "    .dataframe tbody tr th:only-of-type {\n",
       "        vertical-align: middle;\n",
       "    }\n",
       "\n",
       "    .dataframe tbody tr th {\n",
       "        vertical-align: top;\n",
       "    }\n",
       "\n",
       "    .dataframe thead th {\n",
       "        text-align: right;\n",
       "    }\n",
       "</style>\n",
       "<table border=\"1\" class=\"dataframe\">\n",
       "  <thead>\n",
       "    <tr style=\"text-align: right;\">\n",
       "      <th></th>\n",
       "      <th>molregno</th>\n",
       "      <th>Smiles</th>\n",
       "      <th>Selfies</th>\n",
       "      <th>Selfies_List</th>\n",
       "      <th>Selfies_Len</th>\n",
       "    </tr>\n",
       "  </thead>\n",
       "  <tbody>\n",
       "    <tr>\n",
       "      <th>0</th>\n",
       "      <td>1</td>\n",
       "      <td>Cc1cc(-n2ncc(=O)[nH]c2=O)ccc1C(=O)c1ccccc1Cl</td>\n",
       "      <td>[C][C][=C][C][Branch1_1][=N][N][N][=C][C][Bran...</td>\n",
       "      <td>[[C], [C], [=C], [C], [Branch1_1], [=N], [N], ...</td>\n",
       "      <td>36</td>\n",
       "    </tr>\n",
       "    <tr>\n",
       "      <th>1</th>\n",
       "      <td>2</td>\n",
       "      <td>Cc1cc(-n2ncc(=O)[nH]c2=O)ccc1C(=O)c1ccc(C#N)cc1</td>\n",
       "      <td>[C][C][=C][C][Branch1_1][=N][N][N][=C][C][Bran...</td>\n",
       "      <td>[[C], [C], [=C], [C], [Branch1_1], [=N], [N], ...</td>\n",
       "      <td>39</td>\n",
       "    </tr>\n",
       "    <tr>\n",
       "      <th>2</th>\n",
       "      <td>3</td>\n",
       "      <td>Cc1cc(-n2ncc(=O)[nH]c2=O)cc(C)c1C(O)c1ccc(Cl)cc1</td>\n",
       "      <td>[C][C][=C][C][Branch1_1][=N][N][N][=C][C][Bran...</td>\n",
       "      <td>[[C], [C], [=C], [C], [Branch1_1], [=N], [N], ...</td>\n",
       "      <td>41</td>\n",
       "    </tr>\n",
       "    <tr>\n",
       "      <th>3</th>\n",
       "      <td>4</td>\n",
       "      <td>Cc1ccc(C(=O)c2ccc(-n3ncc(=O)[nH]c3=O)cc2)cc1</td>\n",
       "      <td>[C][C][=C][C][=C][Branch2_1][Ring1][O][C][Bran...</td>\n",
       "      <td>[[C], [C], [=C], [C], [=C], [Branch2_1], [Ring...</td>\n",
       "      <td>39</td>\n",
       "    </tr>\n",
       "    <tr>\n",
       "      <th>4</th>\n",
       "      <td>5</td>\n",
       "      <td>Cc1cc(-n2ncc(=O)[nH]c2=O)ccc1C(=O)c1ccc(Cl)cc1</td>\n",
       "      <td>[C][C][=C][C][Branch1_1][=N][N][N][=C][C][Bran...</td>\n",
       "      <td>[[C], [C], [=C], [C], [Branch1_1], [=N], [N], ...</td>\n",
       "      <td>38</td>\n",
       "    </tr>\n",
       "  </tbody>\n",
       "</table>\n",
       "</div>"
      ],
      "text/plain": [
       "   molregno                                            Smiles  \\\n",
       "0         1      Cc1cc(-n2ncc(=O)[nH]c2=O)ccc1C(=O)c1ccccc1Cl   \n",
       "1         2   Cc1cc(-n2ncc(=O)[nH]c2=O)ccc1C(=O)c1ccc(C#N)cc1   \n",
       "2         3  Cc1cc(-n2ncc(=O)[nH]c2=O)cc(C)c1C(O)c1ccc(Cl)cc1   \n",
       "3         4      Cc1ccc(C(=O)c2ccc(-n3ncc(=O)[nH]c3=O)cc2)cc1   \n",
       "4         5    Cc1cc(-n2ncc(=O)[nH]c2=O)ccc1C(=O)c1ccc(Cl)cc1   \n",
       "\n",
       "                                             Selfies  \\\n",
       "0  [C][C][=C][C][Branch1_1][=N][N][N][=C][C][Bran...   \n",
       "1  [C][C][=C][C][Branch1_1][=N][N][N][=C][C][Bran...   \n",
       "2  [C][C][=C][C][Branch1_1][=N][N][N][=C][C][Bran...   \n",
       "3  [C][C][=C][C][=C][Branch2_1][Ring1][O][C][Bran...   \n",
       "4  [C][C][=C][C][Branch1_1][=N][N][N][=C][C][Bran...   \n",
       "\n",
       "                                        Selfies_List  Selfies_Len  \n",
       "0  [[C], [C], [=C], [C], [Branch1_1], [=N], [N], ...           36  \n",
       "1  [[C], [C], [=C], [C], [Branch1_1], [=N], [N], ...           39  \n",
       "2  [[C], [C], [=C], [C], [Branch1_1], [=N], [N], ...           41  \n",
       "3  [[C], [C], [=C], [C], [=C], [Branch2_1], [Ring...           39  \n",
       "4  [[C], [C], [=C], [C], [Branch1_1], [=N], [N], ...           38  "
      ]
     },
     "execution_count": 32,
     "metadata": {},
     "output_type": "execute_result"
    }
   ],
   "source": [
    "unpickled_wider_df.head()\n",
    "#Details maintained"
   ]
  },
  {
   "cell_type": "code",
   "execution_count": 33,
   "id": "referenced-generator",
   "metadata": {
    "execution": {
     "iopub.execute_input": "2021-08-20T07:55:06.770108Z",
     "iopub.status.busy": "2021-08-20T07:55:06.769961Z",
     "iopub.status.idle": "2021-08-20T07:55:06.863371Z",
     "shell.execute_reply": "2021-08-20T07:55:06.862476Z",
     "shell.execute_reply.started": "2021-08-20T07:55:06.770086Z"
    },
    "tags": []
   },
   "outputs": [
    {
     "name": "stdout",
     "output_type": "stream",
     "text": [
      "1597908168\n"
     ]
    }
   ],
   "source": [
    "file_size_pickle_2 = os.path.getsize('Copy_wider_df.pkl')\n",
    "print(file_size_pickle_2)"
   ]
  },
  {
   "cell_type": "code",
   "execution_count": 34,
   "id": "gothic-lounge",
   "metadata": {
    "execution": {
     "iopub.execute_input": "2021-08-20T07:55:06.864943Z",
     "iopub.status.busy": "2021-08-20T07:55:06.864620Z",
     "iopub.status.idle": "2021-08-20T07:55:48.608034Z",
     "shell.execute_reply": "2021-08-20T07:55:48.607105Z",
     "shell.execute_reply.started": "2021-08-20T07:55:06.864903Z"
    },
    "tags": []
   },
   "outputs": [
    {
     "name": "stdout",
     "output_type": "stream",
     "text": [
      "Time taken to write a wider CHEMBL29 dataframe to the binary parquet format by the Pandas 'to_parquet()' function: 41.652668714523315 seconds\n"
     ]
    }
   ],
   "source": [
    "#Writing time to parquet 2\n",
    "start = time.time()\n",
    "df.to_parquet('Copy_wider_df.gzip', compression='gzip')\n",
    "end = time.time()\n",
    "parquet_writetime_2 = end - start\n",
    "print(f\"Time taken to write a wider CHEMBL29 dataframe to the binary parquet format by the Pandas 'to_parquet()' function: {parquet_writetime_2} seconds\")"
   ]
  },
  {
   "cell_type": "code",
   "execution_count": 35,
   "id": "secure-channel",
   "metadata": {
    "execution": {
     "iopub.execute_input": "2021-08-20T07:55:48.609030Z",
     "iopub.status.busy": "2021-08-20T07:55:48.608888Z",
     "iopub.status.idle": "2021-08-20T07:55:57.072025Z",
     "shell.execute_reply": "2021-08-20T07:55:57.070723Z",
     "shell.execute_reply.started": "2021-08-20T07:55:48.609013Z"
    },
    "tags": []
   },
   "outputs": [
    {
     "name": "stdout",
     "output_type": "stream",
     "text": [
      "Time taken to read a wider CHEMBL29 parquet file by 'read_parquet()' function: 8.457916975021362 seconds\n"
     ]
    }
   ],
   "source": [
    "#Reading parquet df 2 \n",
    "start = time.time()\n",
    "parquet_wider_df = pd.read_parquet(\"Copy_wider_df.gzip\")\n",
    "end = time.time()\n",
    "parquet_readtime_2 = end - start\n",
    "print(f\"Time taken to read a wider CHEMBL29 parquet file by 'read_parquet()' function: {parquet_readtime_2} seconds\")"
   ]
  },
  {
   "cell_type": "code",
   "execution_count": 36,
   "id": "actual-hawaiian",
   "metadata": {
    "execution": {
     "iopub.execute_input": "2021-08-20T07:55:57.073869Z",
     "iopub.status.busy": "2021-08-20T07:55:57.073519Z",
     "iopub.status.idle": "2021-08-20T07:55:57.086656Z",
     "shell.execute_reply": "2021-08-20T07:55:57.086134Z",
     "shell.execute_reply.started": "2021-08-20T07:55:57.073824Z"
    },
    "tags": []
   },
   "outputs": [
    {
     "data": {
      "text/html": [
       "<div>\n",
       "<style scoped>\n",
       "    .dataframe tbody tr th:only-of-type {\n",
       "        vertical-align: middle;\n",
       "    }\n",
       "\n",
       "    .dataframe tbody tr th {\n",
       "        vertical-align: top;\n",
       "    }\n",
       "\n",
       "    .dataframe thead th {\n",
       "        text-align: right;\n",
       "    }\n",
       "</style>\n",
       "<table border=\"1\" class=\"dataframe\">\n",
       "  <thead>\n",
       "    <tr style=\"text-align: right;\">\n",
       "      <th></th>\n",
       "      <th>molregno</th>\n",
       "      <th>Smiles</th>\n",
       "      <th>Selfies</th>\n",
       "      <th>Selfies_List</th>\n",
       "      <th>Selfies_Len</th>\n",
       "    </tr>\n",
       "  </thead>\n",
       "  <tbody>\n",
       "    <tr>\n",
       "      <th>0</th>\n",
       "      <td>1</td>\n",
       "      <td>Cc1cc(-n2ncc(=O)[nH]c2=O)ccc1C(=O)c1ccccc1Cl</td>\n",
       "      <td>[C][C][=C][C][Branch1_1][=N][N][N][=C][C][Bran...</td>\n",
       "      <td>[[C], [C], [=C], [C], [Branch1_1], [=N], [N], ...</td>\n",
       "      <td>36</td>\n",
       "    </tr>\n",
       "    <tr>\n",
       "      <th>1</th>\n",
       "      <td>2</td>\n",
       "      <td>Cc1cc(-n2ncc(=O)[nH]c2=O)ccc1C(=O)c1ccc(C#N)cc1</td>\n",
       "      <td>[C][C][=C][C][Branch1_1][=N][N][N][=C][C][Bran...</td>\n",
       "      <td>[[C], [C], [=C], [C], [Branch1_1], [=N], [N], ...</td>\n",
       "      <td>39</td>\n",
       "    </tr>\n",
       "    <tr>\n",
       "      <th>2</th>\n",
       "      <td>3</td>\n",
       "      <td>Cc1cc(-n2ncc(=O)[nH]c2=O)cc(C)c1C(O)c1ccc(Cl)cc1</td>\n",
       "      <td>[C][C][=C][C][Branch1_1][=N][N][N][=C][C][Bran...</td>\n",
       "      <td>[[C], [C], [=C], [C], [Branch1_1], [=N], [N], ...</td>\n",
       "      <td>41</td>\n",
       "    </tr>\n",
       "    <tr>\n",
       "      <th>3</th>\n",
       "      <td>4</td>\n",
       "      <td>Cc1ccc(C(=O)c2ccc(-n3ncc(=O)[nH]c3=O)cc2)cc1</td>\n",
       "      <td>[C][C][=C][C][=C][Branch2_1][Ring1][O][C][Bran...</td>\n",
       "      <td>[[C], [C], [=C], [C], [=C], [Branch2_1], [Ring...</td>\n",
       "      <td>39</td>\n",
       "    </tr>\n",
       "    <tr>\n",
       "      <th>4</th>\n",
       "      <td>5</td>\n",
       "      <td>Cc1cc(-n2ncc(=O)[nH]c2=O)ccc1C(=O)c1ccc(Cl)cc1</td>\n",
       "      <td>[C][C][=C][C][Branch1_1][=N][N][N][=C][C][Bran...</td>\n",
       "      <td>[[C], [C], [=C], [C], [Branch1_1], [=N], [N], ...</td>\n",
       "      <td>38</td>\n",
       "    </tr>\n",
       "  </tbody>\n",
       "</table>\n",
       "</div>"
      ],
      "text/plain": [
       "   molregno                                            Smiles  \\\n",
       "0         1      Cc1cc(-n2ncc(=O)[nH]c2=O)ccc1C(=O)c1ccccc1Cl   \n",
       "1         2   Cc1cc(-n2ncc(=O)[nH]c2=O)ccc1C(=O)c1ccc(C#N)cc1   \n",
       "2         3  Cc1cc(-n2ncc(=O)[nH]c2=O)cc(C)c1C(O)c1ccc(Cl)cc1   \n",
       "3         4      Cc1ccc(C(=O)c2ccc(-n3ncc(=O)[nH]c3=O)cc2)cc1   \n",
       "4         5    Cc1cc(-n2ncc(=O)[nH]c2=O)ccc1C(=O)c1ccc(Cl)cc1   \n",
       "\n",
       "                                             Selfies  \\\n",
       "0  [C][C][=C][C][Branch1_1][=N][N][N][=C][C][Bran...   \n",
       "1  [C][C][=C][C][Branch1_1][=N][N][N][=C][C][Bran...   \n",
       "2  [C][C][=C][C][Branch1_1][=N][N][N][=C][C][Bran...   \n",
       "3  [C][C][=C][C][=C][Branch2_1][Ring1][O][C][Bran...   \n",
       "4  [C][C][=C][C][Branch1_1][=N][N][N][=C][C][Bran...   \n",
       "\n",
       "                                        Selfies_List  Selfies_Len  \n",
       "0  [[C], [C], [=C], [C], [Branch1_1], [=N], [N], ...           36  \n",
       "1  [[C], [C], [=C], [C], [Branch1_1], [=N], [N], ...           39  \n",
       "2  [[C], [C], [=C], [C], [Branch1_1], [=N], [N], ...           41  \n",
       "3  [[C], [C], [=C], [C], [=C], [Branch2_1], [Ring...           39  \n",
       "4  [[C], [C], [=C], [C], [Branch1_1], [=N], [N], ...           38  "
      ]
     },
     "execution_count": 36,
     "metadata": {},
     "output_type": "execute_result"
    }
   ],
   "source": [
    "parquet_wider_df.head()\n",
    "#Details maintained"
   ]
  },
  {
   "cell_type": "code",
   "execution_count": 37,
   "id": "technical-confidentiality",
   "metadata": {
    "execution": {
     "iopub.execute_input": "2021-08-20T07:55:57.087419Z",
     "iopub.status.busy": "2021-08-20T07:55:57.087271Z",
     "iopub.status.idle": "2021-08-20T07:55:57.173421Z",
     "shell.execute_reply": "2021-08-20T07:55:57.172448Z",
     "shell.execute_reply.started": "2021-08-20T07:55:57.087402Z"
    },
    "tags": []
   },
   "outputs": [
    {
     "name": "stdout",
     "output_type": "stream",
     "text": [
      "116562907\n"
     ]
    }
   ],
   "source": [
    "file_size_parquet_2 = os.path.getsize('Copy_wider_df.gzip')\n",
    "print(file_size_parquet_2)"
   ]
  },
  {
   "cell_type": "code",
   "execution_count": 38,
   "id": "earned-convergence",
   "metadata": {
    "execution": {
     "iopub.execute_input": "2021-08-20T07:55:57.175101Z",
     "iopub.status.busy": "2021-08-20T07:55:57.174761Z",
     "iopub.status.idle": "2021-08-20T07:55:57.256395Z",
     "shell.execute_reply": "2021-08-20T07:55:57.255339Z",
     "shell.execute_reply.started": "2021-08-20T07:55:57.175057Z"
    },
    "tags": []
   },
   "outputs": [],
   "source": [
    "plot_values = [parquet_readtime_2, pickle_readtime_2, tsv_readtime_2]\n",
    "plot_headers = ['Parquet Read Time' , 'Pickle Read Time', 'TSV Read Time']"
   ]
  },
  {
   "cell_type": "code",
   "execution_count": 39,
   "id": "relevant-eclipse",
   "metadata": {
    "execution": {
     "iopub.execute_input": "2021-08-20T07:55:57.258179Z",
     "iopub.status.busy": "2021-08-20T07:55:57.257837Z",
     "iopub.status.idle": "2021-08-20T07:55:57.481431Z",
     "shell.execute_reply": "2021-08-20T07:55:57.480848Z",
     "shell.execute_reply.started": "2021-08-20T07:55:57.258135Z"
    },
    "tags": []
   },
   "outputs": [
    {
     "data": {
      "image/png": "[encoded data removed]",
      "text/plain": [
       "<Figure size 864x576 with 1 Axes>"
      ]
     },
     "metadata": {},
     "output_type": "display_data"
    }
   ],
   "source": [
    "plt.figure(figsize=(12,8))\n",
    "sns.set_style(\"whitegrid\")\n",
    "sns.barplot(x = plot_headers, y = plot_values)\n",
    "plt.title(\"ChEMBL29 files reading time comparison: Part 2\", size=18)\n",
    "plt.xlabel(\"Different Techniques\", size=15)\n",
    "plt.ylabel(\"Total time taken in seconds (lower the better)\", size=15)\n",
    "\n",
    "plt.show()"
   ]
  },
  {
   "cell_type": "code",
   "execution_count": 40,
   "id": "quiet-ultimate",
   "metadata": {
    "execution": {
     "iopub.execute_input": "2021-08-20T07:55:57.482265Z",
     "iopub.status.busy": "2021-08-20T07:55:57.482107Z",
     "iopub.status.idle": "2021-08-20T07:55:57.485747Z",
     "shell.execute_reply": "2021-08-20T07:55:57.484910Z",
     "shell.execute_reply.started": "2021-08-20T07:55:57.482246Z"
    },
    "tags": []
   },
   "outputs": [],
   "source": [
    "plot_values = [parquet_writetime_2, pickle_writetime_2, tsv_writetime_2]\n",
    "plot_headers = ['Parquet Write Time' , 'Pickle Write Time', 'TSV Write Time']"
   ]
  },
  {
   "cell_type": "code",
   "execution_count": 41,
   "id": "sustained-blood",
   "metadata": {
    "execution": {
     "iopub.execute_input": "2021-08-20T07:55:57.486664Z",
     "iopub.status.busy": "2021-08-20T07:55:57.486497Z",
     "iopub.status.idle": "2021-08-20T07:55:57.725467Z",
     "shell.execute_reply": "2021-08-20T07:55:57.724651Z",
     "shell.execute_reply.started": "2021-08-20T07:55:57.486644Z"
    },
    "tags": []
   },
   "outputs": [
    {
     "data": {
      "image/png": "[encoded data removed]",
      "text/plain": [
       "<Figure size 864x576 with 1 Axes>"
      ]
     },
     "metadata": {},
     "output_type": "display_data"
    }
   ],
   "source": [
    "plt.figure(figsize=(12,8))\n",
    "sns.set_style(\"whitegrid\")\n",
    "sns.barplot(x = plot_headers, y = plot_values)\n",
    "plt.title(\"ChEMBL29 files writing time comparison: Part 2\", size=18)\n",
    "plt.xlabel(\"Different Techniques\", size=15)\n",
    "plt.ylabel(\"Total time taken in seconds (lower the better)\", size=15)\n",
    "\n",
    "plt.show()"
   ]
  },
  {
   "cell_type": "code",
   "execution_count": 42,
   "id": "unsigned-vocabulary",
   "metadata": {
    "execution": {
     "iopub.execute_input": "2021-08-20T07:55:57.726366Z",
     "iopub.status.busy": "2021-08-20T07:55:57.726198Z",
     "iopub.status.idle": "2021-08-20T07:55:57.730015Z",
     "shell.execute_reply": "2021-08-20T07:55:57.729137Z",
     "shell.execute_reply.started": "2021-08-20T07:55:57.726346Z"
    },
    "tags": []
   },
   "outputs": [],
   "source": [
    "plot_values = [file_size_parquet_2, file_size_pickle_2, file_size_tsv_2]\n",
    "plot_headers = ['Parquet (gzip) File Size ' , 'Pickle File Size', 'TSV File Size']"
   ]
  },
  {
   "cell_type": "code",
   "execution_count": 43,
   "id": "understood-tsunami",
   "metadata": {
    "execution": {
     "iopub.execute_input": "2021-08-20T07:55:57.730887Z",
     "iopub.status.busy": "2021-08-20T07:55:57.730728Z",
     "iopub.status.idle": "2021-08-20T07:55:57.952604Z",
     "shell.execute_reply": "2021-08-20T07:55:57.951805Z",
     "shell.execute_reply.started": "2021-08-20T07:55:57.730867Z"
    },
    "tags": []
   },
   "outputs": [
    {
     "data": {
      "image/png": "[encoded data removed]",
      "text/plain": [
       "<Figure size 864x576 with 1 Axes>"
      ]
     },
     "metadata": {},
     "output_type": "display_data"
    }
   ],
   "source": [
    "plt.figure(figsize=(12,8))\n",
    "sns.set_style(\"whitegrid\")\n",
    "sns.barplot(x = plot_headers, y = plot_values)\n",
    "plt.title(\"ChEMBL29 files size comparison: Part 2\", size=18)\n",
    "plt.xlabel(\"Different File Systems\", size=15)\n",
    "plt.ylabel(\"File size in 'bytes' (lower the better)\", size=15)\n",
    "\n",
    "plt.show()"
   ]
  },
  {
   "cell_type": "markdown",
   "id": "leading-reform",
   "metadata": {},
   "source": [
    "### What is 'Parquet'?\n",
    "\n",
    "*Apache Parquet (Copyright 2018 Apache Software Foundation), is a \"columnar storage format available to any project in the Hadoop ecosystem, regardless of the choice of data processing framework, data model or programming language.\"*"
   ]
  },
  {
   "cell_type": "markdown",
   "id": "interior-moment",
   "metadata": {},
   "source": [
    "## What does Pandas user document says about Parquet?\n",
    "\n",
    "*Apache Parquet provides a partitioned binary columnar serialization for data frames. It is designed to make reading and writing data frames efficient, and to make sharing data across data analysis languages easy. Parquet can use a variety of compression techniques to shrink the file size as much as possible while still maintaining good read performance.*\n",
    "\n",
    "*Parquet is designed to faithfully serialize and de-serialize DataFrames, supporting all of the pandas dtypes, including extension dtypes such as datetime with tz.*"
   ]
  },
  {
   "cell_type": "markdown",
   "id": "civil-dutch",
   "metadata": {},
   "source": [
    "### Prerequisites? \n",
    "\n",
    "Installation of Pandas and an engine such as 'pyarrow' (conda install pyarrow -c conda-forge) on the running environment."
   ]
  },
  {
   "cell_type": "markdown",
   "id": "toxic-thong",
   "metadata": {},
   "source": [
    "## Useful links:\n",
    "\n",
    "1. https://parquet.apache.org/\n",
    "2. https://en.wikipedia.org/wiki/Column-oriented_DBMS\n",
    "3. https://datascience.stackexchange.com/questions/8244/what-makes-columnar-databases-suitable-for-data-science/9242\n",
    "4. https://www.datacamp.com/community/tutorials/pickle-python-tutorial (Section of interest: **When Not to Use pickle**)"
   ]
  }
 ],
 "metadata": {
  "kernelspec": {
   "display_name": "Python 3",
   "language": "python",
   "name": "python3"
  },
  "language_info": {
   "codemirror_mode": {
    "name": "ipython",
    "version": 3
   },
   "file_extension": ".py",
   "mimetype": "text/x-python",
   "name": "python",
   "nbconvert_exporter": "python",
   "pygments_lexer": "ipython3",
   "version": "3.7.10"
  }
 },
 "nbformat": 4,
 "nbformat_minor": 5
}
