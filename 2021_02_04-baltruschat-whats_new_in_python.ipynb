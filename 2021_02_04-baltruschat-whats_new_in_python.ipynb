{
 "cells": [
  {
   "attachments": {},
   "cell_type": "markdown",
   "id": "banned-contents",
   "metadata": {},
   "source": [
    "# What's new in Python 3.8 and 3.9\n",
    "\n",
    "<img src='attachment:python_logo.png' width=\"150\">"
   ]
  },
  {
   "cell_type": "markdown",
   "id": "d3bbc841-74d9-4efe-a726-2cc790a0046a",
   "metadata": {},
   "source": [
    "<br>\n",
    "\n",
    "**Author:** Marcel Baltruschat (<a href=\"https://github.com/mrcblt\">@GitHub</a>)<br>\n",
    "**Date:** 04.02.2021"
   ]
  },
  {
   "cell_type": "markdown",
   "id": "organized-federation",
   "metadata": {},
   "source": [
    "### Content\n",
    "- Dictionary Merge Operator\n",
    "- Assignment Expressions\n",
    "- New String Methods to Remove Prefixes and Suffixes\n",
    "- f-strings support = for self-documenting expressions and debugging\n",
    "- Positional-only parameters\n",
    "<br><br><br>"
   ]
  },
  {
   "cell_type": "markdown",
   "id": "wooden-ethnic",
   "metadata": {},
   "source": [
    "#### Dictionary Merge Operator\n",
    "https://docs.python.org/3/whatsnew/3.9.html#dictionary-merge-update-operators"
   ]
  },
  {
   "cell_type": "code",
   "execution_count": 1,
   "id": "consecutive-place",
   "metadata": {},
   "outputs": [],
   "source": [
    "d1 = {'x': 1, 'y': 2}\n",
    "d2 = {'y': 3, 'z': 0}"
   ]
  },
  {
   "cell_type": "code",
   "execution_count": 2,
   "id": "metallic-preview",
   "metadata": {},
   "outputs": [
    {
     "data": {
      "text/plain": [
       "{'x': 1, 'y': 3, 'z': 0}"
      ]
     },
     "execution_count": 2,
     "metadata": {},
     "output_type": "execute_result"
    }
   ],
   "source": [
    "# Before\n",
    "{**d1, **d2}"
   ]
  },
  {
   "cell_type": "code",
   "execution_count": 3,
   "id": "thrown-fraction",
   "metadata": {},
   "outputs": [
    {
     "data": {
      "text/plain": [
       "{'x': 1, 'y': 3, 'z': 0}"
      ]
     },
     "execution_count": 3,
     "metadata": {},
     "output_type": "execute_result"
    }
   ],
   "source": [
    "# Now\n",
    "d1 | d2"
   ]
  },
  {
   "cell_type": "code",
   "execution_count": 4,
   "id": "scientific-knowing",
   "metadata": {},
   "outputs": [],
   "source": [
    "# Important: The last item \"wins\""
   ]
  },
  {
   "cell_type": "markdown",
   "id": "everyday-monday",
   "metadata": {},
   "source": [
    "<br><br>\n",
    "#### Assignment Expressions\n",
    "https://docs.python.org/3.8/whatsnew/3.8.html#assignment-expressions"
   ]
  },
  {
   "cell_type": "code",
   "execution_count": 5,
   "id": "bearing-command",
   "metadata": {},
   "outputs": [],
   "source": [
    "a = [1, 2, 3, 4, 5, 6]"
   ]
  },
  {
   "cell_type": "code",
   "execution_count": 6,
   "id": "duplicate-management",
   "metadata": {},
   "outputs": [
    {
     "name": "stdout",
     "output_type": "stream",
     "text": [
      "List with 6 elements is too long!\n"
     ]
    }
   ],
   "source": [
    "# Before\n",
    "n = len(a)\n",
    "if n > 5:\n",
    "    print(f'List with {n} elements is too long!')"
   ]
  },
  {
   "cell_type": "code",
   "execution_count": 7,
   "id": "periodic-roller",
   "metadata": {},
   "outputs": [
    {
     "name": "stdout",
     "output_type": "stream",
     "text": [
      "List with 6 elements is too long!\n"
     ]
    }
   ],
   "source": [
    "# Now\n",
    "if (n := len(a)) > 5:\n",
    "    print(f'List with {n} elements is too long!')"
   ]
  },
  {
   "cell_type": "markdown",
   "id": "recorded-indiana",
   "metadata": {},
   "source": [
    "<br><br>\n",
    "#### New String Methods to Remove Prefixes and Suffixes\n",
    "https://docs.python.org/3/whatsnew/3.9.html#new-string-methods-to-remove-prefixes-and-suffixes"
   ]
  },
  {
   "cell_type": "code",
   "execution_count": 8,
   "id": "fantastic-tiger",
   "metadata": {},
   "outputs": [],
   "source": [
    "import os"
   ]
  },
  {
   "cell_type": "code",
   "execution_count": 9,
   "id": "extraordinary-essay",
   "metadata": {},
   "outputs": [],
   "source": [
    "s1 = 'myfile.txt'"
   ]
  },
  {
   "cell_type": "code",
   "execution_count": 10,
   "id": "close-emperor",
   "metadata": {},
   "outputs": [
    {
     "data": {
      "text/plain": [
       "'myfile'"
      ]
     },
     "execution_count": 10,
     "metadata": {},
     "output_type": "execute_result"
    }
   ],
   "source": [
    "# Before\n",
    "s1.split('.')[0]                  # Problem with multiple dots in filename\n",
    "s1[:-4]                           # Problem if you don't know the length\n",
    "''.join(s1.split('.')[:-1])       # Complicated\n",
    "os.path.splitext('myfile.txt')[0] # Needs import"
   ]
  },
  {
   "cell_type": "code",
   "execution_count": 11,
   "id": "dirty-receiver",
   "metadata": {},
   "outputs": [
    {
     "data": {
      "text/plain": [
       "'myfile'"
      ]
     },
     "execution_count": 11,
     "metadata": {},
     "output_type": "execute_result"
    }
   ],
   "source": [
    "# Now\n",
    "s1.removesuffix('.txt')  # You need to know the fileending"
   ]
  },
  {
   "cell_type": "code",
   "execution_count": 12,
   "id": "phantom-joseph",
   "metadata": {},
   "outputs": [
    {
     "data": {
      "text/plain": [
       "'czodrowskilab.org'"
      ]
     },
     "execution_count": 12,
     "metadata": {},
     "output_type": "execute_result"
    }
   ],
   "source": [
    "s2 = 'www.czodrowskilab.org'\n",
    "s2.removeprefix('www.')"
   ]
  },
  {
   "cell_type": "markdown",
   "id": "sublime-workshop",
   "metadata": {},
   "source": [
    "<br><br>\n",
    "#### f-strings support = for self-documenting expressions and debugging\n",
    "https://docs.python.org/3.8/whatsnew/3.8.html#f-strings-support-for-self-documenting-expressions-and-debugging"
   ]
  },
  {
   "cell_type": "code",
   "execution_count": 13,
   "id": "boring-awareness",
   "metadata": {},
   "outputs": [],
   "source": [
    "from datetime import date\n",
    "from math import cos, pi"
   ]
  },
  {
   "cell_type": "code",
   "execution_count": 14,
   "id": "printable-jaguar",
   "metadata": {},
   "outputs": [],
   "source": [
    "user = 'John Doe'"
   ]
  },
  {
   "cell_type": "code",
   "execution_count": 15,
   "id": "subjective-punch",
   "metadata": {},
   "outputs": [
    {
     "data": {
      "text/plain": [
       "'user=John Doe'"
      ]
     },
     "execution_count": 15,
     "metadata": {},
     "output_type": "execute_result"
    }
   ],
   "source": [
    "# Before\n",
    "f'user={user}'"
   ]
  },
  {
   "cell_type": "code",
   "execution_count": 16,
   "id": "crude-reform",
   "metadata": {},
   "outputs": [
    {
     "data": {
      "text/plain": [
       "\"user='John Doe'\""
      ]
     },
     "execution_count": 16,
     "metadata": {},
     "output_type": "execute_result"
    }
   ],
   "source": [
    "# Now\n",
    "f'{user=}'"
   ]
  },
  {
   "cell_type": "code",
   "execution_count": 17,
   "id": "severe-gravity",
   "metadata": {},
   "outputs": [
    {
     "data": {
      "text/plain": [
       "'user=John Doe'"
      ]
     },
     "execution_count": 17,
     "metadata": {},
     "output_type": "execute_result"
    }
   ],
   "source": [
    "f'{user=!s}'"
   ]
  },
  {
   "cell_type": "markdown",
   "id": "purple-dependence",
   "metadata": {},
   "source": [
    "<br>"
   ]
  },
  {
   "cell_type": "code",
   "execution_count": 18,
   "id": "indian-functionality",
   "metadata": {},
   "outputs": [
    {
     "data": {
      "text/plain": [
       "'-0.392'"
      ]
     },
     "execution_count": 18,
     "metadata": {},
     "output_type": "execute_result"
    }
   ],
   "source": [
    "# Before\n",
    "a = cos(2**6 + pi)\n",
    "f'{a:.3f}'"
   ]
  },
  {
   "cell_type": "code",
   "execution_count": 19,
   "id": "studied-prime",
   "metadata": {},
   "outputs": [
    {
     "data": {
      "text/plain": [
       "'cos(2**6 + pi)=-0.392'"
      ]
     },
     "execution_count": 19,
     "metadata": {},
     "output_type": "execute_result"
    }
   ],
   "source": [
    "# Now\n",
    "f'{cos(2**6 + pi)=:.3f}'"
   ]
  },
  {
   "cell_type": "markdown",
   "id": "going-transsexual",
   "metadata": {},
   "source": [
    "<br><br>\n",
    "#### Positional-only parameters\n",
    "https://docs.python.org/3.8/whatsnew/3.8.html#positional-only-parameters"
   ]
  },
  {
   "cell_type": "code",
   "execution_count": 20,
   "id": "reasonable-short",
   "metadata": {},
   "outputs": [],
   "source": [
    "def f(a, /, b, *, c):\n",
    "    # a has to be positional\n",
    "    # b can be positional or a keyword argument\n",
    "    # c has to be a keyword argument\n",
    "    print(a, b, c)"
   ]
  },
  {
   "cell_type": "code",
   "execution_count": 21,
   "id": "killing-wound",
   "metadata": {},
   "outputs": [
    {
     "name": "stdout",
     "output_type": "stream",
     "text": [
      "1 2 3\n",
      "1 2 3\n"
     ]
    }
   ],
   "source": [
    "# Valid calls\n",
    "f(1, 2, c=3)\n",
    "f(1, b=2, c=3)"
   ]
  },
  {
   "cell_type": "code",
   "execution_count": 22,
   "id": "lyric-rochester",
   "metadata": {},
   "outputs": [
    {
     "ename": "TypeError",
     "evalue": "f() takes 2 positional arguments but 3 were given",
     "output_type": "error",
     "traceback": [
      "\u001b[0;31m---------------------------------------------------------------------------\u001b[0m",
      "\u001b[0;31mTypeError\u001b[0m                                 Traceback (most recent call last)",
      "\u001b[0;32m<ipython-input-22-a83ad21307fb>\u001b[0m in \u001b[0;36m<module>\u001b[0;34m\u001b[0m\n\u001b[1;32m      1\u001b[0m \u001b[0;31m# Invalid calls\u001b[0m\u001b[0;34m\u001b[0m\u001b[0;34m\u001b[0m\u001b[0;34m\u001b[0m\u001b[0m\n\u001b[0;32m----> 2\u001b[0;31m \u001b[0mf\u001b[0m\u001b[0;34m(\u001b[0m\u001b[0;36m1\u001b[0m\u001b[0;34m,\u001b[0m \u001b[0;36m2\u001b[0m\u001b[0;34m,\u001b[0m \u001b[0;36m3\u001b[0m\u001b[0;34m)\u001b[0m\u001b[0;34m\u001b[0m\u001b[0;34m\u001b[0m\u001b[0m\n\u001b[0m\u001b[1;32m      3\u001b[0m \u001b[0mf\u001b[0m\u001b[0;34m(\u001b[0m\u001b[0ma\u001b[0m\u001b[0;34m=\u001b[0m\u001b[0;36m1\u001b[0m\u001b[0;34m,\u001b[0m \u001b[0mb\u001b[0m\u001b[0;34m=\u001b[0m\u001b[0;36m2\u001b[0m\u001b[0;34m,\u001b[0m \u001b[0mc\u001b[0m\u001b[0;34m=\u001b[0m\u001b[0;36m3\u001b[0m\u001b[0;34m)\u001b[0m\u001b[0;34m\u001b[0m\u001b[0;34m\u001b[0m\u001b[0m\n",
      "\u001b[0;31mTypeError\u001b[0m: f() takes 2 positional arguments but 3 were given"
     ]
    }
   ],
   "source": [
    "# Invalid calls\n",
    "f(1, 2, 3)\n",
    "f(a=1, b=2, c=3)"
   ]
  }
 ],
 "metadata": {
  "kernelspec": {
   "display_name": "Python 3",
   "language": "python",
   "name": "python3"
  },
  "language_info": {
   "codemirror_mode": {
    "name": "ipython",
    "version": 3
   },
   "file_extension": ".py",
   "mimetype": "text/x-python",
   "name": "python",
   "nbconvert_exporter": "python",
   "pygments_lexer": "ipython3",
   "version": "3.8.10"
  },
  "widgets": {
   "application/vnd.jupyter.widget-state+json": {
    "state": {},
    "version_major": 2,
    "version_minor": 0
   }
  }
 },
 "nbformat": 4,
 "nbformat_minor": 5
}
