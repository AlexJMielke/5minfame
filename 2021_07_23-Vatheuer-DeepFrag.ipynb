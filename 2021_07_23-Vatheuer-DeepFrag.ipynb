{
 "cells": [
  {
   "cell_type": "markdown",
   "metadata": {},
   "source": [
    "# DeepFrag Browser App"
   ]
  },
  {
   "cell_type": "markdown",
   "metadata": {},
   "source": [
    "![](https://pubs.acs.org/na101/home/literatum/publisher/achs/journals/content/jcisd8/2021/jcisd8.2021.61.issue-6/acs.jcim.1c00103/20210622/images/medium/ci1c00103_0005.gif)"
   ]
  },
  {
   "cell_type": "markdown",
   "metadata": {},
   "source": [
    "## Browser App \n",
    "https://durrantlab.pitt.edu/deepfrag/"
   ]
  },
  {
   "cell_type": "markdown",
   "metadata": {},
   "source": [
    "## Github repository: \n",
    "https://git.durrantlab.pitt.edu/jdurrant/deepfrag/"
   ]
  },
  {
   "cell_type": "markdown",
   "metadata": {},
   "source": [
    "## References\n",
    "\n",
    "DeepFrag: a deep convolutional neural network for fragment-based lead optimization. https://doi.org/10.1039/D1SC00163A\n",
    "\n",
    "DeepFrag: An Open-Source Browser App for Deep-Learning Lead Optimization. https://doi.org/10.1021/acs.jcim.1c00103"
   ]
  }
 ],
 "metadata": {
  "kernelspec": {
   "display_name": "Python 3",
   "language": "python",
   "name": "python3"
  },
  "language_info": {
   "codemirror_mode": {
    "name": "ipython",
    "version": 3
   },
   "file_extension": ".py",
   "mimetype": "text/x-python",
   "name": "python",
   "nbconvert_exporter": "python",
   "pygments_lexer": "ipython3",
   "version": "3.8.5"
  }
 },
 "nbformat": 4,
 "nbformat_minor": 4
}
