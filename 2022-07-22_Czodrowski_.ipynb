{
 "cells": [
  {
   "cell_type": "markdown",
   "id": "810686a1",
   "metadata": {},
   "source": [
    "### 5 Minutes of fame at the Czodrowski lab\n",
    "\n",
    "Contributor: Paul Czodrowski (https://github.com/czodrowskilab, https://twitter.com/CzodrowskiPaul)\n",
    "\n",
    "\n",
    "Date: 2022-07-22"
   ]
  },
  {
   "cell_type": "markdown",
   "id": "8af7ec59",
   "metadata": {},
   "source": [
    "#### Quantum mechanics ported to Jupyter"
   ]
  },
  {
   "cell_type": "markdown",
   "id": "1ce5d81a",
   "metadata": {},
   "source": [
    "Paul is excited about this quantum mechanics course implemented in Jupyter notebooks: https://youtu.be/7otfejlAoqg"
   ]
  },
  {
   "cell_type": "markdown",
   "id": "7057b9c5",
   "metadata": {},
   "source": [
    "Here comes the respective publication: https://doi.org/10.1002/qua.26472"
   ]
  },
  {
   "cell_type": "markdown",
   "id": "36078c9b",
   "metadata": {},
   "source": [
    "#### Analytics course ported to Jupyter"
   ]
  },
  {
   "cell_type": "markdown",
   "id": "96844b2b",
   "metadata": {},
   "source": [
    "Paul is also excited about this material teaching analytical chemistry by Jupyter notebooks"
   ]
  },
  {
   "cell_type": "markdown",
   "id": "ff5aa8fc",
   "metadata": {},
   "source": [
    "e.g. this one: https://github.com/erik-menke/AnalyticalProjects/blob/master/Notebook7-FTIR_processing.ipynb\n"
   ]
  },
  {
   "cell_type": "markdown",
   "id": "49ec4619",
   "metadata": {},
   "source": [
    "Here comes the respective publication: https://pubs.acs.org/doi/pdf/10.1021/acs.jchemed.9b01131"
   ]
  },
  {
   "cell_type": "markdown",
   "id": "b650f14a",
   "metadata": {},
   "source": [
    "#### Recent blog from \"In the pipeline\""
   ]
  },
  {
   "cell_type": "markdown",
   "id": "e8432bba",
   "metadata": {},
   "source": [
    "good (and provocative) read: \"A Waste of Good Electrons\": https://www.science.org/content/blog-post/virtual-screening-coronavirus-protease-inhibitors-waste-good-electrons"
   ]
  },
  {
   "cell_type": "code",
   "execution_count": null,
   "id": "84eb7b3c",
   "metadata": {},
   "outputs": [],
   "source": []
  }
 ],
 "metadata": {
  "kernelspec": {
   "display_name": "Python 3 (ipykernel)",
   "language": "python",
   "name": "python3"
  },
  "language_info": {
   "codemirror_mode": {
    "name": "ipython",
    "version": 3
   },
   "file_extension": ".py",
   "mimetype": "text/x-python",
   "name": "python",
   "nbconvert_exporter": "python",
   "pygments_lexer": "ipython3",
   "version": "3.8.11"
  }
 },
 "nbformat": 4,
 "nbformat_minor": 5
}
