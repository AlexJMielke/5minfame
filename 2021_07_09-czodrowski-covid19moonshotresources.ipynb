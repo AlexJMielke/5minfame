{
 "cells": [
  {
   "cell_type": "markdown",
   "id": "c6c0f25c",
   "metadata": {
    "slideshow": {
     "slide_type": "slide"
    }
   },
   "source": [
    "# <center> 10 minutes of fame: Covid-19 moonshot </center>\n",
    "\n",
    "Author: Paul Czodrowski<br>\n",
    "Date: 09.07.2021\n",
    "\n",
    "<br>\n",
    "\n",
    "|<img align=\"center\" width=\"70\" height=\"70\" src=\"pictures/c-lab.png\"> http://www.czodrowskilab.org/|<img align=\"center\" width=\"70\" height=\"70\" src=\"pictures/twitter.png\"> http://twitter.com/czodrowskipaul|\n",
    "|:--:|:--:|\n",
    "|<img align=\"center\" width=\"70\" height=\"70\" src=\"pictures/spotify.png\"> http://www.czodrowskilab.org/music|<img align=\"center\" width=\"70\" height=\"70\" src=\"pictures/github.png\"> http://github.com/czodrowskilab|\n",
    "<br><br>\n"
   ]
  },
  {
   "attachments": {},
   "cell_type": "markdown",
   "id": "0ca0a98e",
   "metadata": {
    "slideshow": {
     "slide_type": "slide"
    }
   },
   "source": [
    "## fragalysis\n",
    "For the analysis of MPro fragment crystal structures solved at the Diamond light source. But not only MPro x-rays are avaialable, but a huge selection of x-ray structures solved at the SGC (Structural Genomics Center) https://www.thesgc.org/\n",
    "\n",
    "<center>\n",
    "<img width=\"60%\" height=\"60%\" src=\"pictures/fragalysis.png\">\n",
    "</center>\n",
    "\n",
    "https://fragalysis.diamond.ac.uk/viewer/react/landing \n",
    "<BR><BR>\n",
    "fragalysis Workshop@Youtube<BR>\n",
    "https://www.youtube.com/watch?v=LVWd50CgU4g![image-3.png](attachment:image-3.png)"
   ]
  },
  {
   "cell_type": "markdown",
   "id": "approximate-threshold",
   "metadata": {
    "slideshow": {
     "slide_type": "slide"
    }
   },
   "source": [
    "## Manifold, Postera\n",
    "\n",
    "The company www.postera.ai offers access to a synthesis planning tool which also shows compound availability and compound prizes.<br> \n",
    "<center>\n",
    "<img width=\"60%\" height=\"60%\" src=\"pictures/postera_manifold.png\">\n",
    "</center>\n",
    "\n",
    "www.postera.ai/manifold/"
   ]
  },
  {
   "cell_type": "markdown",
   "id": "floral-patrol",
   "metadata": {
    "slideshow": {
     "slide_type": "slide"
    }
   },
   "source": [
    "## Covid19 Moonshot Folding@Home dashboard \n",
    "<br >The design suggestions for novel MPro will be simulated through Folding@Home, what a blast for alchemical calculations!\n",
    "<center>\n",
    "<img width=\"60%\" height=\"60%\" src=\"pictures/dashboard.png\">\n",
    "</center>\n",
    "<br>\n",
    "https://fah-public-data-covid19-moonshot-sprints.s3.us-east-2.amazonaws.com/dashboards/sprint-5-dimer/sprint-5-dimer-x11498-dimer-neutral/index.html\n"
   ]
  },
  {
   "cell_type": "markdown",
   "id": "arabic-rebel",
   "metadata": {
    "slideshow": {
     "slide_type": "slide"
    }
   },
   "source": [
    "### My two cents\n",
    "\n",
    "- fragalysis looks really powerful and can also be used beyond MPro which makes it attractive to us\n",
    "- it would be worth a try to order custom synthesis at Postera"
   ]
  },
  {
   "cell_type": "code",
   "execution_count": null,
   "id": "narrative-cannon",
   "metadata": {},
   "outputs": [],
   "source": []
  }
 ],
 "metadata": {
  "celltoolbar": "Slideshow",
  "kernelspec": {
   "display_name": "Python 3",
   "language": "python",
   "name": "python3"
  },
  "language_info": {
   "codemirror_mode": {
    "name": "ipython",
    "version": 3
   },
   "file_extension": ".py",
   "mimetype": "text/x-python",
   "name": "python",
   "nbconvert_exporter": "python",
   "pygments_lexer": "ipython3",
   "version": "3.8.8"
  }
 },
 "nbformat": 4,
 "nbformat_minor": 5
}
