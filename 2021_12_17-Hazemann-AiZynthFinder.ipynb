{
 "cells": [
  {
   "cell_type": "markdown",
   "id": "1c11ea4b",
   "metadata": {},
   "source": [
    "# AiZynthFinder\n",
    "\n",
    "#### aizynthfinder is a tool for retrosynthetic planning. The algorithm is based on a Monte Carlo tree search that recursively breaks down a molecule to purchasable precursors. The tree search is guided by a policy that suggests possible precursors by utilizing a neural network trained on a library of known reaction templates.\n",
    "\n",
    "Publication: https://doi.org/10.26434/chemrxiv.12465371.v1 <br>\n",
    "Documentation: https://molecularai.github.io/aizynthfinder/index.html"
   ]
  },
  {
   "cell_type": "markdown",
   "id": "8e1e69b6",
   "metadata": {},
   "source": [
    "### Installation"
   ]
  },
  {
   "cell_type": "markdown",
   "id": "95a6340d",
   "metadata": {},
   "source": [
    "First time, execute the following command in a console or an Anaconda prompt"
   ]
  },
  {
   "cell_type": "code",
   "execution_count": null,
   "id": "73ce78a6",
   "metadata": {},
   "outputs": [],
   "source": [
    "#conda env create -f https://raw.githubusercontent.com/MolecularAI/aizynthfinder/master/env-users.yml"
   ]
  },
  {
   "cell_type": "markdown",
   "id": "28df1964",
   "metadata": {},
   "source": [
    "Update"
   ]
  },
  {
   "cell_type": "code",
   "execution_count": null,
   "id": "68199489",
   "metadata": {},
   "outputs": [],
   "source": [
    "#conda env update -n aizynth-env -f https://raw.githubusercontent.com/MolecularAI/aizynthfinder/master/env-users.yml"
   ]
  },
  {
   "cell_type": "markdown",
   "id": "83bc9936",
   "metadata": {},
   "source": [
    "Activate the environement"
   ]
  },
  {
   "cell_type": "code",
   "execution_count": null,
   "id": "68b25a23",
   "metadata": {},
   "outputs": [],
   "source": [
    "# conda activate aizynth-env"
   ]
  },
  {
   "cell_type": "markdown",
   "id": "84fbb6fc",
   "metadata": {},
   "source": [
    "Open Jupyter Notebook"
   ]
  },
  {
   "cell_type": "code",
   "execution_count": null,
   "id": "8c3210a9",
   "metadata": {},
   "outputs": [],
   "source": [
    "#jupyter notebook"
   ]
  },
  {
   "cell_type": "markdown",
   "id": "f336db45",
   "metadata": {},
   "source": [
    "### AiZynthFinder Jupyter Notebook GUI"
   ]
  },
  {
   "cell_type": "code",
   "execution_count": 1,
   "id": "e37598d8",
   "metadata": {
    "scrolled": false
   },
   "outputs": [
    {
     "name": "stdout",
     "output_type": "stream",
     "text": [
      "Loading expansion policy model from /mnt/NVMe/aizynthfinder/full_uspto_03_05_19_rollout_policy.hdf5 to full_uspto\n",
      "Loading templates from /mnt/NVMe/aizynthfinder/full_uspto_03_05_19_unique_templates.hdf5 to full_uspto\n",
      "Loading stock from /mnt/NVMe/aizynthfinder/zinc_stock_17_04_20.hdf5 to zinc\n",
      "Loading stock from /mnt/NVMe/aizynthfinder/stock_Enamine_MolPort.hdf5 to Enamine_MolPort\n"
     ]
    },
    {
     "data": {
      "application/vnd.jupyter.widget-view+json": {
       "model_id": "1a56e40766d64548a79db7ff11c878c1",
       "version_major": 2,
       "version_minor": 0
      },
      "text/plain": [
       "Text(value='', continuous_update=False, description='SMILES')"
      ]
     },
     "metadata": {},
     "output_type": "display_data"
    },
    {
     "data": {
      "application/vnd.jupyter.widget-view+json": {
       "model_id": "00b575973bcd4fb3af4068e2eae62b7c",
       "version_major": 2,
       "version_minor": 0
      },
      "text/plain": [
       "Output(layout=Layout(border='1px solid silver', height='180px', width='50%'))"
      ]
     },
     "metadata": {},
     "output_type": "display_data"
    },
    {
     "data": {
      "application/vnd.jupyter.widget-view+json": {
       "model_id": "70b0a3a150ec4be1ba9d0a376e48d712",
       "version_major": 2,
       "version_minor": 0
      },
      "text/plain": [
       "Tab(children=(HBox(children=(VBox(children=(Label(value='Stocks'), Checkbox(value=True, description='zinc', st…"
      ]
     },
     "metadata": {},
     "output_type": "display_data"
    },
    {
     "data": {
      "application/vnd.jupyter.widget-view+json": {
       "model_id": "8995353c74eb44c382f490c75d7e67c1",
       "version_major": 2,
       "version_minor": 0
      },
      "text/plain": [
       "HBox(children=(Button(description='Run Search', style=ButtonStyle()), Button(description='Extend Search', styl…"
      ]
     },
     "metadata": {},
     "output_type": "display_data"
    },
    {
     "data": {
      "application/vnd.jupyter.widget-view+json": {
       "model_id": "c57c219218d74919a5ca9dc61b5af98f",
       "version_major": 2,
       "version_minor": 0
      },
      "text/plain": [
       "Output(layout=Layout(border='1px solid silver', height='300px', overflow='auto', width='99%'))"
      ]
     },
     "metadata": {},
     "output_type": "display_data"
    },
    {
     "data": {
      "application/vnd.jupyter.widget-view+json": {
       "model_id": "3612a97dba8640cf97e523d2efbeb9aa",
       "version_major": 2,
       "version_minor": 0
      },
      "text/plain": [
       "HBox(children=(Button(description='Show Reactions', style=ButtonStyle()), Dropdown(description='Routes: ', opt…"
      ]
     },
     "metadata": {},
     "output_type": "display_data"
    },
    {
     "data": {
      "application/vnd.jupyter.widget-view+json": {
       "model_id": "ef76555d7eea413299a74d88dfe36338",
       "version_major": 2,
       "version_minor": 0
      },
      "text/plain": [
       "Output(layout=Layout(border='1px solid silver', width='99%'))"
      ]
     },
     "metadata": {},
     "output_type": "display_data"
    }
   ],
   "source": [
    "from aizynthfinder.interfaces import AiZynthApp\n",
    "app = AiZynthApp(\"/mnt/NVMe/AIsynth/data/config_cli.yml\") #adapt the path to your yml file\n",
    "#example smiles: O=C1N(Cc2ccccc2Cl)CCN1c1cncc2ccc(Cl)cc12"
   ]
  },
  {
   "cell_type": "code",
   "execution_count": null,
   "id": "dd1526bc",
   "metadata": {},
   "outputs": [],
   "source": []
  }
 ],
 "metadata": {
  "kernelspec": {
   "display_name": "Python 3",
   "language": "python",
   "name": "python3"
  },
  "language_info": {
   "codemirror_mode": {
    "name": "ipython",
    "version": 3
   },
   "file_extension": ".py",
   "mimetype": "text/x-python",
   "name": "python",
   "nbconvert_exporter": "python",
   "pygments_lexer": "ipython3",
   "version": "3.8.10"
  }
 },
 "nbformat": 4,
 "nbformat_minor": 5
}
