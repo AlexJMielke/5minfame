{
  "nbformat": 4,
  "nbformat_minor": 0,
  "metadata": {
    "colab": {
      "name": "PyG Graph Classification.ipynb",
      "provenance": [],
      "collapsed_sections": []
    },
    "kernelspec": {
      "name": "python3",
      "display_name": "Python 3"
    },
    "language_info": {
      "name": "python"
    }
  },
  "cells": [
    {
      "cell_type": "markdown",
      "source": [
        "Adapted from [**PyG Tutorial**](https://pytorch-geometric.readthedocs.io/en/latest/)\n",
        "\n"
      ],
      "metadata": {
        "id": "b9FknqSaLDpd"
      }
    },
    {
      "cell_type": "code",
      "execution_count": 6,
      "metadata": {
        "id": "axrJ-nCJJdEa"
      },
      "outputs": [],
      "source": [
        "# Install required packages.\n",
        "!pip install -q torch-scatter -f https://pytorch-geometric.com/whl/torch-1.10.0+cu113.html\n",
        "!pip install -q torch-sparse -f https://pytorch-geometric.com/whl/torch-1.10.0+cu113.html\n",
        "!pip install -q git+https://github.com/rusty1s/pytorch_geometric.git"
      ]
    },
    {
      "cell_type": "markdown",
      "source": [
        "# Graph Classification with Graph Neural Networks\n",
        "\n",
        "We will have a closer look at how to apply Graph Neural Networks (GNNs) to the task of graph classification. Graph classification refers to the problem of classifiying entire graphs according to some type of labels.\n",
        "\n",
        "The most common task for graph classification is molecular property prediction, in which molecules are represented as graphs, and the task may be to infer whether a molecule inhibits HIV virus replication or not."
      ],
      "metadata": {
        "id": "1Uyj7tvnKEgl"
      }
    },
    {
      "cell_type": "markdown",
      "source": [
        "# Dataset\n",
        "\n",
        "[**TUDatasets**](https://chrsmrrs.github.io/datasets/) has a wide range of different graph classification datasets.\n",
        "Let's load and inspect one of the smaller ones, the **MUTAG dataset**\n",
        "\n",
        "=== Description of the dataset === \n",
        "\n",
        "The MUTAG dataset consists of 188 chemical compounds divided into two \n",
        "classes according to their mutagenic effect on a bacterium. \n",
        "\n",
        "The chemical data was obtained form http://cdb.ics.uci.edu and converted \n",
        "to graphs, where vertices represent atoms and edges represent chemical \n",
        "bonds. Explicit hydrogen atoms have been removed and vertices are labeled\n",
        "by atom type and edges by bond type (single, double, triple or aromatic).\n",
        "Chemical data was processed using the Chemistry Development Kit (v1.4)."
      ],
      "metadata": {
        "id": "E3VJtb-QKzBa"
      }
    },
    {
      "cell_type": "code",
      "source": [
        "import torch\n",
        "from torch_geometric.datasets import TUDataset\n",
        "\n",
        "dataset = TUDataset(root='data/TUDataset', name='MUTAG')\n",
        "\n",
        "print()\n",
        "print(f'Dataset: {dataset}:')\n",
        "print('====================')\n",
        "print(f'Number of graphs: {len(dataset)}')\n",
        "print(f'Number of features: {dataset.num_features}')\n",
        "print(f'Number of classes: {dataset.num_classes}')\n",
        "\n",
        "data = dataset[0]  # Get the first graph object.\n",
        "\n",
        "print()\n",
        "print(data)\n",
        "print('=============================================================')"
      ],
      "metadata": {
        "colab": {
          "base_uri": "https://localhost:8080/"
        },
        "id": "PHnEbjpnJyum",
        "outputId": "2e2fa2a6-038b-41d8-fede-d24e7874914c"
      },
      "execution_count": 7,
      "outputs": [
        {
          "output_type": "stream",
          "name": "stdout",
          "text": [
            "\n",
            "Dataset: MUTAG(188):\n",
            "====================\n",
            "Number of graphs: 188\n",
            "Number of features: 7\n",
            "Number of classes: 2\n",
            "\n",
            "Data(edge_index=[2, 38], x=[17, 7], edge_attr=[38, 4], y=[1])\n",
            "=============================================================\n"
          ]
        }
      ]
    },
    {
      "cell_type": "code",
      "source": [
        "# Gather some statistics about the first graph.\n",
        "print(f'Number of nodes: {data.num_nodes}')\n",
        "print(f'Number of edges: {data.num_edges}')\n",
        "print(f'Average node degree: {data.num_edges / data.num_nodes:.2f}')\n",
        "print(f'Has isolated nodes: {data.has_isolated_nodes()}')\n",
        "print(f'Has self-loops: {data.has_self_loops()}')\n",
        "print(f'Is undirected: {data.is_undirected()}')"
      ],
      "metadata": {
        "colab": {
          "base_uri": "https://localhost:8080/"
        },
        "id": "fp_j4sjqLbIy",
        "outputId": "e44f9d26-f2d9-4ce7-cb5d-a0c93500d60e"
      },
      "execution_count": 8,
      "outputs": [
        {
          "output_type": "stream",
          "name": "stdout",
          "text": [
            "Number of nodes: 17\n",
            "Number of edges: 38\n",
            "Average node degree: 2.24\n",
            "Has isolated nodes: False\n",
            "Has self-loops: False\n",
            "Is undirected: True\n"
          ]
        }
      ]
    },
    {
      "cell_type": "markdown",
      "source": [
        "This dataset provides **188 different graphs**, and the task is to classify each graph into **one out of two classes**.\n",
        "\n",
        "The first graph object of the dataset comes with **17 nodes (with 7-dimensional feature vectors)** and **38 edges** (leading to an average node degree of 2.24)."
      ],
      "metadata": {
        "id": "4sBbYYskL36v"
      }
    },
    {
      "cell_type": "code",
      "source": [
        "from torch_geometric.utils import to_networkx\n",
        "import networkx as nx\n",
        "import matplotlib.pyplot as plt\n",
        "\n",
        "def visualize_graph(G, color):\n",
        "    plt.figure(figsize=(7,7))\n",
        "    plt.xticks([])\n",
        "    plt.yticks([])\n",
        "    nx.draw_networkx(G, pos=nx.spring_layout(G, seed=42), with_labels=False,\n",
        "                     cmap=\"Set2\")\n",
        "    plt.show()\n",
        "\n",
        "G = to_networkx(data, to_undirected=True)\n",
        "visualize_graph(G, color=data.y)"
      ],
      "metadata": {
        "colab": {
          "base_uri": "https://localhost:8080/",
          "height": 411
        },
        "id": "NuEOhdMgZwqN",
        "outputId": "a5e727bc-66a8-4f4f-ddf9-3030c5f526e5"
      },
      "execution_count": 17,
      "outputs": [
        {
          "output_type": "display_data",
          "data": {
            "image/png": "[encoded data removed]",
            "text/plain": [
              "<Figure size 504x504 with 1 Axes>"
            ]
          },
          "metadata": {}
        }
      ]
    },
    {
      "cell_type": "code",
      "source": [
        "from torch_geometric.loader import DataLoader\n",
        "\n",
        "torch.manual_seed(12345)\n",
        "dataset = dataset.shuffle()\n",
        "\n",
        "train_dataset = dataset[:150]\n",
        "test_dataset = dataset[150:]\n",
        "\n",
        "train_loader = DataLoader(train_dataset, batch_size=64, shuffle=True)\n",
        "test_loader = DataLoader(test_dataset, batch_size=64, shuffle=False)"
      ],
      "metadata": {
        "id": "Y1v-FffOdwEE"
      },
      "execution_count": 19,
      "outputs": []
    },
    {
      "cell_type": "code",
      "source": [
        "from torch_geometric.nn import GraphConv\n",
        "from torch.nn import Linear\n",
        "import torch.nn.functional as F\n",
        "from torch_geometric.nn import global_mean_pool\n",
        "\n",
        "class GNN(torch.nn.Module):\n",
        "    def __init__(self, hidden_channels):\n",
        "        super(GNN, self).__init__()\n",
        "        torch.manual_seed(12345)\n",
        "        self.conv1 = GraphConv(dataset.num_node_features, hidden_channels)\n",
        "        self.conv2 = GraphConv(hidden_channels, hidden_channels)\n",
        "        self.conv3 = GraphConv(hidden_channels, hidden_channels)\n",
        "        self.lin = Linear(hidden_channels, dataset.num_classes)\n",
        "\n",
        "    def forward(self, x, edge_index, batch):\n",
        "        x = self.conv1(x, edge_index)\n",
        "        x = x.relu()\n",
        "        x = self.conv2(x, edge_index)\n",
        "        x = x.relu()\n",
        "        x = self.conv3(x, edge_index)\n",
        "\n",
        "        x = global_mean_pool(x, batch)\n",
        "\n",
        "        x = F.dropout(x, p=0.5, training=self.training)\n",
        "        x = self.lin(x)\n",
        "        \n",
        "        return x\n",
        "\n",
        "model = GNN(hidden_channels=64)\n",
        "print(model)"
      ],
      "metadata": {
        "colab": {
          "base_uri": "https://localhost:8080/"
        },
        "id": "KzNgyJ9reGcH",
        "outputId": "e8c39812-17c0-4c02-fd57-772077a9b5e7"
      },
      "execution_count": 21,
      "outputs": [
        {
          "output_type": "stream",
          "name": "stdout",
          "text": [
            "GNN(\n",
            "  (conv1): GraphConv(7, 64)\n",
            "  (conv2): GraphConv(64, 64)\n",
            "  (conv3): GraphConv(64, 64)\n",
            "  (lin): Linear(in_features=64, out_features=2, bias=True)\n",
            ")\n"
          ]
        }
      ]
    },
    {
      "cell_type": "code",
      "source": [
        "from IPython.display import Javascript\n",
        "display(Javascript('''google.colab.output.setIframeHeight(0, true, {maxHeight: 300})'''))\n",
        "\n",
        "optimizer = torch.optim.Adam(model.parameters(), lr=0.01)\n",
        "criterion = torch.nn.CrossEntropyLoss()\n",
        "\n",
        "def train():\n",
        "    model.train()\n",
        "\n",
        "    for data in train_loader:  # Iterate in batches over the training dataset.\n",
        "         out = model(data.x, data.edge_index, data.batch)  # Perform a single forward pass.\n",
        "         loss = criterion(out, data.y)  # Compute the loss.\n",
        "         loss.backward()  # Derive gradients.\n",
        "         optimizer.step()  # Update parameters based on gradients.\n",
        "         optimizer.zero_grad()  # Clear gradients.\n",
        "\n",
        "def test(loader):\n",
        "     model.eval()\n",
        "\n",
        "     correct = 0\n",
        "     for data in loader:  # Iterate in batches over the training/test dataset.\n",
        "         out = model(data.x, data.edge_index, data.batch)  \n",
        "         pred = out.argmax(dim=1)  # Use the class with highest probability.\n",
        "         correct += int((pred == data.y).sum())  # Check against ground-truth labels.\n",
        "     return correct / len(loader.dataset)  # Derive ratio of correct predictions.\n",
        "\n",
        "\n",
        "for epoch in range(1, 171):\n",
        "    train()\n",
        "    train_acc = test(train_loader)\n",
        "    test_acc = test(test_loader)\n",
        "    print(f'Epoch: {epoch:03d}, Train Acc: {train_acc:.4f}, Test Acc: {test_acc:.4f}')"
      ],
      "metadata": {
        "colab": {
          "base_uri": "https://localhost:8080/",
          "height": 300
        },
        "id": "4ZdTTZSwfd86",
        "outputId": "8014c00a-be3e-4c3e-af05-6e8327ddcca4"
      },
      "execution_count": 23,
      "outputs": [
        {
          "output_type": "display_data",
          "data": {
            "application/javascript": [
              "google.colab.output.setIframeHeight(0, true, {maxHeight: 300})"
            ],
            "text/plain": [
              "<IPython.core.display.Javascript object>"
            ]
          },
          "metadata": {}
        },
        {
          "output_type": "stream",
          "name": "stdout",
          "text": [
            "Epoch: 001, Train Acc: 0.7333, Test Acc: 0.7895\n",
            "Epoch: 002, Train Acc: 0.6467, Test Acc: 0.7368\n",
            "Epoch: 003, Train Acc: 0.6467, Test Acc: 0.7368\n",
            "Epoch: 004, Train Acc: 0.6467, Test Acc: 0.7368\n",
            "Epoch: 005, Train Acc: 0.6467, Test Acc: 0.7368\n",
            "Epoch: 006, Train Acc: 0.6533, Test Acc: 0.7368\n",
            "Epoch: 007, Train Acc: 0.7333, Test Acc: 0.8158\n",
            "Epoch: 008, Train Acc: 0.7267, Test Acc: 0.8158\n",
            "Epoch: 009, Train Acc: 0.7867, Test Acc: 0.8421\n",
            "Epoch: 010, Train Acc: 0.7733, Test Acc: 0.8158\n",
            "Epoch: 011, Train Acc: 0.7733, Test Acc: 0.7895\n",
            "Epoch: 012, Train Acc: 0.7933, Test Acc: 0.8421\n",
            "Epoch: 013, Train Acc: 0.7733, Test Acc: 0.8421\n",
            "Epoch: 014, Train Acc: 0.7733, Test Acc: 0.7895\n",
            "Epoch: 015, Train Acc: 0.7933, Test Acc: 0.8421\n",
            "Epoch: 016, Train Acc: 0.7667, Test Acc: 0.7632\n",
            "Epoch: 017, Train Acc: 0.7933, Test Acc: 0.8421\n",
            "Epoch: 018, Train Acc: 0.7867, Test Acc: 0.7895\n",
            "Epoch: 019, Train Acc: 0.7867, Test Acc: 0.7895\n",
            "Epoch: 020, Train Acc: 0.8133, Test Acc: 0.8421\n",
            "Epoch: 021, Train Acc: 0.8000, Test Acc: 0.7632\n",
            "Epoch: 022, Train Acc: 0.7933, Test Acc: 0.8421\n",
            "Epoch: 023, Train Acc: 0.8133, Test Acc: 0.8421\n",
            "Epoch: 024, Train Acc: 0.8667, Test Acc: 0.7368\n",
            "Epoch: 025, Train Acc: 0.8467, Test Acc: 0.7632\n",
            "Epoch: 026, Train Acc: 0.8400, Test Acc: 0.7368\n",
            "Epoch: 027, Train Acc: 0.8400, Test Acc: 0.7632\n",
            "Epoch: 028, Train Acc: 0.8133, Test Acc: 0.8421\n",
            "Epoch: 029, Train Acc: 0.9067, Test Acc: 0.7632\n",
            "Epoch: 030, Train Acc: 0.8800, Test Acc: 0.7895\n",
            "Epoch: 031, Train Acc: 0.8600, Test Acc: 0.7632\n",
            "Epoch: 032, Train Acc: 0.9133, Test Acc: 0.7895\n",
            "Epoch: 033, Train Acc: 0.9267, Test Acc: 0.8158\n",
            "Epoch: 034, Train Acc: 0.8933, Test Acc: 0.8158\n",
            "Epoch: 035, Train Acc: 0.9200, Test Acc: 0.8684\n",
            "Epoch: 036, Train Acc: 0.9000, Test Acc: 0.7368\n",
            "Epoch: 037, Train Acc: 0.9267, Test Acc: 0.8684\n",
            "Epoch: 038, Train Acc: 0.9400, Test Acc: 0.8684\n",
            "Epoch: 039, Train Acc: 0.9133, Test Acc: 0.7632\n",
            "Epoch: 040, Train Acc: 0.9267, Test Acc: 0.8158\n",
            "Epoch: 041, Train Acc: 0.9133, Test Acc: 0.7368\n",
            "Epoch: 042, Train Acc: 0.9067, Test Acc: 0.8421\n",
            "Epoch: 043, Train Acc: 0.9133, Test Acc: 0.8421\n",
            "Epoch: 044, Train Acc: 0.9267, Test Acc: 0.8684\n",
            "Epoch: 045, Train Acc: 0.9067, Test Acc: 0.8158\n",
            "Epoch: 046, Train Acc: 0.9333, Test Acc: 0.8158\n",
            "Epoch: 047, Train Acc: 0.9200, Test Acc: 0.8158\n",
            "Epoch: 048, Train Acc: 0.9333, Test Acc: 0.8421\n",
            "Epoch: 049, Train Acc: 0.9333, Test Acc: 0.8684\n",
            "Epoch: 050, Train Acc: 0.9333, Test Acc: 0.8158\n",
            "Epoch: 051, Train Acc: 0.9333, Test Acc: 0.8158\n",
            "Epoch: 052, Train Acc: 0.9333, Test Acc: 0.8421\n",
            "Epoch: 053, Train Acc: 0.9333, Test Acc: 0.8421\n",
            "Epoch: 054, Train Acc: 0.9267, Test Acc: 0.8158\n",
            "Epoch: 055, Train Acc: 0.9400, Test Acc: 0.8158\n",
            "Epoch: 056, Train Acc: 0.9333, Test Acc: 0.8421\n",
            "Epoch: 057, Train Acc: 0.9267, Test Acc: 0.8158\n",
            "Epoch: 058, Train Acc: 0.9333, Test Acc: 0.8158\n",
            "Epoch: 059, Train Acc: 0.9333, Test Acc: 0.8158\n",
            "Epoch: 060, Train Acc: 0.9333, Test Acc: 0.8158\n",
            "Epoch: 061, Train Acc: 0.9400, Test Acc: 0.8158\n",
            "Epoch: 062, Train Acc: 0.9333, Test Acc: 0.8158\n",
            "Epoch: 063, Train Acc: 0.9267, Test Acc: 0.8684\n",
            "Epoch: 064, Train Acc: 0.9333, Test Acc: 0.8421\n",
            "Epoch: 065, Train Acc: 0.9400, Test Acc: 0.8158\n",
            "Epoch: 066, Train Acc: 0.9333, Test Acc: 0.8158\n",
            "Epoch: 067, Train Acc: 0.9333, Test Acc: 0.8158\n",
            "Epoch: 068, Train Acc: 0.9333, Test Acc: 0.8158\n",
            "Epoch: 069, Train Acc: 0.9400, Test Acc: 0.8158\n",
            "Epoch: 070, Train Acc: 0.9133, Test Acc: 0.8158\n",
            "Epoch: 071, Train Acc: 0.9467, Test Acc: 0.8421\n",
            "Epoch: 072, Train Acc: 0.9400, Test Acc: 0.8421\n",
            "Epoch: 073, Train Acc: 0.9333, Test Acc: 0.8158\n",
            "Epoch: 074, Train Acc: 0.9333, Test Acc: 0.8158\n",
            "Epoch: 075, Train Acc: 0.9333, Test Acc: 0.8158\n",
            "Epoch: 076, Train Acc: 0.9400, Test Acc: 0.8158\n",
            "Epoch: 077, Train Acc: 0.9467, Test Acc: 0.8158\n",
            "Epoch: 078, Train Acc: 0.9333, Test Acc: 0.8158\n",
            "Epoch: 079, Train Acc: 0.9333, Test Acc: 0.8158\n",
            "Epoch: 080, Train Acc: 0.9267, Test Acc: 0.8158\n",
            "Epoch: 081, Train Acc: 0.9333, Test Acc: 0.8158\n",
            "Epoch: 082, Train Acc: 0.9400, Test Acc: 0.8947\n",
            "Epoch: 083, Train Acc: 0.9400, Test Acc: 0.8158\n",
            "Epoch: 084, Train Acc: 0.9400, Test Acc: 0.8158\n",
            "Epoch: 085, Train Acc: 0.9333, Test Acc: 0.8947\n",
            "Epoch: 086, Train Acc: 0.9400, Test Acc: 0.8158\n",
            "Epoch: 087, Train Acc: 0.9200, Test Acc: 0.8158\n",
            "Epoch: 088, Train Acc: 0.9400, Test Acc: 0.8158\n",
            "Epoch: 089, Train Acc: 0.9333, Test Acc: 0.8158\n",
            "Epoch: 090, Train Acc: 0.9333, Test Acc: 0.8158\n",
            "Epoch: 091, Train Acc: 0.9267, Test Acc: 0.8158\n",
            "Epoch: 092, Train Acc: 0.9267, Test Acc: 0.8421\n",
            "Epoch: 093, Train Acc: 0.9267, Test Acc: 0.8158\n",
            "Epoch: 094, Train Acc: 0.9333, Test Acc: 0.8158\n",
            "Epoch: 095, Train Acc: 0.9333, Test Acc: 0.8158\n",
            "Epoch: 096, Train Acc: 0.9400, Test Acc: 0.8158\n",
            "Epoch: 097, Train Acc: 0.9400, Test Acc: 0.8158\n",
            "Epoch: 098, Train Acc: 0.9400, Test Acc: 0.8158\n",
            "Epoch: 099, Train Acc: 0.9333, Test Acc: 0.8158\n",
            "Epoch: 100, Train Acc: 0.9333, Test Acc: 0.8158\n",
            "Epoch: 101, Train Acc: 0.9400, Test Acc: 0.8684\n",
            "Epoch: 102, Train Acc: 0.9333, Test Acc: 0.8158\n",
            "Epoch: 103, Train Acc: 0.9400, Test Acc: 0.8158\n",
            "Epoch: 104, Train Acc: 0.9267, Test Acc: 0.8684\n",
            "Epoch: 105, Train Acc: 0.9267, Test Acc: 0.7895\n",
            "Epoch: 106, Train Acc: 0.8333, Test Acc: 0.7632\n",
            "Epoch: 107, Train Acc: 0.9267, Test Acc: 0.8684\n",
            "Epoch: 108, Train Acc: 0.8800, Test Acc: 0.7895\n",
            "Epoch: 109, Train Acc: 0.8867, Test Acc: 0.8158\n",
            "Epoch: 110, Train Acc: 0.9133, Test Acc: 0.8684\n",
            "Epoch: 111, Train Acc: 0.9400, Test Acc: 0.8158\n",
            "Epoch: 112, Train Acc: 0.9267, Test Acc: 0.7895\n",
            "Epoch: 113, Train Acc: 0.9133, Test Acc: 0.8421\n",
            "Epoch: 114, Train Acc: 0.9400, Test Acc: 0.8421\n",
            "Epoch: 115, Train Acc: 0.9333, Test Acc: 0.7632\n",
            "Epoch: 116, Train Acc: 0.9267, Test Acc: 0.7895\n",
            "Epoch: 117, Train Acc: 0.9400, Test Acc: 0.8158\n",
            "Epoch: 118, Train Acc: 0.9200, Test Acc: 0.8158\n",
            "Epoch: 119, Train Acc: 0.9467, Test Acc: 0.8158\n",
            "Epoch: 120, Train Acc: 0.9333, Test Acc: 0.8684\n",
            "Epoch: 121, Train Acc: 0.9467, Test Acc: 0.8421\n",
            "Epoch: 122, Train Acc: 0.9467, Test Acc: 0.8421\n",
            "Epoch: 123, Train Acc: 0.9400, Test Acc: 0.8421\n",
            "Epoch: 124, Train Acc: 0.9467, Test Acc: 0.8158\n",
            "Epoch: 125, Train Acc: 0.9400, Test Acc: 0.8158\n",
            "Epoch: 126, Train Acc: 0.9467, Test Acc: 0.8158\n",
            "Epoch: 127, Train Acc: 0.9400, Test Acc: 0.8158\n",
            "Epoch: 128, Train Acc: 0.9400, Test Acc: 0.8158\n",
            "Epoch: 129, Train Acc: 0.9467, Test Acc: 0.8158\n",
            "Epoch: 130, Train Acc: 0.9400, Test Acc: 0.8158\n",
            "Epoch: 131, Train Acc: 0.9467, Test Acc: 0.8158\n",
            "Epoch: 132, Train Acc: 0.9333, Test Acc: 0.8158\n",
            "Epoch: 133, Train Acc: 0.9400, Test Acc: 0.8158\n",
            "Epoch: 134, Train Acc: 0.9467, Test Acc: 0.8158\n",
            "Epoch: 135, Train Acc: 0.9400, Test Acc: 0.8158\n",
            "Epoch: 136, Train Acc: 0.9333, Test Acc: 0.7895\n",
            "Epoch: 137, Train Acc: 0.9400, Test Acc: 0.8158\n",
            "Epoch: 138, Train Acc: 0.9400, Test Acc: 0.8158\n",
            "Epoch: 139, Train Acc: 0.9400, Test Acc: 0.8158\n",
            "Epoch: 140, Train Acc: 0.9400, Test Acc: 0.8158\n",
            "Epoch: 141, Train Acc: 0.9400, Test Acc: 0.8421\n",
            "Epoch: 142, Train Acc: 0.9333, Test Acc: 0.8158\n",
            "Epoch: 143, Train Acc: 0.9400, Test Acc: 0.8158\n",
            "Epoch: 144, Train Acc: 0.9400, Test Acc: 0.8158\n",
            "Epoch: 145, Train Acc: 0.9400, Test Acc: 0.8158\n",
            "Epoch: 146, Train Acc: 0.9400, Test Acc: 0.8158\n",
            "Epoch: 147, Train Acc: 0.9333, Test Acc: 0.8158\n",
            "Epoch: 148, Train Acc: 0.9467, Test Acc: 0.8158\n",
            "Epoch: 149, Train Acc: 0.9467, Test Acc: 0.8158\n",
            "Epoch: 150, Train Acc: 0.9333, Test Acc: 0.8158\n",
            "Epoch: 151, Train Acc: 0.9400, Test Acc: 0.8158\n",
            "Epoch: 152, Train Acc: 0.9400, Test Acc: 0.8158\n",
            "Epoch: 153, Train Acc: 0.9400, Test Acc: 0.8158\n",
            "Epoch: 154, Train Acc: 0.9200, Test Acc: 0.7632\n",
            "Epoch: 155, Train Acc: 0.9267, Test Acc: 0.7895\n",
            "Epoch: 156, Train Acc: 0.9467, Test Acc: 0.8158\n",
            "Epoch: 157, Train Acc: 0.9400, Test Acc: 0.8158\n",
            "Epoch: 158, Train Acc: 0.9400, Test Acc: 0.7895\n",
            "Epoch: 159, Train Acc: 0.9333, Test Acc: 0.7895\n",
            "Epoch: 160, Train Acc: 0.9467, Test Acc: 0.7895\n",
            "Epoch: 161, Train Acc: 0.9467, Test Acc: 0.8158\n",
            "Epoch: 162, Train Acc: 0.9467, Test Acc: 0.8158\n",
            "Epoch: 163, Train Acc: 0.9467, Test Acc: 0.8158\n",
            "Epoch: 164, Train Acc: 0.9400, Test Acc: 0.7895\n",
            "Epoch: 165, Train Acc: 0.9400, Test Acc: 0.8158\n",
            "Epoch: 166, Train Acc: 0.9467, Test Acc: 0.8158\n",
            "Epoch: 167, Train Acc: 0.9467, Test Acc: 0.8158\n",
            "Epoch: 168, Train Acc: 0.9400, Test Acc: 0.8158\n",
            "Epoch: 169, Train Acc: 0.9400, Test Acc: 0.8158\n",
            "Epoch: 170, Train Acc: 0.9467, Test Acc: 0.8158\n"
          ]
        }
      ]
    },
    {
      "cell_type": "markdown",
      "source": [
        "As one can see, our model reaches around 82% test accuracy. Reasons for the fluctations in accuracy can be explained by the rather small dataset (only 38 test graphs), and usually disappear once one applies GNNs to larger datasets."
      ],
      "metadata": {
        "id": "oQ_y5x_cgLm2"
      }
    }
  ]
}