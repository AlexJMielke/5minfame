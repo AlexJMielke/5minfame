{
 "cells": [
  {
   "cell_type": "markdown",
   "id": "79c266aa",
   "metadata": {},
   "source": [
    "# **Write (and read) configs with TOML** - *5 minutes of fame!*\n",
    "\n",
    "## *7 October 2022 @ CzodrowskiLab*\n",
    "\n",
    "## Aishvarya Tandon\n",
    "* PhD student - CzodrowskiLab / Waldmann group\n",
    "* Contact information: [Email](mailto:aishvarya.tandon@tu-dortmund.de), [GitHub](https://github.com/aish-tan)"
   ]
  },
  {
   "cell_type": "markdown",
   "id": "16d0fc61",
   "metadata": {},
   "source": [
    "In the following Jupyter notebook, I will provide a quick introduction to TOML, and why I like to use it to make log and configuration files in my workflows. \n",
    "\n",
    "The following work is based on my opinion. Credits of all the software used and demonstrated belongs to their respective authors and the community. The links of other tutorials provided are credited to their respective authors. \n",
    "\n",
    "**License** : MIT"
   ]
  },
  {
   "cell_type": "markdown",
   "id": "d5369838",
   "metadata": {},
   "source": [
    "Links:\n",
    "1. [Homepage](https://toml.io/en/), [Official GitHub page](https://github.com/toml-lang/toml) \n",
    "2. [Official Wiki](https://github.com/toml-lang/toml/wiki)\n",
    "\n",
    "Other links:\n",
    "1. In-detail tutorial by [Real Python](https://realpython.com/python-toml/)\n",
    "2. Quick tutorial by [LinuxHint](https://linuxhint.com/read_write_toml_files_python/)  <u>(*warning: last updated over 2 years ago!*)</u>\n",
    "3. Skeptic review \"What is wrong with TOML?\" by [HitchDev](https://hitchdev.com/strictyaml/why-not/toml/) <u>(*warning: publishing date not mentioned, read at your own risk.*)</u>\n",
    "4. Python package I will use in this notebook by GitHub user [uiri](https://github.com/uiri/toml). <u>(*warning: despite being one of the most popular TOML packages for Python, purely based on counting GitHub stars, it doesn't use the latest version of TOML. Check the official TOML wiki to download the latest Python implementation.*)</u>"
   ]
  },
  {
   "cell_type": "markdown",
   "id": "5f22e6bb",
   "metadata": {},
   "source": [
    "TOML is short for \"Tom's Obvious Minimal Language\". It was developed by GitHub's co-founder [Tom Preston-Werner](https://tom.preston-werner.com/) almost 9 years ago. However, in recent years it has gained popularity. It is evident by there are numerous implementations in numerous langagues. "
   ]
  },
  {
   "cell_type": "markdown",
   "id": "750d0c35",
   "metadata": {},
   "source": [
    "I am not going to dive in comparing different config file formats such INI, JSON, YAML, etc., because there are a lot of blogs, reddit threads, etc. doing an amazing job. Here's an example by [Don Parakin](https://www.barenakedcoder.com/blog/2020/03/config-files-ini-xml-json-yaml-toml/). "
   ]
  },
  {
   "cell_type": "markdown",
   "id": "cdfa2453",
   "metadata": {},
   "source": [
    "Moving on to how to use it!"
   ]
  },
  {
   "cell_type": "code",
   "execution_count": 1,
   "id": "fde46d0e",
   "metadata": {},
   "outputs": [],
   "source": [
    "#imports\n",
    "import numpy as np\n",
    "import toml"
   ]
  },
  {
   "cell_type": "code",
   "execution_count": 2,
   "id": "7d3bb2f2",
   "metadata": {},
   "outputs": [],
   "source": [
    "model_name = \"Best_model_ever\"\n",
    "balanced_accuracy_cv = [0.83, 0.86, 0.81, 0.81, 0.83]\n",
    "kappa_cv = [0.83, 0.86, 0.81, 0.81, 0.83]\n",
    "folds_cv = 5\n",
    "mean_kappa_cv = 0.65\n",
    "mean_balanced_accuracy_cv = 0.83\n",
    "balanced_accuracy_test = 0.83\n",
    "cohen_kappa_test = 0.66\n",
    "confusion_matrix = [[129, 20], [23, 85]]"
   ]
  },
  {
   "cell_type": "code",
   "execution_count": 3,
   "id": "e7d8a4ff",
   "metadata": {},
   "outputs": [],
   "source": [
    "toml_string = f\"\"\"\n",
    "#Model logs in TOML-formatted data\n",
    "\n",
    "Model_Name = \"{model_name}\"\n",
    "\n",
    "Numbers_of_Folds = {folds_cv}\n",
    "\n",
    "[Balanced_Accuracy_CV_Metrics]\n",
    "Balanced_Accuracy_of_all_Folds = {balanced_accuracy_cv}\n",
    "Mean_Balanced_Accuracy_CV = {mean_balanced_accuracy_cv}\n",
    "Standard_Deviation_Mean_Balanced_Accuracy_CV = {np.round_(np.std(balanced_accuracy_cv), decimals = 2)}\n",
    "\n",
    "[Cohens_Kappa_CV_Metrics]\n",
    "Cohens_Kappa_of_all_Folds = {kappa_cv}\n",
    "Mean_Cohens_Kappa_CV = {mean_kappa_cv}\n",
    "Standard_Deviation_Mean_Cohens_Kappa_CV = {np.round_(np.std(kappa_cv), decimals= 2)}\n",
    "\n",
    "[Test_Set_Metrics]\n",
    "Balanced_Accuracy_Test_Set = {balanced_accuracy_test}\n",
    "Cohens_Kappa_Test_Set = {cohen_kappa_test}\n",
    "Confusion_Matrix_Test_Set = {confusion_matrix} \n",
    "\"\"\""
   ]
  },
  {
   "cell_type": "code",
   "execution_count": 4,
   "id": "a79a66fa",
   "metadata": {},
   "outputs": [
    {
     "name": "stdout",
     "output_type": "stream",
     "text": [
      "\n",
      "#Model logs in TOML-formatted data\n",
      "\n",
      "Model_Name = \"Best_model_ever\"\n",
      "\n",
      "Numbers_of_Folds = 5\n",
      "\n",
      "[Balanced_Accuracy_CV_Metrics]\n",
      "Balanced_Accuracy_of_all_Folds = [0.83, 0.86, 0.81, 0.81, 0.83]\n",
      "Mean_Balanced_Accuracy_CV = 0.83\n",
      "Standard_Deviation_Mean_Balanced_Accuracy_CV = 0.02\n",
      "\n",
      "[Cohens_Kappa_CV_Metrics]\n",
      "Cohens_Kappa_of_all_Folds = [0.83, 0.86, 0.81, 0.81, 0.83]\n",
      "Mean_Cohens_Kappa_CV = 0.65\n",
      "Standard_Deviation_Mean_Cohens_Kappa_CV = 0.02\n",
      "\n",
      "[Test_Set_Metrics]\n",
      "Balanced_Accuracy_Test_Set = 0.83\n",
      "Cohens_Kappa_Test_Set = 0.66\n",
      "Confusion_Matrix_Test_Set = [[129, 20], [23, 85]] \n",
      "\n"
     ]
    }
   ],
   "source": [
    "print(toml_string)"
   ]
  },
  {
   "cell_type": "code",
   "execution_count": 5,
   "id": "a0b98c36",
   "metadata": {},
   "outputs": [],
   "source": [
    "#Save it in a similar way a text file is saved, but obviously with toml extension\n",
    "with open('test_toml.toml', 'w') as f:\n",
    "    f.write(toml_string)"
   ]
  },
  {
   "cell_type": "markdown",
   "id": "aedf7687",
   "metadata": {},
   "source": [
    "Visual inspection of the TOML file"
   ]
  },
  {
   "cell_type": "code",
   "execution_count": 6,
   "id": "3904c6ae",
   "metadata": {},
   "outputs": [
    {
     "data": {
      "text/plain": [
       "{'Model_Name': 'Best_model_ever',\n",
       " 'Numbers_of_Folds': 5,\n",
       " 'Balanced_Accuracy_CV_Metrics': {'Balanced_Accuracy_of_all_Folds': [0.83,\n",
       "   0.86,\n",
       "   0.81,\n",
       "   0.81,\n",
       "   0.83],\n",
       "  'Mean_Balanced_Accuracy_CV': 0.83,\n",
       "  'Standard_Deviation_Mean_Balanced_Accuracy_CV': 0.02},\n",
       " 'Cohens_Kappa_CV_Metrics': {'Cohens_Kappa_of_all_Folds': [0.83,\n",
       "   0.86,\n",
       "   0.81,\n",
       "   0.81,\n",
       "   0.83],\n",
       "  'Mean_Cohens_Kappa_CV': 0.65,\n",
       "  'Standard_Deviation_Mean_Cohens_Kappa_CV': 0.02},\n",
       " 'Test_Set_Metrics': {'Balanced_Accuracy_Test_Set': 0.83,\n",
       "  'Cohens_Kappa_Test_Set': 0.66,\n",
       "  'Confusion_Matrix_Test_Set': [[129, 20], [23, 85]]}}"
      ]
     },
     "execution_count": 6,
     "metadata": {},
     "output_type": "execute_result"
    }
   ],
   "source": [
    "#To load the TOML file now as a dictionary\n",
    "model_log = toml.load('test_toml.toml')\n",
    "model_log"
   ]
  },
  {
   "cell_type": "markdown",
   "id": "779f58cf",
   "metadata": {},
   "source": [
    "We obviously lose the comment when loading this way, but it is because commments are not parsed in Python dicts."
   ]
  },
  {
   "cell_type": "code",
   "execution_count": 7,
   "id": "76f9b165",
   "metadata": {},
   "outputs": [
    {
     "name": "stdout",
     "output_type": "stream",
     "text": [
      "{'Balanced_Accuracy_of_all_Folds': [0.83, 0.86, 0.81, 0.81, 0.83], 'Mean_Balanced_Accuracy_CV': 0.83, 'Standard_Deviation_Mean_Balanced_Accuracy_CV': 0.02}\n"
     ]
    }
   ],
   "source": [
    "print(model_log['Balanced_Accuracy_CV_Metrics'])"
   ]
  },
  {
   "cell_type": "code",
   "execution_count": 8,
   "id": "04f9872c",
   "metadata": {},
   "outputs": [
    {
     "name": "stdout",
     "output_type": "stream",
     "text": [
      "<class 'list'>\n"
     ]
    }
   ],
   "source": [
    "print(type(model_log['Balanced_Accuracy_CV_Metrics']['Balanced_Accuracy_of_all_Folds']))"
   ]
  },
  {
   "cell_type": "code",
   "execution_count": 9,
   "id": "69aecc54",
   "metadata": {},
   "outputs": [
    {
     "name": "stdout",
     "output_type": "stream",
     "text": [
      "<class 'float'>\n"
     ]
    }
   ],
   "source": [
    "print(type(model_log['Balanced_Accuracy_CV_Metrics']['Balanced_Accuracy_of_all_Folds'][0]))"
   ]
  },
  {
   "cell_type": "code",
   "execution_count": 10,
   "id": "967aa1a8",
   "metadata": {},
   "outputs": [
    {
     "name": "stdout",
     "output_type": "stream",
     "text": [
      "Model_Name = \"Best_model_ever\"\n",
      "Numbers_of_Folds = 5\n",
      "\n",
      "[Balanced_Accuracy_CV_Metrics]\n",
      "Balanced_Accuracy_of_all_Folds = [ 0.83, 0.86, 0.81, 0.81, 0.83,]\n",
      "Mean_Balanced_Accuracy_CV = 0.83\n",
      "Standard_Deviation_Mean_Balanced_Accuracy_CV = 0.02\n",
      "\n",
      "[Cohens_Kappa_CV_Metrics]\n",
      "Cohens_Kappa_of_all_Folds = [ 0.83, 0.86, 0.81, 0.81, 0.83,]\n",
      "Mean_Cohens_Kappa_CV = 0.65\n",
      "Standard_Deviation_Mean_Cohens_Kappa_CV = 0.02\n",
      "\n",
      "[Test_Set_Metrics]\n",
      "Balanced_Accuracy_Test_Set = 0.83\n",
      "Cohens_Kappa_Test_Set = 0.66\n",
      "Confusion_Matrix_Test_Set = [ [ 129, 20,], [ 23, 85,],]\n",
      "\n"
     ]
    }
   ],
   "source": [
    "#It is also possible to convert dictionary to TOML formatted string\n",
    "model_toml_string = toml.dumps(model_log)\n",
    "print(model_toml_string)\n",
    "#The last comma will disappear re-reading it "
   ]
  },
  {
   "cell_type": "code",
   "execution_count": 11,
   "id": "0aec08b1",
   "metadata": {},
   "outputs": [],
   "source": [
    "#Speaking of re-reading, it is also possible to directly save the dictionary as the TOML file\n",
    "with open('test_toml_2.toml', 'w') as f:\n",
    "    toml.dump(model_log, f)"
   ]
  },
  {
   "cell_type": "markdown",
   "id": "2553323b",
   "metadata": {},
   "source": [
    "Visual inspection of the TOML file."
   ]
  },
  {
   "cell_type": "code",
   "execution_count": 12,
   "id": "7c8575f6",
   "metadata": {},
   "outputs": [
    {
     "data": {
      "text/plain": [
       "{'Model_Name': 'Best_model_ever',\n",
       " 'Numbers_of_Folds': 5,\n",
       " 'Balanced_Accuracy_CV_Metrics': {'Balanced_Accuracy_of_all_Folds': [0.83,\n",
       "   0.86,\n",
       "   0.81,\n",
       "   0.81,\n",
       "   0.83],\n",
       "  'Mean_Balanced_Accuracy_CV': 0.83,\n",
       "  'Standard_Deviation_Mean_Balanced_Accuracy_CV': 0.02},\n",
       " 'Cohens_Kappa_CV_Metrics': {'Cohens_Kappa_of_all_Folds': [0.83,\n",
       "   0.86,\n",
       "   0.81,\n",
       "   0.81,\n",
       "   0.83],\n",
       "  'Mean_Cohens_Kappa_CV': 0.65,\n",
       "  'Standard_Deviation_Mean_Cohens_Kappa_CV': 0.02},\n",
       " 'Test_Set_Metrics': {'Balanced_Accuracy_Test_Set': 0.83,\n",
       "  'Cohens_Kappa_Test_Set': 0.66,\n",
       "  'Confusion_Matrix_Test_Set': [[129, 20], [23, 85]]}}"
      ]
     },
     "execution_count": 12,
     "metadata": {},
     "output_type": "execute_result"
    }
   ],
   "source": [
    "#Or to simply convert a TOML string to a dictionary\n",
    "model_toml_string_direct = toml.loads(toml_string)\n",
    "model_toml_string_direct"
   ]
  },
  {
   "cell_type": "markdown",
   "id": "e6f7bd64",
   "metadata": {},
   "source": [
    "**End words:**\n",
    "\n",
    "Hope you feel motivated to prepare config/logs of your work/model. Not only it is a good practice as it enhances reproduction of your work when you look back in the past or submit to a journal and others can do so, but also it is incredibly convenient to do so. "
   ]
  }
 ],
 "metadata": {
  "kernelspec": {
   "display_name": "Python 3 (ipykernel)",
   "language": "python",
   "name": "python3"
  },
  "language_info": {
   "codemirror_mode": {
    "name": "ipython",
    "version": 3
   },
   "file_extension": ".py",
   "mimetype": "text/x-python",
   "name": "python",
   "nbconvert_exporter": "python",
   "pygments_lexer": "ipython3",
   "version": "3.10.6"
  }
 },
 "nbformat": 4,
 "nbformat_minor": 5
}
