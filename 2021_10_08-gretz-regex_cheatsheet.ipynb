{
 "cells": [
  {
   "cell_type": "markdown",
   "id": "94915f92",
   "metadata": {
    "slideshow": {
     "slide_type": "slide"
    }
   },
   "source": [
    "# Regex\n",
    "regular expression = a sequence of characters that specifies a search pattern"
   ]
  },
  {
   "cell_type": "markdown",
   "id": "670911fe",
   "metadata": {},
   "source": [
    "**presenter**: Juliana Gretz  \n",
    "**date**: 8.10.2021"
   ]
  },
  {
   "cell_type": "markdown",
   "id": "801f8069",
   "metadata": {
    "cell_style": "split",
    "slideshow": {
     "slide_type": "slide"
    }
   },
   "source": [
    "### character\n",
    "\n",
    "command | meaning\n",
    "---|---\n",
    ". | any character\n",
    "\\s | any whitespace character\n",
    "\\S | any non-whitespace character\n",
    "\\w | any word character\n",
    "\\W | any non-word character\n",
    "\\d | any digit\n",
    "\\D | any non-digit"
   ]
  },
  {
   "cell_type": "markdown",
   "id": "e3d39fe2",
   "metadata": {
    "cell_style": "split",
    "slideshow": {
     "slide_type": "fragment"
    }
   },
   "source": [
    "### range\n",
    "\n",
    "command | meaning\n",
    "---|---\n",
    "[abc]| character of: a, b or c\n",
    "[^abc]| character except of: a, b or c\n",
    "[a-z]| character in the rage of: a-z\n",
    "[^a-z]| character not in the rage of: a-z\n",
    "[0-9]| character in the rage of: 0-9\n",
    "[^0-9]| character not in the rage of: 0-9\n",
    "[a\\|b] | a or b\n"
   ]
  },
  {
   "cell_type": "markdown",
   "id": "8139335a",
   "metadata": {
    "cell_style": "split",
    "slideshow": {
     "slide_type": "fragment"
    }
   },
   "source": [
    "### quantifiers\n",
    "\n",
    "command | meaning\n",
    "---|---\n",
    "a? | zero or one of a \n",
    "a* | zero or more of a\n",
    "a+ | one or zero of a\n",
    "a{3}| 3 of a \n",
    "a{3,}| 3 or more of a\n",
    "a{3,6}| between 3 and 6 of a"
   ]
  },
  {
   "cell_type": "markdown",
   "id": "425762a1",
   "metadata": {
    "cell_style": "split",
    "slideshow": {
     "slide_type": "fragment"
    }
   },
   "source": [
    "### boundry\n",
    "\n",
    "command | meaning\n",
    "---|---\n",
    "^ | start of string\n",
    "$ | end of string\n",
    "\\b | word boundry\n",
    "\\B | non-word boundry"
   ]
  },
  {
   "cell_type": "markdown",
   "id": "0b1b9f96",
   "metadata": {
    "cell_style": "split",
    "slideshow": {
     "slide_type": "slide"
    }
   },
   "source": [
    "### group\n",
    "\n",
    "command | meaning\n",
    "---|---\n",
    "(xxx) | around the expression xxx to create group\n",
    "(?P\\<name\\>xxx) | around the expression xxx to name group"
   ]
  },
  {
   "cell_type": "markdown",
   "id": "64bf3960",
   "metadata": {
    "slideshow": {
     "slide_type": "slide"
    }
   },
   "source": [
    "# Examples"
   ]
  },
  {
   "cell_type": "code",
   "execution_count": 1,
   "id": "dcaf04c0",
   "metadata": {},
   "outputs": [],
   "source": [
    "import re\n",
    "import pandas as pd"
   ]
  },
  {
   "cell_type": "code",
   "execution_count": 2,
   "id": "ff7c0af0",
   "metadata": {},
   "outputs": [],
   "source": [
    "datafiles = [\n",
    "    '20F-22003_DC8_D03_1032246_P1_UV-metric psKa.t3r',\n",
    "    '20F-29001_DC8_D03_1032246_P1_W_UV-metric psKa.t3r',\n",
    "    '20F-26012_DC29_F21_1088043_P1_UV-metric psKa.t3r',\n",
    "    '20G-03010_DC60_L03_1366347_P1_UV-metric pKa.t3r',\n",
    "    '20G-04001_DC28_F19_1087258_P1_W_UV-metric psKa.t3r',\n",
    "    '21I-27003_DC245_D13_7018930044_P1_UV-metric psKa.t3r',\n",
    "    '20H-26004_DC124_J03_1216895_P2_UV-metric pKa.t3r',\n",
    "    '20I-03024_DC168_L12_105750012_P2_UV-metric psKa.t3r',\n",
    "    '20J-05001_DC132_K06_1298433_P2_W_UV-metric psKa.t3r',\n",
    "    '21I-14006_DC218_F07_1056516_P3_UV-metric psKa.t3r',\n",
    "]"
   ]
  },
  {
   "cell_type": "markdown",
   "id": "d2beeb72",
   "metadata": {
    "slideshow": {
     "slide_type": "slide"
    }
   },
   "source": [
    "### just fitting a regular expression\n",
    "`\"\\d{2}\\w-\\d{5}_DC\\d{1,3}_\\w\\d{2}_\\d*_P[1-3]_W*_*UV-metric ps*Ka.t3r\"g`  \n",
    "https://regex101.com/r/K0vABT/4"
   ]
  },
  {
   "cell_type": "code",
   "execution_count": 3,
   "id": "2132cf48",
   "metadata": {},
   "outputs": [
    {
     "data": {
      "text/html": [
       "<div>\n",
       "<style scoped>\n",
       "    .dataframe tbody tr th:only-of-type {\n",
       "        vertical-align: middle;\n",
       "    }\n",
       "\n",
       "    .dataframe tbody tr th {\n",
       "        vertical-align: top;\n",
       "    }\n",
       "\n",
       "    .dataframe thead th {\n",
       "        text-align: right;\n",
       "    }\n",
       "</style>\n",
       "<table border=\"1\" class=\"dataframe\">\n",
       "  <thead>\n",
       "    <tr style=\"text-align: right;\">\n",
       "      <th></th>\n",
       "      <th>filenames</th>\n",
       "      <th>match</th>\n",
       "    </tr>\n",
       "  </thead>\n",
       "  <tbody>\n",
       "    <tr>\n",
       "      <th>0</th>\n",
       "      <td>20F-22003_DC8_D03_1032246_P1_UV-metric psKa.t3r</td>\n",
       "      <td>20F-22003_DC8_D03_1032246_P1_UV-metric psKa.t3r</td>\n",
       "    </tr>\n",
       "    <tr>\n",
       "      <th>1</th>\n",
       "      <td>20F-29001_DC8_D03_1032246_P1_W_UV-metric psKa.t3r</td>\n",
       "      <td>20F-29001_DC8_D03_1032246_P1_W_UV-metric psKa.t3r</td>\n",
       "    </tr>\n",
       "    <tr>\n",
       "      <th>2</th>\n",
       "      <td>20F-26012_DC29_F21_1088043_P1_UV-metric psKa.t3r</td>\n",
       "      <td>20F-26012_DC29_F21_1088043_P1_UV-metric psKa.t3r</td>\n",
       "    </tr>\n",
       "    <tr>\n",
       "      <th>3</th>\n",
       "      <td>20G-03010_DC60_L03_1366347_P1_UV-metric pKa.t3r</td>\n",
       "      <td>20G-03010_DC60_L03_1366347_P1_UV-metric pKa.t3r</td>\n",
       "    </tr>\n",
       "    <tr>\n",
       "      <th>4</th>\n",
       "      <td>20G-04001_DC28_F19_1087258_P1_W_UV-metric psKa...</td>\n",
       "      <td>20G-04001_DC28_F19_1087258_P1_W_UV-metric psKa...</td>\n",
       "    </tr>\n",
       "    <tr>\n",
       "      <th>5</th>\n",
       "      <td>21I-27003_DC245_D13_7018930044_P1_UV-metric ps...</td>\n",
       "      <td>21I-27003_DC245_D13_7018930044_P1_UV-metric ps...</td>\n",
       "    </tr>\n",
       "    <tr>\n",
       "      <th>6</th>\n",
       "      <td>20H-26004_DC124_J03_1216895_P2_UV-metric pKa.t3r</td>\n",
       "      <td>20H-26004_DC124_J03_1216895_P2_UV-metric pKa.t3r</td>\n",
       "    </tr>\n",
       "    <tr>\n",
       "      <th>7</th>\n",
       "      <td>20I-03024_DC168_L12_105750012_P2_UV-metric psK...</td>\n",
       "      <td>20I-03024_DC168_L12_105750012_P2_UV-metric psK...</td>\n",
       "    </tr>\n",
       "    <tr>\n",
       "      <th>8</th>\n",
       "      <td>20J-05001_DC132_K06_1298433_P2_W_UV-metric psK...</td>\n",
       "      <td>20J-05001_DC132_K06_1298433_P2_W_UV-metric psK...</td>\n",
       "    </tr>\n",
       "    <tr>\n",
       "      <th>9</th>\n",
       "      <td>21I-14006_DC218_F07_1056516_P3_UV-metric psKa.t3r</td>\n",
       "      <td>21I-14006_DC218_F07_1056516_P3_UV-metric psKa.t3r</td>\n",
       "    </tr>\n",
       "  </tbody>\n",
       "</table>\n",
       "</div>"
      ],
      "text/plain": [
       "                                           filenames  \\\n",
       "0    20F-22003_DC8_D03_1032246_P1_UV-metric psKa.t3r   \n",
       "1  20F-29001_DC8_D03_1032246_P1_W_UV-metric psKa.t3r   \n",
       "2   20F-26012_DC29_F21_1088043_P1_UV-metric psKa.t3r   \n",
       "3    20G-03010_DC60_L03_1366347_P1_UV-metric pKa.t3r   \n",
       "4  20G-04001_DC28_F19_1087258_P1_W_UV-metric psKa...   \n",
       "5  21I-27003_DC245_D13_7018930044_P1_UV-metric ps...   \n",
       "6   20H-26004_DC124_J03_1216895_P2_UV-metric pKa.t3r   \n",
       "7  20I-03024_DC168_L12_105750012_P2_UV-metric psK...   \n",
       "8  20J-05001_DC132_K06_1298433_P2_W_UV-metric psK...   \n",
       "9  21I-14006_DC218_F07_1056516_P3_UV-metric psKa.t3r   \n",
       "\n",
       "                                               match  \n",
       "0    20F-22003_DC8_D03_1032246_P1_UV-metric psKa.t3r  \n",
       "1  20F-29001_DC8_D03_1032246_P1_W_UV-metric psKa.t3r  \n",
       "2   20F-26012_DC29_F21_1088043_P1_UV-metric psKa.t3r  \n",
       "3    20G-03010_DC60_L03_1366347_P1_UV-metric pKa.t3r  \n",
       "4  20G-04001_DC28_F19_1087258_P1_W_UV-metric psKa...  \n",
       "5  21I-27003_DC245_D13_7018930044_P1_UV-metric ps...  \n",
       "6   20H-26004_DC124_J03_1216895_P2_UV-metric pKa.t3r  \n",
       "7  20I-03024_DC168_L12_105750012_P2_UV-metric psK...  \n",
       "8  20J-05001_DC132_K06_1298433_P2_W_UV-metric psK...  \n",
       "9  21I-14006_DC218_F07_1056516_P3_UV-metric psKa.t3r  "
      ]
     },
     "execution_count": 3,
     "metadata": {},
     "output_type": "execute_result"
    }
   ],
   "source": [
    "df = pd.DataFrame({'filenames':datafiles})\n",
    "df['match']=[re.search(r\"\\d{2}\\w-\\d{5}_DC\\d{1,3}_\\w\\d{2}_\\d*_P[1-3]_W*_*UV-metric ps*Ka.t3r\",file)[0] \n",
    "             for file in df.filenames]\n",
    "df"
   ]
  },
  {
   "cell_type": "markdown",
   "id": "be78dad9",
   "metadata": {
    "slideshow": {
     "slide_type": "slide"
    }
   },
   "source": [
    "### creating groups\n",
    "`r\"\\d{2}\\w-\\d{5}_(DC\\d{1,3})_(\\w\\d{2})_(\\d{7,10})_(P[1-3])_(W_)*UV-metric (psKa|pKa).t3r\"g`  \n",
    "https://regex101.com/r/UkpsCd/3"
   ]
  },
  {
   "cell_type": "code",
   "execution_count": 4,
   "id": "4d882e86",
   "metadata": {
    "scrolled": true
   },
   "outputs": [
    {
     "data": {
      "text/html": [
       "<div>\n",
       "<style scoped>\n",
       "    .dataframe tbody tr th:only-of-type {\n",
       "        vertical-align: middle;\n",
       "    }\n",
       "\n",
       "    .dataframe tbody tr th {\n",
       "        vertical-align: top;\n",
       "    }\n",
       "\n",
       "    .dataframe thead th {\n",
       "        text-align: right;\n",
       "    }\n",
       "</style>\n",
       "<table border=\"1\" class=\"dataframe\">\n",
       "  <thead>\n",
       "    <tr style=\"text-align: right;\">\n",
       "      <th></th>\n",
       "      <th>filenames</th>\n",
       "      <th>matches</th>\n",
       "      <th>group0</th>\n",
       "      <th>group1</th>\n",
       "      <th>group2</th>\n",
       "      <th>group3</th>\n",
       "      <th>group4</th>\n",
       "      <th>group5</th>\n",
       "    </tr>\n",
       "  </thead>\n",
       "  <tbody>\n",
       "    <tr>\n",
       "      <th>0</th>\n",
       "      <td>20F-22003_DC8_D03_1032246_P1_UV-metric psKa.t3r</td>\n",
       "      <td>&lt;re.Match object; span=(0, 47), match='20F-220...</td>\n",
       "      <td>DC8</td>\n",
       "      <td>D03</td>\n",
       "      <td>1032246</td>\n",
       "      <td>P1</td>\n",
       "      <td>None</td>\n",
       "      <td>psKa</td>\n",
       "    </tr>\n",
       "    <tr>\n",
       "      <th>1</th>\n",
       "      <td>20F-29001_DC8_D03_1032246_P1_W_UV-metric psKa.t3r</td>\n",
       "      <td>&lt;re.Match object; span=(0, 49), match='20F-290...</td>\n",
       "      <td>DC8</td>\n",
       "      <td>D03</td>\n",
       "      <td>1032246</td>\n",
       "      <td>P1</td>\n",
       "      <td>W_</td>\n",
       "      <td>psKa</td>\n",
       "    </tr>\n",
       "    <tr>\n",
       "      <th>2</th>\n",
       "      <td>20F-26012_DC29_F21_1088043_P1_UV-metric psKa.t3r</td>\n",
       "      <td>&lt;re.Match object; span=(0, 48), match='20F-260...</td>\n",
       "      <td>DC29</td>\n",
       "      <td>F21</td>\n",
       "      <td>1088043</td>\n",
       "      <td>P1</td>\n",
       "      <td>None</td>\n",
       "      <td>psKa</td>\n",
       "    </tr>\n",
       "    <tr>\n",
       "      <th>3</th>\n",
       "      <td>20G-03010_DC60_L03_1366347_P1_UV-metric pKa.t3r</td>\n",
       "      <td>&lt;re.Match object; span=(0, 47), match='20G-030...</td>\n",
       "      <td>DC60</td>\n",
       "      <td>L03</td>\n",
       "      <td>1366347</td>\n",
       "      <td>P1</td>\n",
       "      <td>None</td>\n",
       "      <td>pKa</td>\n",
       "    </tr>\n",
       "    <tr>\n",
       "      <th>4</th>\n",
       "      <td>20G-04001_DC28_F19_1087258_P1_W_UV-metric psKa...</td>\n",
       "      <td>&lt;re.Match object; span=(0, 50), match='20G-040...</td>\n",
       "      <td>DC28</td>\n",
       "      <td>F19</td>\n",
       "      <td>1087258</td>\n",
       "      <td>P1</td>\n",
       "      <td>W_</td>\n",
       "      <td>psKa</td>\n",
       "    </tr>\n",
       "    <tr>\n",
       "      <th>5</th>\n",
       "      <td>21I-27003_DC245_D13_7018930044_P1_UV-metric ps...</td>\n",
       "      <td>&lt;re.Match object; span=(0, 52), match='21I-270...</td>\n",
       "      <td>DC245</td>\n",
       "      <td>D13</td>\n",
       "      <td>7018930044</td>\n",
       "      <td>P1</td>\n",
       "      <td>None</td>\n",
       "      <td>psKa</td>\n",
       "    </tr>\n",
       "    <tr>\n",
       "      <th>6</th>\n",
       "      <td>20H-26004_DC124_J03_1216895_P2_UV-metric pKa.t3r</td>\n",
       "      <td>&lt;re.Match object; span=(0, 48), match='20H-260...</td>\n",
       "      <td>DC124</td>\n",
       "      <td>J03</td>\n",
       "      <td>1216895</td>\n",
       "      <td>P2</td>\n",
       "      <td>None</td>\n",
       "      <td>pKa</td>\n",
       "    </tr>\n",
       "    <tr>\n",
       "      <th>7</th>\n",
       "      <td>20I-03024_DC168_L12_105750012_P2_UV-metric psK...</td>\n",
       "      <td>&lt;re.Match object; span=(0, 51), match='20I-030...</td>\n",
       "      <td>DC168</td>\n",
       "      <td>L12</td>\n",
       "      <td>105750012</td>\n",
       "      <td>P2</td>\n",
       "      <td>None</td>\n",
       "      <td>psKa</td>\n",
       "    </tr>\n",
       "    <tr>\n",
       "      <th>8</th>\n",
       "      <td>20J-05001_DC132_K06_1298433_P2_W_UV-metric psK...</td>\n",
       "      <td>&lt;re.Match object; span=(0, 51), match='20J-050...</td>\n",
       "      <td>DC132</td>\n",
       "      <td>K06</td>\n",
       "      <td>1298433</td>\n",
       "      <td>P2</td>\n",
       "      <td>W_</td>\n",
       "      <td>psKa</td>\n",
       "    </tr>\n",
       "    <tr>\n",
       "      <th>9</th>\n",
       "      <td>21I-14006_DC218_F07_1056516_P3_UV-metric psKa.t3r</td>\n",
       "      <td>&lt;re.Match object; span=(0, 49), match='21I-140...</td>\n",
       "      <td>DC218</td>\n",
       "      <td>F07</td>\n",
       "      <td>1056516</td>\n",
       "      <td>P3</td>\n",
       "      <td>None</td>\n",
       "      <td>psKa</td>\n",
       "    </tr>\n",
       "  </tbody>\n",
       "</table>\n",
       "</div>"
      ],
      "text/plain": [
       "                                           filenames  \\\n",
       "0    20F-22003_DC8_D03_1032246_P1_UV-metric psKa.t3r   \n",
       "1  20F-29001_DC8_D03_1032246_P1_W_UV-metric psKa.t3r   \n",
       "2   20F-26012_DC29_F21_1088043_P1_UV-metric psKa.t3r   \n",
       "3    20G-03010_DC60_L03_1366347_P1_UV-metric pKa.t3r   \n",
       "4  20G-04001_DC28_F19_1087258_P1_W_UV-metric psKa...   \n",
       "5  21I-27003_DC245_D13_7018930044_P1_UV-metric ps...   \n",
       "6   20H-26004_DC124_J03_1216895_P2_UV-metric pKa.t3r   \n",
       "7  20I-03024_DC168_L12_105750012_P2_UV-metric psK...   \n",
       "8  20J-05001_DC132_K06_1298433_P2_W_UV-metric psK...   \n",
       "9  21I-14006_DC218_F07_1056516_P3_UV-metric psKa.t3r   \n",
       "\n",
       "                                             matches group0 group1  \\\n",
       "0  <re.Match object; span=(0, 47), match='20F-220...    DC8    D03   \n",
       "1  <re.Match object; span=(0, 49), match='20F-290...    DC8    D03   \n",
       "2  <re.Match object; span=(0, 48), match='20F-260...   DC29    F21   \n",
       "3  <re.Match object; span=(0, 47), match='20G-030...   DC60    L03   \n",
       "4  <re.Match object; span=(0, 50), match='20G-040...   DC28    F19   \n",
       "5  <re.Match object; span=(0, 52), match='21I-270...  DC245    D13   \n",
       "6  <re.Match object; span=(0, 48), match='20H-260...  DC124    J03   \n",
       "7  <re.Match object; span=(0, 51), match='20I-030...  DC168    L12   \n",
       "8  <re.Match object; span=(0, 51), match='20J-050...  DC132    K06   \n",
       "9  <re.Match object; span=(0, 49), match='21I-140...  DC218    F07   \n",
       "\n",
       "       group2 group3 group4 group5  \n",
       "0     1032246     P1   None   psKa  \n",
       "1     1032246     P1     W_   psKa  \n",
       "2     1088043     P1   None   psKa  \n",
       "3     1366347     P1   None    pKa  \n",
       "4     1087258     P1     W_   psKa  \n",
       "5  7018930044     P1   None   psKa  \n",
       "6     1216895     P2   None    pKa  \n",
       "7   105750012     P2   None   psKa  \n",
       "8     1298433     P2     W_   psKa  \n",
       "9     1056516     P3   None   psKa  "
      ]
     },
     "execution_count": 4,
     "metadata": {},
     "output_type": "execute_result"
    }
   ],
   "source": [
    "df = pd.DataFrame({'filenames':datafiles})\n",
    "df['matches']=[re.search(r\"\\d{2}\\w-\\d{5}_(DC\\d{1,3})_(\\w\\d{2})_(\\d*)_(P[1-3])_(W_)*UV-metric (psKa|pKa).t3r\",file) \n",
    "               for file in df.filenames]\n",
    "number_of_groups = len(df.matches[0].groups())\n",
    "for i in range(number_of_groups):\n",
    "    df[f'group{i}']=[match.groups()[i] for match in df.matches]\n",
    "df"
   ]
  },
  {
   "cell_type": "markdown",
   "id": "b42b39a4",
   "metadata": {
    "slideshow": {
     "slide_type": "slide"
    }
   },
   "source": [
    "### name groups\n",
    "`r\"\\d{2}\\w-\\d{5}_(?P<code>DC\\d{1,3})_(?P<well_adress>\\w\\d{2})_(?P<id>\\d*)_(?P<plate>P[1-3])_(?P<wdh>W_)*UV-metric (?P<solvent>psKa|pKa).t3r\"g`  \n",
    "https://regex101.com/r/IOqHvt/2"
   ]
  },
  {
   "cell_type": "code",
   "execution_count": 5,
   "id": "89afd5a8",
   "metadata": {},
   "outputs": [
    {
     "data": {
      "text/html": [
       "<div>\n",
       "<style scoped>\n",
       "    .dataframe tbody tr th:only-of-type {\n",
       "        vertical-align: middle;\n",
       "    }\n",
       "\n",
       "    .dataframe tbody tr th {\n",
       "        vertical-align: top;\n",
       "    }\n",
       "\n",
       "    .dataframe thead th {\n",
       "        text-align: right;\n",
       "    }\n",
       "</style>\n",
       "<table border=\"1\" class=\"dataframe\">\n",
       "  <thead>\n",
       "    <tr style=\"text-align: right;\">\n",
       "      <th></th>\n",
       "      <th>filenames</th>\n",
       "      <th>matches</th>\n",
       "      <th>code</th>\n",
       "      <th>well_adress</th>\n",
       "      <th>id</th>\n",
       "      <th>plate</th>\n",
       "      <th>solvent</th>\n",
       "      <th>wdh</th>\n",
       "    </tr>\n",
       "  </thead>\n",
       "  <tbody>\n",
       "    <tr>\n",
       "      <th>0</th>\n",
       "      <td>20F-22003_DC8_D03_1032246_P1_UV-metric psKa.t3r</td>\n",
       "      <td>&lt;re.Match object; span=(0, 47), match='20F-220...</td>\n",
       "      <td>DC8</td>\n",
       "      <td>D03</td>\n",
       "      <td>1032246</td>\n",
       "      <td>P1</td>\n",
       "      <td>psKa</td>\n",
       "      <td>None</td>\n",
       "    </tr>\n",
       "    <tr>\n",
       "      <th>1</th>\n",
       "      <td>20F-29001_DC8_D03_1032246_P1_W_UV-metric psKa.t3r</td>\n",
       "      <td>&lt;re.Match object; span=(0, 49), match='20F-290...</td>\n",
       "      <td>DC8</td>\n",
       "      <td>D03</td>\n",
       "      <td>1032246</td>\n",
       "      <td>P1</td>\n",
       "      <td>psKa</td>\n",
       "      <td>W_</td>\n",
       "    </tr>\n",
       "    <tr>\n",
       "      <th>2</th>\n",
       "      <td>20F-26012_DC29_F21_1088043_P1_UV-metric psKa.t3r</td>\n",
       "      <td>&lt;re.Match object; span=(0, 48), match='20F-260...</td>\n",
       "      <td>DC29</td>\n",
       "      <td>F21</td>\n",
       "      <td>1088043</td>\n",
       "      <td>P1</td>\n",
       "      <td>psKa</td>\n",
       "      <td>None</td>\n",
       "    </tr>\n",
       "    <tr>\n",
       "      <th>3</th>\n",
       "      <td>20G-03010_DC60_L03_1366347_P1_UV-metric pKa.t3r</td>\n",
       "      <td>&lt;re.Match object; span=(0, 47), match='20G-030...</td>\n",
       "      <td>DC60</td>\n",
       "      <td>L03</td>\n",
       "      <td>1366347</td>\n",
       "      <td>P1</td>\n",
       "      <td>pKa</td>\n",
       "      <td>None</td>\n",
       "    </tr>\n",
       "    <tr>\n",
       "      <th>4</th>\n",
       "      <td>20G-04001_DC28_F19_1087258_P1_W_UV-metric psKa...</td>\n",
       "      <td>&lt;re.Match object; span=(0, 50), match='20G-040...</td>\n",
       "      <td>DC28</td>\n",
       "      <td>F19</td>\n",
       "      <td>1087258</td>\n",
       "      <td>P1</td>\n",
       "      <td>psKa</td>\n",
       "      <td>W_</td>\n",
       "    </tr>\n",
       "    <tr>\n",
       "      <th>5</th>\n",
       "      <td>21I-27003_DC245_D13_7018930044_P1_UV-metric ps...</td>\n",
       "      <td>&lt;re.Match object; span=(0, 52), match='21I-270...</td>\n",
       "      <td>DC245</td>\n",
       "      <td>D13</td>\n",
       "      <td>7018930044</td>\n",
       "      <td>P1</td>\n",
       "      <td>psKa</td>\n",
       "      <td>None</td>\n",
       "    </tr>\n",
       "    <tr>\n",
       "      <th>6</th>\n",
       "      <td>20H-26004_DC124_J03_1216895_P2_UV-metric pKa.t3r</td>\n",
       "      <td>&lt;re.Match object; span=(0, 48), match='20H-260...</td>\n",
       "      <td>DC124</td>\n",
       "      <td>J03</td>\n",
       "      <td>1216895</td>\n",
       "      <td>P2</td>\n",
       "      <td>pKa</td>\n",
       "      <td>None</td>\n",
       "    </tr>\n",
       "    <tr>\n",
       "      <th>7</th>\n",
       "      <td>20I-03024_DC168_L12_105750012_P2_UV-metric psK...</td>\n",
       "      <td>&lt;re.Match object; span=(0, 51), match='20I-030...</td>\n",
       "      <td>DC168</td>\n",
       "      <td>L12</td>\n",
       "      <td>105750012</td>\n",
       "      <td>P2</td>\n",
       "      <td>psKa</td>\n",
       "      <td>None</td>\n",
       "    </tr>\n",
       "    <tr>\n",
       "      <th>8</th>\n",
       "      <td>20J-05001_DC132_K06_1298433_P2_W_UV-metric psK...</td>\n",
       "      <td>&lt;re.Match object; span=(0, 51), match='20J-050...</td>\n",
       "      <td>DC132</td>\n",
       "      <td>K06</td>\n",
       "      <td>1298433</td>\n",
       "      <td>P2</td>\n",
       "      <td>psKa</td>\n",
       "      <td>W_</td>\n",
       "    </tr>\n",
       "    <tr>\n",
       "      <th>9</th>\n",
       "      <td>21I-14006_DC218_F07_1056516_P3_UV-metric psKa.t3r</td>\n",
       "      <td>&lt;re.Match object; span=(0, 49), match='21I-140...</td>\n",
       "      <td>DC218</td>\n",
       "      <td>F07</td>\n",
       "      <td>1056516</td>\n",
       "      <td>P3</td>\n",
       "      <td>psKa</td>\n",
       "      <td>None</td>\n",
       "    </tr>\n",
       "  </tbody>\n",
       "</table>\n",
       "</div>"
      ],
      "text/plain": [
       "                                           filenames  \\\n",
       "0    20F-22003_DC8_D03_1032246_P1_UV-metric psKa.t3r   \n",
       "1  20F-29001_DC8_D03_1032246_P1_W_UV-metric psKa.t3r   \n",
       "2   20F-26012_DC29_F21_1088043_P1_UV-metric psKa.t3r   \n",
       "3    20G-03010_DC60_L03_1366347_P1_UV-metric pKa.t3r   \n",
       "4  20G-04001_DC28_F19_1087258_P1_W_UV-metric psKa...   \n",
       "5  21I-27003_DC245_D13_7018930044_P1_UV-metric ps...   \n",
       "6   20H-26004_DC124_J03_1216895_P2_UV-metric pKa.t3r   \n",
       "7  20I-03024_DC168_L12_105750012_P2_UV-metric psK...   \n",
       "8  20J-05001_DC132_K06_1298433_P2_W_UV-metric psK...   \n",
       "9  21I-14006_DC218_F07_1056516_P3_UV-metric psKa.t3r   \n",
       "\n",
       "                                             matches   code well_adress  \\\n",
       "0  <re.Match object; span=(0, 47), match='20F-220...    DC8         D03   \n",
       "1  <re.Match object; span=(0, 49), match='20F-290...    DC8         D03   \n",
       "2  <re.Match object; span=(0, 48), match='20F-260...   DC29         F21   \n",
       "3  <re.Match object; span=(0, 47), match='20G-030...   DC60         L03   \n",
       "4  <re.Match object; span=(0, 50), match='20G-040...   DC28         F19   \n",
       "5  <re.Match object; span=(0, 52), match='21I-270...  DC245         D13   \n",
       "6  <re.Match object; span=(0, 48), match='20H-260...  DC124         J03   \n",
       "7  <re.Match object; span=(0, 51), match='20I-030...  DC168         L12   \n",
       "8  <re.Match object; span=(0, 51), match='20J-050...  DC132         K06   \n",
       "9  <re.Match object; span=(0, 49), match='21I-140...  DC218         F07   \n",
       "\n",
       "           id plate solvent   wdh  \n",
       "0     1032246    P1    psKa  None  \n",
       "1     1032246    P1    psKa    W_  \n",
       "2     1088043    P1    psKa  None  \n",
       "3     1366347    P1     pKa  None  \n",
       "4     1087258    P1    psKa    W_  \n",
       "5  7018930044    P1    psKa  None  \n",
       "6     1216895    P2     pKa  None  \n",
       "7   105750012    P2    psKa  None  \n",
       "8     1298433    P2    psKa    W_  \n",
       "9     1056516    P3    psKa  None  "
      ]
     },
     "execution_count": 5,
     "metadata": {},
     "output_type": "execute_result"
    }
   ],
   "source": [
    "df = pd.DataFrame({'filenames':datafiles})\n",
    "df['matches']=[re.search(r\"\\d{2}\\w-\\d{5}_(?P<code>DC\\d{1,3})_(?P<well_adress>\\w\\d{2})_(?P<id>\\d*)_(?P<plate>P[1-3])_\"\n",
    "                         r\"(?P<wdh>W_)*UV-metric (?P<solvent>psKa|pKa).t3r\",file) \n",
    "                         for file in df.filenames]\n",
    "for variable in ['code','well_adress','id','plate','solvent','wdh']:\n",
    "    df[variable]=[match.group(variable) for match in df.matches]\n",
    "df"
   ]
  },
  {
   "cell_type": "code",
   "execution_count": null,
   "id": "6140d779",
   "metadata": {},
   "outputs": [],
   "source": []
  },
  {
   "cell_type": "code",
   "execution_count": null,
   "id": "afb18491",
   "metadata": {},
   "outputs": [],
   "source": []
  },
  {
   "cell_type": "markdown",
   "id": "9e64c680",
   "metadata": {
    "slideshow": {
     "slide_type": "slide"
    }
   },
   "source": [
    "## Sources:\n",
    "https://regex101.com/  \n",
    "https://docs.python.org/3/library/re.html"
   ]
  },
  {
   "cell_type": "code",
   "execution_count": null,
   "id": "5708f06b",
   "metadata": {},
   "outputs": [],
   "source": []
  }
 ],
 "metadata": {
  "celltoolbar": "Slideshow",
  "kernelspec": {
   "display_name": "Python 3 (ipykernel)",
   "language": "python",
   "name": "python3"
  },
  "language_info": {
   "codemirror_mode": {
    "name": "ipython",
    "version": 3
   },
   "file_extension": ".py",
   "mimetype": "text/x-python",
   "name": "python",
   "nbconvert_exporter": "python",
   "pygments_lexer": "ipython3",
   "version": "3.9.7"
  },
  "latex_envs": {
   "LaTeX_envs_menu_present": true,
   "autoclose": false,
   "autocomplete": true,
   "bibliofile": "biblio.bib",
   "cite_by": "apalike",
   "current_citInitial": 1,
   "eqLabelWithNumbers": true,
   "eqNumInitial": 1,
   "hotkeys": {
    "equation": "Ctrl-E",
    "itemize": "Ctrl-I"
   },
   "labels_anchors": false,
   "latex_user_defs": false,
   "report_style_numbering": false,
   "user_envs_cfg": true
  }
 },
 "nbformat": 4,
 "nbformat_minor": 5
}
