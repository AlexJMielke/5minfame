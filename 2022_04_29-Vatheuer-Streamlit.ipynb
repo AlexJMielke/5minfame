{
 "cells": [
  {
   "cell_type": "markdown",
   "source": [
    "# 10MinFame - streamlit\n",
    "\n",
    "<br>\n",
    "\n",
    "**Author:** Helge Vatheuer <a href=\"https://github.com/hlgvth\">@GitHub</a><br>\n",
    "**Date:** 2022-04-29<br>\n",
    "**License:** MIT<br>\n",
    "<br><br><br>\n",
    "\n",
    "Install streamlit and other packages used in `streamlit_example.py` with `pip` (or in an virtual environment, e.g `conda`):\n",
    "\n",
    "```bash\n",
    "pip install streamlit matplotlib numpy py3Dmol stmol==0.0.7\n",
    "```\n",
    "Check successful installation:\n",
    "\n",
    "```bash\n",
    "streamlit hello\n",
    "```\n",
    "\n",
    "Check out the streamlit app with basic streamlit functionalities [click here](examples/streamlit_example.py) , you can run it with\n",
    "\n",
    "```bash\n",
    "streamlit run streamlit_example.py\n",
    "```\n",
    "\n",
    "## Examples from app\n",
    "\n",
    "![](pictures/streamlit_example1.png)\n",
    "\n",
    "![](pictures/streamlit_example2.png)\n",
    "\n",
    "\n",
    "### References / Useful resources\n",
    "\n",
    "[Streamlit documentation](https://docs.streamlit.io/)\n",
    "\n",
    "[Towards data science article of py3dmol](https://towardsdatascience.com/molecular-visualization-in-streamlit-using-rdkit-and-py3dmol-part-2-657d28152753)\n",
    "\n",
    "[streamlit_3dmol github repo](https://github.com/napoles-uach/streamlit_3dmol)"
   ],
   "metadata": {
    "collapsed": false,
    "pycharm": {
     "name": "#%% md\n"
    }
   }
  }
 ],
 "metadata": {
  "kernelspec": {
   "display_name": "Python 3 (ipykernel)",
   "language": "python",
   "name": "python3"
  },
  "language_info": {
   "codemirror_mode": {
    "name": "ipython",
    "version": 3
   },
   "file_extension": ".py",
   "mimetype": "text/x-python",
   "name": "python",
   "nbconvert_exporter": "python",
   "pygments_lexer": "ipython3",
   "version": "3.10.4"
  }
 },
 "nbformat": 4,
 "nbformat_minor": 1
}
