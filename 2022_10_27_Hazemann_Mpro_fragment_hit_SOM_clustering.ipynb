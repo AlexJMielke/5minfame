{
 "cells": [
  {
   "cell_type": "markdown",
   "id": "67f7ec89",
   "metadata": {},
   "source": [
    " # Clustering SARS-COV-2 Mpro Fragment Hits with a Self-Organizing Map\n"
   ]
  },
  {
   "cell_type": "markdown",
   "id": "81ff6d6b",
   "metadata": {},
   "source": [
    "### Source code & credit: Pat Walters\n",
    "https://github.com/PatWalters/blog_posts"
   ]
  },
  {
   "cell_type": "markdown",
   "id": "7cf5676d",
   "metadata": {},
   "source": [
    "## Clustering Fragment Crystal Structures\n",
    "\n",
    "In this notebook we'll use a few Python libraries to analyze a set of non-covalent  fragment crystal structures binding the Mpro active site reported in https://fragalysis.diamond.ac.uk/viewer/react/preview/target/Mpro <br> <br>Here's a brief outline of the workflow. \n",
    "- Download the x-ray structures from the PDB\n",
    "- Align the structures to a reference structures\n",
    "- Write the aligned protein structures to disk\n",
    "- Extract the ligands and assign bond orders\n",
    "- Write ligands to disk\n",
    "- Cluster using a Self-Organizing MAP (SOM)"
   ]
  },
  {
   "cell_type": "markdown",
   "id": "2854b2c8",
   "metadata": {},
   "source": [
    "### 0. Install libraries\n",
    "Install the necessary packages"
   ]
  },
  {
   "cell_type": "code",
   "execution_count": null,
   "id": "7e2346d2",
   "metadata": {},
   "outputs": [],
   "source": [
    "!pip install useful_rdkit_utils minisom prody seaborn"
   ]
  },
  {
   "cell_type": "code",
   "execution_count": 1,
   "id": "6aa6ee4d",
   "metadata": {},
   "outputs": [],
   "source": [
    "from rdkit import Chem\n",
    "from rdkit.Chem import AllChem\n",
    "from rdkit.Chem import PandasTools\n",
    "import pandas as pd\n",
    "from prody import *\n",
    "from tqdm.auto import tqdm\n",
    "from io import StringIO\n",
    "from operator import itemgetter\n",
    "from rdkit import RDLogger \n",
    "import numpy as np\n",
    "from rdkit.Chem.rdMolTransforms import ComputeCentroid\n",
    "from minisom import MiniSom \n",
    "import seaborn as sns\n",
    "from glob import glob\n",
    "import os\n",
    "import useful_rdkit_utils as uru"
   ]
  },
  {
   "cell_type": "markdown",
   "id": "94e94fea",
   "metadata": {},
   "source": [
    "### 1. Setup"
   ]
  },
  {
   "cell_type": "markdown",
   "id": "3a8a6f3c",
   "metadata": {},
   "source": [
    "Enable Pandas progress_apply"
   ]
  },
  {
   "cell_type": "code",
   "execution_count": 2,
   "id": "5082da35",
   "metadata": {},
   "outputs": [],
   "source": [
    "tqdm.pandas()"
   ]
  },
  {
   "cell_type": "markdown",
   "id": "90db898c",
   "metadata": {},
   "source": [
    "A function to extract a ligand from a complex, covert to an RDKit molecule, and assign bond orders. "
   ]
  },
  {
   "cell_type": "code",
   "execution_count": 3,
   "id": "cda4da6a",
   "metadata": {},
   "outputs": [],
   "source": [
    "def prody_ligand_bond_order(protein, res_name, res_smiles):\n",
    "    \"\"\"\n",
    "    Extract the ligand with the specified residue name from a Prody molecule and assign bond orders\n",
    "    :param protein: Prody protein\n",
    "    :param res_name: residue with the ligand\n",
    "    :param res_smiles: SMILES for the ligand, used for bond order assignment\n",
    "    :return: RDKit molecule with bond orders assigned\n",
    "    \"\"\"\n",
    "    output = StringIO()\n",
    "    sub_mol = protein.select(f\"resname {res_name}\")\n",
    "    template = AllChem.MolFromSmiles(res_smiles)\n",
    "    template = uru.get_largest_fragment(template)\n",
    "    writePDBStream(output, sub_mol)\n",
    "    pdb_string = output.getvalue()\n",
    "    rd_mol = AllChem.MolFromPDBBlock(pdb_string)\n",
    "    RDLogger.DisableLog('rdApp.warning')  \n",
    "    new_mol = AllChem.AssignBondOrdersFromTemplate(template, rd_mol)\n",
    "    RDLogger.EnableLog('rdApp.warning')  \n",
    "    return new_mol"
   ]
  },
  {
   "cell_type": "markdown",
   "id": "484379bb",
   "metadata": {},
   "source": [
    "## 2. Reading and Processing Data From the PDB\n",
    "### 2.1 Read the Input Data\n",
    "Read the spreadsheet with info on the fragments. The spreadhseet maps the PDB code and ligand residue ID to the ligand SMILES.  We can use this information in step 2.2 below to assign bond orders to the ligand. "
   ]
  },
  {
   "cell_type": "code",
   "execution_count": 4,
   "id": "c8595541",
   "metadata": {},
   "outputs": [],
   "source": [
    "df = pd.read_excel(\"./data/Mpro_frag_pdbs.xlsx\")"
   ]
  },
  {
   "cell_type": "code",
   "execution_count": 5,
   "id": "43f1cb83",
   "metadata": {
    "scrolled": true
   },
   "outputs": [
    {
     "data": {
      "text/html": [
       "<div>\n",
       "<style scoped>\n",
       "    .dataframe tbody tr th:only-of-type {\n",
       "        vertical-align: middle;\n",
       "    }\n",
       "\n",
       "    .dataframe tbody tr th {\n",
       "        vertical-align: top;\n",
       "    }\n",
       "\n",
       "    .dataframe thead th {\n",
       "        text-align: right;\n",
       "    }\n",
       "</style>\n",
       "<table border=\"1\" class=\"dataframe\">\n",
       "  <thead>\n",
       "    <tr style=\"text-align: right;\">\n",
       "      <th></th>\n",
       "      <th>PDB</th>\n",
       "      <th>SMILES</th>\n",
       "      <th>Ligand_RESID</th>\n",
       "    </tr>\n",
       "  </thead>\n",
       "  <tbody>\n",
       "    <tr>\n",
       "      <th>0</th>\n",
       "      <td>5R7Y</td>\n",
       "      <td>CS(=O)(=O)NCCc1ccccc1</td>\n",
       "      <td>JFM 1001</td>\n",
       "    </tr>\n",
       "    <tr>\n",
       "      <th>1</th>\n",
       "      <td>5R7Z</td>\n",
       "      <td>CC(=O)NCCc1c[nH]c(c12)ccc(F)c2</td>\n",
       "      <td>T5Y 404</td>\n",
       "    </tr>\n",
       "    <tr>\n",
       "      <th>2</th>\n",
       "      <td>5R80</td>\n",
       "      <td>COC(=O)c1ccc(cc1)S(=O)(=O)N</td>\n",
       "      <td>RZG 404</td>\n",
       "    </tr>\n",
       "    <tr>\n",
       "      <th>3</th>\n",
       "      <td>5R81</td>\n",
       "      <td>C1CCN(C)c(c12)cc(cc2)S(=O)(=O)N</td>\n",
       "      <td>RZJ 1001</td>\n",
       "    </tr>\n",
       "    <tr>\n",
       "      <th>4</th>\n",
       "      <td>5R82</td>\n",
       "      <td>N#Cc1ccc(nc1)NCC</td>\n",
       "      <td>RZS 1001</td>\n",
       "    </tr>\n",
       "    <tr>\n",
       "      <th>5</th>\n",
       "      <td>5R83</td>\n",
       "      <td>c1ncccc1NC(=O)Nc2ccccc2</td>\n",
       "      <td>K0G 404</td>\n",
       "    </tr>\n",
       "    <tr>\n",
       "      <th>6</th>\n",
       "      <td>5R84</td>\n",
       "      <td>C1CCCCC1CC(=O)Nc2cccnc2</td>\n",
       "      <td>GWS 1001</td>\n",
       "    </tr>\n",
       "    <tr>\n",
       "      <th>7</th>\n",
       "      <td>5RE4</td>\n",
       "      <td>CC(=O)Nc(c1C)cncc1</td>\n",
       "      <td>SZY 404</td>\n",
       "    </tr>\n",
       "    <tr>\n",
       "      <th>8</th>\n",
       "      <td>5RE9</td>\n",
       "      <td>C1CN(C)CCN1C(=O)COc(cc2)ccc2C</td>\n",
       "      <td>LPZ 404</td>\n",
       "    </tr>\n",
       "    <tr>\n",
       "      <th>9</th>\n",
       "      <td>5REB</td>\n",
       "      <td>OC1CCN(CC1)Cc2ccsc2</td>\n",
       "      <td>T0Y 404</td>\n",
       "    </tr>\n",
       "    <tr>\n",
       "      <th>10</th>\n",
       "      <td>5REH</td>\n",
       "      <td>C1CCCCC1NC(=O)NCCc2ccncc2</td>\n",
       "      <td>AWP 404</td>\n",
       "    </tr>\n",
       "    <tr>\n",
       "      <th>11</th>\n",
       "      <td>5REZ</td>\n",
       "      <td>C1CC[C@H]([C@H]1C(=O)N)c2ccsc2</td>\n",
       "      <td>T54 404</td>\n",
       "    </tr>\n",
       "    <tr>\n",
       "      <th>12</th>\n",
       "      <td>5RF1</td>\n",
       "      <td>NS(=O)(=O)c1ccc(Br)cc1</td>\n",
       "      <td>T5G 404</td>\n",
       "    </tr>\n",
       "    <tr>\n",
       "      <th>13</th>\n",
       "      <td>5RF2</td>\n",
       "      <td>N=C(N)CC</td>\n",
       "      <td>HVB 404</td>\n",
       "    </tr>\n",
       "    <tr>\n",
       "      <th>14</th>\n",
       "      <td>5RF3</td>\n",
       "      <td>Nc1cncnc1</td>\n",
       "      <td>T5V 404</td>\n",
       "    </tr>\n",
       "    <tr>\n",
       "      <th>15</th>\n",
       "      <td>5RF6</td>\n",
       "      <td>N#Cc1ccc(cn1)N2CCCOCC2</td>\n",
       "      <td>NTG 404</td>\n",
       "    </tr>\n",
       "    <tr>\n",
       "      <th>16</th>\n",
       "      <td>5RF7</td>\n",
       "      <td>C1CN(C)CCN1C(=O)Cc2c[nH]c(c23)nccc3</td>\n",
       "      <td>T67 404</td>\n",
       "    </tr>\n",
       "    <tr>\n",
       "      <th>17</th>\n",
       "      <td>5RFE</td>\n",
       "      <td>N#Cc1ccc(cc1)CNC(=O)N2CCOCC2</td>\n",
       "      <td>JGG 404</td>\n",
       "    </tr>\n",
       "    <tr>\n",
       "      <th>18</th>\n",
       "      <td>5RG1</td>\n",
       "      <td>BrC#CCNC(=O)[C@@H](NC(=O)C)Cc1ccc(O)cc1</td>\n",
       "      <td>T9J 404</td>\n",
       "    </tr>\n",
       "    <tr>\n",
       "      <th>19</th>\n",
       "      <td>5RGH</td>\n",
       "      <td>Cc(s1)nnc1CN(C2)CCC=C2F</td>\n",
       "      <td>U0M 404</td>\n",
       "    </tr>\n",
       "    <tr>\n",
       "      <th>20</th>\n",
       "      <td>5RGI</td>\n",
       "      <td>C1CC1NC(=O)N(C)Cc2cc(C)on2</td>\n",
       "      <td>U0P 404</td>\n",
       "    </tr>\n",
       "    <tr>\n",
       "      <th>21</th>\n",
       "      <td>5RGK</td>\n",
       "      <td>c1cccc(F)c1C(=O)NCCc2ccncc2</td>\n",
       "      <td>U0V 404</td>\n",
       "    </tr>\n",
       "    <tr>\n",
       "      <th>22</th>\n",
       "      <td>5RGU</td>\n",
       "      <td>c1ncncc1CC(=O)Nc2cc(ccc2)O[C@@H](N3)CC3=O</td>\n",
       "      <td>UGD 1001</td>\n",
       "    </tr>\n",
       "    <tr>\n",
       "      <th>23</th>\n",
       "      <td>5RGV</td>\n",
       "      <td>c1ccccc1NC(=O)Cc2cncc(c23)cccc3</td>\n",
       "      <td>UGG 1001</td>\n",
       "    </tr>\n",
       "    <tr>\n",
       "      <th>24</th>\n",
       "      <td>5RGW</td>\n",
       "      <td>N#Cc1cc(cnc1)CC(=O)Nc2cccnc2</td>\n",
       "      <td>UGM 1001</td>\n",
       "    </tr>\n",
       "    <tr>\n",
       "      <th>25</th>\n",
       "      <td>5RGX</td>\n",
       "      <td>N#Cc1cc(ccc1)CC(=O)Nc(c2C)cncc2</td>\n",
       "      <td>UGP 1001</td>\n",
       "    </tr>\n",
       "    <tr>\n",
       "      <th>26</th>\n",
       "      <td>5RGY</td>\n",
       "      <td>COc1cc(ncc1)NC(=O)Cc(c2)ccc(c23)cccc3</td>\n",
       "      <td>UGS 1001</td>\n",
       "    </tr>\n",
       "    <tr>\n",
       "      <th>27</th>\n",
       "      <td>5RGZ</td>\n",
       "      <td>N#Cc1cc(ccc1)CC(=O)Nc2cccnc2</td>\n",
       "      <td>UH1 1001</td>\n",
       "    </tr>\n",
       "    <tr>\n",
       "      <th>28</th>\n",
       "      <td>5RH0</td>\n",
       "      <td>Cc1ccc(s1)NC(=O)Nc2cccnc2</td>\n",
       "      <td>UH4 1001</td>\n",
       "    </tr>\n",
       "    <tr>\n",
       "      <th>29</th>\n",
       "      <td>5RH1</td>\n",
       "      <td>s1c(Cl)ccc1CC(=O)Nc2cccnc2</td>\n",
       "      <td>UGV 1001</td>\n",
       "    </tr>\n",
       "    <tr>\n",
       "      <th>30</th>\n",
       "      <td>5RH2</td>\n",
       "      <td>c1cncc(c1C)NC(=O)Cc2cc(Cl)ccc2</td>\n",
       "      <td>UH7 1001</td>\n",
       "    </tr>\n",
       "    <tr>\n",
       "      <th>31</th>\n",
       "      <td>5RH3</td>\n",
       "      <td>c1cncc(c1C)NC(=O)[C@H](C)c2cc(Cl)ccc2</td>\n",
       "      <td>UHA 1001</td>\n",
       "    </tr>\n",
       "    <tr>\n",
       "      <th>32</th>\n",
       "      <td>5RHD</td>\n",
       "      <td>CS(=O)(=O)c(cc1)ccc1N2CCNCC2</td>\n",
       "      <td>US7 408</td>\n",
       "    </tr>\n",
       "    <tr>\n",
       "      <th>33</th>\n",
       "      <td>7K0F</td>\n",
       "      <td>c1ccccc1CNC(=O)C(O)[C@H](C[C@@H](C2=O)CCN2)NC(...</td>\n",
       "      <td>VR4 401</td>\n",
       "    </tr>\n",
       "  </tbody>\n",
       "</table>\n",
       "</div>"
      ],
      "text/plain": [
       "     PDB                                             SMILES Ligand_RESID\n",
       "0   5R7Y                              CS(=O)(=O)NCCc1ccccc1     JFM 1001\n",
       "1   5R7Z                     CC(=O)NCCc1c[nH]c(c12)ccc(F)c2      T5Y 404\n",
       "2   5R80                        COC(=O)c1ccc(cc1)S(=O)(=O)N      RZG 404\n",
       "3   5R81                    C1CCN(C)c(c12)cc(cc2)S(=O)(=O)N     RZJ 1001\n",
       "4   5R82                                   N#Cc1ccc(nc1)NCC     RZS 1001\n",
       "5   5R83                            c1ncccc1NC(=O)Nc2ccccc2      K0G 404\n",
       "6   5R84                            C1CCCCC1CC(=O)Nc2cccnc2     GWS 1001\n",
       "7   5RE4                                 CC(=O)Nc(c1C)cncc1      SZY 404\n",
       "8   5RE9                      C1CN(C)CCN1C(=O)COc(cc2)ccc2C      LPZ 404\n",
       "9   5REB                                OC1CCN(CC1)Cc2ccsc2      T0Y 404\n",
       "10  5REH                          C1CCCCC1NC(=O)NCCc2ccncc2      AWP 404\n",
       "11  5REZ                     C1CC[C@H]([C@H]1C(=O)N)c2ccsc2      T54 404\n",
       "12  5RF1                             NS(=O)(=O)c1ccc(Br)cc1      T5G 404\n",
       "13  5RF2                                           N=C(N)CC      HVB 404\n",
       "14  5RF3                                          Nc1cncnc1      T5V 404\n",
       "15  5RF6                             N#Cc1ccc(cn1)N2CCCOCC2      NTG 404\n",
       "16  5RF7                C1CN(C)CCN1C(=O)Cc2c[nH]c(c23)nccc3      T67 404\n",
       "17  5RFE                       N#Cc1ccc(cc1)CNC(=O)N2CCOCC2      JGG 404\n",
       "18  5RG1            BrC#CCNC(=O)[C@@H](NC(=O)C)Cc1ccc(O)cc1      T9J 404\n",
       "19  5RGH                            Cc(s1)nnc1CN(C2)CCC=C2F      U0M 404\n",
       "20  5RGI                         C1CC1NC(=O)N(C)Cc2cc(C)on2      U0P 404\n",
       "21  5RGK                        c1cccc(F)c1C(=O)NCCc2ccncc2      U0V 404\n",
       "22  5RGU          c1ncncc1CC(=O)Nc2cc(ccc2)O[C@@H](N3)CC3=O     UGD 1001\n",
       "23  5RGV                    c1ccccc1NC(=O)Cc2cncc(c23)cccc3     UGG 1001\n",
       "24  5RGW                       N#Cc1cc(cnc1)CC(=O)Nc2cccnc2     UGM 1001\n",
       "25  5RGX                    N#Cc1cc(ccc1)CC(=O)Nc(c2C)cncc2     UGP 1001\n",
       "26  5RGY              COc1cc(ncc1)NC(=O)Cc(c2)ccc(c23)cccc3     UGS 1001\n",
       "27  5RGZ                       N#Cc1cc(ccc1)CC(=O)Nc2cccnc2     UH1 1001\n",
       "28  5RH0                          Cc1ccc(s1)NC(=O)Nc2cccnc2     UH4 1001\n",
       "29  5RH1                         s1c(Cl)ccc1CC(=O)Nc2cccnc2     UGV 1001\n",
       "30  5RH2                     c1cncc(c1C)NC(=O)Cc2cc(Cl)ccc2     UH7 1001\n",
       "31  5RH3              c1cncc(c1C)NC(=O)[C@H](C)c2cc(Cl)ccc2     UHA 1001\n",
       "32  5RHD                       CS(=O)(=O)c(cc1)ccc1N2CCNCC2      US7 408\n",
       "33  7K0F  c1ccccc1CNC(=O)C(O)[C@H](C[C@@H](C2=O)CCN2)NC(...      VR4 401"
      ]
     },
     "execution_count": 5,
     "metadata": {},
     "output_type": "execute_result"
    }
   ],
   "source": [
    "df"
   ]
  },
  {
   "cell_type": "markdown",
   "id": "a85794b6",
   "metadata": {},
   "source": [
    "### 2.2 Extract Ligands and Assign Bond Orders\n",
    "1. Align each protein to the reference\n",
    "2. Extract the ligand and assign bond orders\n",
    "3. Build up a list of ligands"
   ]
  },
  {
   "cell_type": "markdown",
   "id": "b5cdaf03",
   "metadata": {},
   "source": [
    "Run ProDy <br> \n",
    "ProDy is a free and open-source Python package for protein structural dynamics analysis."
   ]
  },
  {
   "cell_type": "code",
   "execution_count": 6,
   "id": "5a98c728",
   "metadata": {},
   "outputs": [],
   "source": [
    "#Make Prody less chatty\n",
    "prody.confProDy(verbosity='critical')"
   ]
  },
  {
   "cell_type": "markdown",
   "id": "90f1c080",
   "metadata": {},
   "source": [
    "Set up a reference protein to align the other proteins to"
   ]
  },
  {
   "cell_type": "code",
   "execution_count": 7,
   "id": "7980f0c6",
   "metadata": {},
   "outputs": [],
   "source": [
    "ref_prot = prody.parsePDB('7K0F')\n",
    "ref_prot = ref_prot.select(\"chain A\")"
   ]
  },
  {
   "cell_type": "code",
   "execution_count": 8,
   "id": "0d7e80a0",
   "metadata": {
    "scrolled": false
   },
   "outputs": [
    {
     "data": {
      "application/vnd.jupyter.widget-view+json": {
       "model_id": "2746373b2b7542ce971d63b06449afc3",
       "version_major": 2,
       "version_minor": 0
      },
      "text/plain": [
       "  0%|          | 0/34 [00:00<?, ?it/s]"
      ]
     },
     "metadata": {},
     "output_type": "display_data"
    }
   ],
   "source": [
    "rd_ligand_list = []\n",
    "for p,smi, res in tqdm(df[['PDB','SMILES','Ligand_RESID']].values):\n",
    "    prot = prody.parsePDB(p)\n",
    "    # break if we can't get the PDB\n",
    "    if prot is None:\n",
    "        continue\n",
    "    # loop over chains and find the first one with the specified ligand\n",
    "    hv = prot.getHierView()\n",
    "    for chain in hv:\n",
    "        if chain.select(f\"resname {res}\"):\n",
    "            # align to the reference\n",
    "            atommaps = prody.alignChains(chain, ref_prot)\n",
    "            top_atommap = atommaps[0]\n",
    "            torf_mapped = top_atommap.getFlags(\"mapped\")\n",
    "            prody.superpose(top_atommap, ref_prot, torf_mapped)\n",
    "            # save the aligned pdb\n",
    "            prody.writePDB(f\"{p}_aligned.pdb\",chain)\n",
    "            \n",
    "            # get the ligand and assign bond orders\n",
    "            rd_lig_mol = prody_ligand_bond_order(chain,res,smi)\n",
    "            rd_lig_mol.SetProp(\"Name\",p)\n",
    "            rd_lig_mol.SetProp(\"_Name\",p)\n",
    "            rd_ligand_list.append(rd_lig_mol)\n",
    "            break"
   ]
  },
  {
   "cell_type": "markdown",
   "id": "1f440d95",
   "metadata": {},
   "source": [
    "Let's see how many ligands we ended up with"
   ]
  },
  {
   "cell_type": "code",
   "execution_count": 9,
   "id": "9e579c5c",
   "metadata": {},
   "outputs": [
    {
     "data": {
      "text/plain": [
       "33"
      ]
     },
     "execution_count": 9,
     "metadata": {},
     "output_type": "execute_result"
    }
   ],
   "source": [
    "len(rd_ligand_list)"
   ]
  },
  {
   "cell_type": "markdown",
   "id": "4b7fa706",
   "metadata": {},
   "source": [
    "Save the ligands to a file"
   ]
  },
  {
   "cell_type": "code",
   "execution_count": 10,
   "id": "f7e959bb",
   "metadata": {},
   "outputs": [],
   "source": [
    "writer = Chem.SDWriter(\"ligs_complete.sdf\")\n",
    "for mol in rd_ligand_list:\n",
    "    writer.write(mol)\n",
    "writer.close()"
   ]
  },
  {
   "cell_type": "markdown",
   "id": "472eb5ac",
   "metadata": {},
   "source": [
    "### 2.3 Handle Multiple Ligands\n",
    "Some of the pdb files have multiple copies of the same ligand bound in different pockets.  Separate these into individual ligands "
   ]
  },
  {
   "cell_type": "code",
   "execution_count": 11,
   "id": "e992b6c5",
   "metadata": {},
   "outputs": [
    {
     "name": "stdout",
     "output_type": "stream",
     "text": [
      "Read 33 molecules containing 33 fragments\n"
     ]
    }
   ],
   "source": [
    "frag_mol_list = []\n",
    "for idx,mol in enumerate(rd_ligand_list,1):\n",
    "    name = mol.GetProp(\"Name\")\n",
    "    frag_list = Chem.GetMolFrags(mol,asMols=True)\n",
    "    for frag_idx,frag in enumerate(frag_list):\n",
    "        frag.SetProp(\"Name\",name)\n",
    "        frag.SetProp(\"Sequence\",str(frag_idx))\n",
    "        frag.SetProp(\"_Name\",name)\n",
    "        frag_mol_list.append(frag)\n",
    "print(f\"Read {idx} molecules containing {len(frag_mol_list)} fragments\")"
   ]
  },
  {
   "cell_type": "markdown",
   "id": "6ecbc96a",
   "metadata": {},
   "source": [
    "Write the separated ligands to a file"
   ]
  },
  {
   "cell_type": "code",
   "execution_count": 12,
   "id": "b443f472",
   "metadata": {},
   "outputs": [],
   "source": [
    "writer = Chem.SDWriter(\"ligs_separated.sdf\")\n",
    "for mol in frag_mol_list:\n",
    "    writer.write(mol)\n",
    "writer.close()"
   ]
  },
  {
   "cell_type": "markdown",
   "id": "65ebc49c",
   "metadata": {},
   "source": [
    "## 3. Calculate the Center of Each Ligand\n",
    "Create a dataframe with the ligands"
   ]
  },
  {
   "cell_type": "code",
   "execution_count": 13,
   "id": "057d54ad",
   "metadata": {},
   "outputs": [],
   "source": [
    "lig_df = pd.DataFrame({'ROMol' : frag_mol_list, \n",
    "                       'Name': [x.GetProp(\"Name\") for x in frag_mol_list],\n",
    "                       'Sequence': [x.GetProp(\"Sequence\") for x in frag_mol_list]\n",
    "                      })"
   ]
  },
  {
   "cell_type": "markdown",
   "id": "c9d69528",
   "metadata": {},
   "source": [
    "Calculate the geometric center for each ligand"
   ]
  },
  {
   "cell_type": "code",
   "execution_count": 14,
   "id": "019032a0",
   "metadata": {},
   "outputs": [
    {
     "data": {
      "application/vnd.jupyter.widget-view+json": {
       "model_id": "4602524a9dd8437c94c85a4b63242284",
       "version_major": 2,
       "version_minor": 0
      },
      "text/plain": [
       "  0%|          | 0/33 [00:00<?, ?it/s]"
      ]
     },
     "metadata": {},
     "output_type": "display_data"
    }
   ],
   "source": [
    "lig_df['center'] = lig_df.ROMol.progress_apply(uru.get_center)"
   ]
  },
  {
   "cell_type": "markdown",
   "id": "05a7f07f",
   "metadata": {},
   "source": [
    "Create a numpy array containing the ligand centers"
   ]
  },
  {
   "cell_type": "code",
   "execution_count": 15,
   "id": "f147fa69",
   "metadata": {},
   "outputs": [],
   "source": [
    "X = np.stack(lig_df.center)"
   ]
  },
  {
   "cell_type": "markdown",
   "id": "892a402c",
   "metadata": {},
   "source": [
    "## 4. Use a Self-Organizing Map (SOM) to Cluster the Ligands\n",
    "\n",
    "Initialize the SOM"
   ]
  },
  {
   "cell_type": "code",
   "execution_count": 16,
   "id": "8558e422",
   "metadata": {},
   "outputs": [],
   "source": [
    "som = MiniSom(5,5,3, random_seed=1)\n",
    "som.train(X,1000)\n",
    "cell = [som.winner(i) for i in X]"
   ]
  },
  {
   "cell_type": "markdown",
   "id": "86be087e",
   "metadata": {},
   "source": [
    "Create column in the dataframe to hold the cell ids"
   ]
  },
  {
   "cell_type": "code",
   "execution_count": 17,
   "id": "e6707be8",
   "metadata": {},
   "outputs": [],
   "source": [
    "lig_df['cell'] = cell"
   ]
  },
  {
   "cell_type": "code",
   "execution_count": 18,
   "id": "6f071a06",
   "metadata": {},
   "outputs": [
    {
     "data": {
      "text/html": [
       "<div>\n",
       "<style scoped>\n",
       "    .dataframe tbody tr th:only-of-type {\n",
       "        vertical-align: middle;\n",
       "    }\n",
       "\n",
       "    .dataframe tbody tr th {\n",
       "        vertical-align: top;\n",
       "    }\n",
       "\n",
       "    .dataframe thead th {\n",
       "        text-align: right;\n",
       "    }\n",
       "</style>\n",
       "<table border=\"1\" class=\"dataframe\">\n",
       "  <thead>\n",
       "    <tr style=\"text-align: right;\">\n",
       "      <th></th>\n",
       "      <th>ROMol</th>\n",
       "      <th>Name</th>\n",
       "      <th>Sequence</th>\n",
       "      <th>center</th>\n",
       "      <th>cell</th>\n",
       "    </tr>\n",
       "  </thead>\n",
       "  <tbody>\n",
       "    <tr>\n",
       "      <th>0</th>\n",
       "      <td>&lt;rdkit.Chem.rdchem.Mol object at 0x7fae049f4350&gt;</td>\n",
       "      <td>5R7Y</td>\n",
       "      <td>0</td>\n",
       "      <td>[13.249461538461539, 22.272230769230774, 30.09...</td>\n",
       "      <td>(4, 3)</td>\n",
       "    </tr>\n",
       "    <tr>\n",
       "      <th>1</th>\n",
       "      <td>&lt;rdkit.Chem.rdchem.Mol object at 0x7fae049f4820&gt;</td>\n",
       "      <td>5R80</td>\n",
       "      <td>0</td>\n",
       "      <td>[13.964214285714288, 25.18, 26.190714285714286]</td>\n",
       "      <td>(4, 1)</td>\n",
       "    </tr>\n",
       "    <tr>\n",
       "      <th>2</th>\n",
       "      <td>&lt;rdkit.Chem.rdchem.Mol object at 0x7fae049f4200&gt;</td>\n",
       "      <td>5R81</td>\n",
       "      <td>0</td>\n",
       "      <td>[13.6084, 24.955733333333335, 26.351799999999994]</td>\n",
       "      <td>(4, 1)</td>\n",
       "    </tr>\n",
       "    <tr>\n",
       "      <th>3</th>\n",
       "      <td>&lt;rdkit.Chem.rdchem.Mol object at 0x7fae049f43c0&gt;</td>\n",
       "      <td>5R82</td>\n",
       "      <td>0</td>\n",
       "      <td>[13.869000000000002, 23.278363636363636, 28.25...</td>\n",
       "      <td>(4, 2)</td>\n",
       "    </tr>\n",
       "    <tr>\n",
       "      <th>4</th>\n",
       "      <td>&lt;rdkit.Chem.rdchem.Mol object at 0x7fae049f4430&gt;</td>\n",
       "      <td>5R83</td>\n",
       "      <td>0</td>\n",
       "      <td>[10.689875, 22.155312500000004, 26.73431249999...</td>\n",
       "      <td>(0, 1)</td>\n",
       "    </tr>\n",
       "    <tr>\n",
       "      <th>5</th>\n",
       "      <td>&lt;rdkit.Chem.rdchem.Mol object at 0x7fae049f49e0&gt;</td>\n",
       "      <td>5R84</td>\n",
       "      <td>0</td>\n",
       "      <td>[10.98325, 21.9586875, 27.040125000000003]</td>\n",
       "      <td>(0, 0)</td>\n",
       "    </tr>\n",
       "    <tr>\n",
       "      <th>6</th>\n",
       "      <td>&lt;rdkit.Chem.rdchem.Mol object at 0x7fae049f4a50&gt;</td>\n",
       "      <td>5RE4</td>\n",
       "      <td>0</td>\n",
       "      <td>[9.023272727272728, 21.75272727272727, 26.5504...</td>\n",
       "      <td>(0, 3)</td>\n",
       "    </tr>\n",
       "    <tr>\n",
       "      <th>7</th>\n",
       "      <td>&lt;rdkit.Chem.rdchem.Mol object at 0x7fae049f4ac0&gt;</td>\n",
       "      <td>5RE9</td>\n",
       "      <td>0</td>\n",
       "      <td>[12.346777777777781, 25.580666666666662, 31.04...</td>\n",
       "      <td>(3, 3)</td>\n",
       "    </tr>\n",
       "    <tr>\n",
       "      <th>8</th>\n",
       "      <td>&lt;rdkit.Chem.rdchem.Mol object at 0x7fae049f4b30&gt;</td>\n",
       "      <td>5REB</td>\n",
       "      <td>0</td>\n",
       "      <td>[13.781538461538462, 22.16646153846154, 30.418...</td>\n",
       "      <td>(4, 3)</td>\n",
       "    </tr>\n",
       "    <tr>\n",
       "      <th>9</th>\n",
       "      <td>&lt;rdkit.Chem.rdchem.Mol object at 0x7fae049f4ba0&gt;</td>\n",
       "      <td>5REH</td>\n",
       "      <td>0</td>\n",
       "      <td>[5.17038888888889, 24.85977777777778, 27.97638...</td>\n",
       "      <td>(0, 4)</td>\n",
       "    </tr>\n",
       "    <tr>\n",
       "      <th>10</th>\n",
       "      <td>&lt;rdkit.Chem.rdchem.Mol object at 0x7fae049f4c10&gt;</td>\n",
       "      <td>5REZ</td>\n",
       "      <td>0</td>\n",
       "      <td>[12.406538461538462, 23.27292307692307, 27.330...</td>\n",
       "      <td>(2, 2)</td>\n",
       "    </tr>\n",
       "    <tr>\n",
       "      <th>11</th>\n",
       "      <td>&lt;rdkit.Chem.rdchem.Mol object at 0x7fae049f4c80&gt;</td>\n",
       "      <td>5RF1</td>\n",
       "      <td>0</td>\n",
       "      <td>[13.512363636363638, 25.644272727272725, 25.69...</td>\n",
       "      <td>(4, 1)</td>\n",
       "    </tr>\n",
       "    <tr>\n",
       "      <th>12</th>\n",
       "      <td>&lt;rdkit.Chem.rdchem.Mol object at 0x7fae049f4cf0&gt;</td>\n",
       "      <td>5RF2</td>\n",
       "      <td>0</td>\n",
       "      <td>[12.7456, 20.584600000000002, 32.455200000000005]</td>\n",
       "      <td>(4, 4)</td>\n",
       "    </tr>\n",
       "    <tr>\n",
       "      <th>13</th>\n",
       "      <td>&lt;rdkit.Chem.rdchem.Mol object at 0x7fae049f4d60&gt;</td>\n",
       "      <td>5RF3</td>\n",
       "      <td>0</td>\n",
       "      <td>[6.657142857142858, 21.22457142857143, 26.1192...</td>\n",
       "      <td>(1, 4)</td>\n",
       "    </tr>\n",
       "    <tr>\n",
       "      <th>14</th>\n",
       "      <td>&lt;rdkit.Chem.rdchem.Mol object at 0x7fae049f4dd0&gt;</td>\n",
       "      <td>5RF6</td>\n",
       "      <td>0</td>\n",
       "      <td>[12.313399999999998, 21.69826666666667, 30.625...</td>\n",
       "      <td>(3, 4)</td>\n",
       "    </tr>\n",
       "    <tr>\n",
       "      <th>15</th>\n",
       "      <td>&lt;rdkit.Chem.rdchem.Mol object at 0x7fae049f4e40&gt;</td>\n",
       "      <td>5RF7</td>\n",
       "      <td>0</td>\n",
       "      <td>[10.342368421052633, 22.08431578947368, 26.859...</td>\n",
       "      <td>(0, 1)</td>\n",
       "    </tr>\n",
       "    <tr>\n",
       "      <th>16</th>\n",
       "      <td>&lt;rdkit.Chem.rdchem.Mol object at 0x7fae049f4eb0&gt;</td>\n",
       "      <td>5RFE</td>\n",
       "      <td>0</td>\n",
       "      <td>[11.483722222222223, 23.66111111111111, 28.300...</td>\n",
       "      <td>(2, 3)</td>\n",
       "    </tr>\n",
       "    <tr>\n",
       "      <th>17</th>\n",
       "      <td>&lt;rdkit.Chem.rdchem.Mol object at 0x7fae049f4f20&gt;</td>\n",
       "      <td>5RG1</td>\n",
       "      <td>0</td>\n",
       "      <td>[10.03515, 22.9566, 26.73505]</td>\n",
       "      <td>(1, 2)</td>\n",
       "    </tr>\n",
       "    <tr>\n",
       "      <th>18</th>\n",
       "      <td>&lt;rdkit.Chem.rdchem.Mol object at 0x7fae049f4f90&gt;</td>\n",
       "      <td>5RGH</td>\n",
       "      <td>0</td>\n",
       "      <td>[13.306785714285711, 22.283428571428573, 29.35...</td>\n",
       "      <td>(4, 3)</td>\n",
       "    </tr>\n",
       "    <tr>\n",
       "      <th>19</th>\n",
       "      <td>&lt;rdkit.Chem.rdchem.Mol object at 0x7fae049f5000&gt;</td>\n",
       "      <td>5RGI</td>\n",
       "      <td>0</td>\n",
       "      <td>[8.206866666666667, 20.15246666666667, 28.1496...</td>\n",
       "      <td>(1, 4)</td>\n",
       "    </tr>\n",
       "    <tr>\n",
       "      <th>20</th>\n",
       "      <td>&lt;rdkit.Chem.rdchem.Mol object at 0x7fae049f5070&gt;</td>\n",
       "      <td>5RGK</td>\n",
       "      <td>0</td>\n",
       "      <td>[5.286, 24.998944444444447, 28.500944444444446]</td>\n",
       "      <td>(0, 4)</td>\n",
       "    </tr>\n",
       "    <tr>\n",
       "      <th>21</th>\n",
       "      <td>&lt;rdkit.Chem.rdchem.Mol object at 0x7fae049f50e0&gt;</td>\n",
       "      <td>5RGU</td>\n",
       "      <td>0</td>\n",
       "      <td>[11.614136363636364, 23.393636363636368, 25.39...</td>\n",
       "      <td>(2, 0)</td>\n",
       "    </tr>\n",
       "    <tr>\n",
       "      <th>22</th>\n",
       "      <td>&lt;rdkit.Chem.rdchem.Mol object at 0x7fae049f5150&gt;</td>\n",
       "      <td>5RGV</td>\n",
       "      <td>0</td>\n",
       "      <td>[9.3784, 22.70645, 26.665900000000004]</td>\n",
       "      <td>(1, 3)</td>\n",
       "    </tr>\n",
       "    <tr>\n",
       "      <th>23</th>\n",
       "      <td>&lt;rdkit.Chem.rdchem.Mol object at 0x7fae049f51c0&gt;</td>\n",
       "      <td>5RGW</td>\n",
       "      <td>0</td>\n",
       "      <td>[11.120777777777777, 21.964000000000002, 26.59...</td>\n",
       "      <td>(0, 0)</td>\n",
       "    </tr>\n",
       "    <tr>\n",
       "      <th>24</th>\n",
       "      <td>&lt;rdkit.Chem.rdchem.Mol object at 0x7fae049f5230&gt;</td>\n",
       "      <td>5RGX</td>\n",
       "      <td>0</td>\n",
       "      <td>[10.981578947368423, 22.05821052631579, 26.693...</td>\n",
       "      <td>(0, 0)</td>\n",
       "    </tr>\n",
       "    <tr>\n",
       "      <th>25</th>\n",
       "      <td>&lt;rdkit.Chem.rdchem.Mol object at 0x7fae049f52a0&gt;</td>\n",
       "      <td>5RGY</td>\n",
       "      <td>0</td>\n",
       "      <td>[12.213227272727273, 26.963545454545454, 24.93...</td>\n",
       "      <td>(3, 1)</td>\n",
       "    </tr>\n",
       "    <tr>\n",
       "      <th>26</th>\n",
       "      <td>&lt;rdkit.Chem.rdchem.Mol object at 0x7fae049f5310&gt;</td>\n",
       "      <td>5RGZ</td>\n",
       "      <td>0</td>\n",
       "      <td>[11.150666666666668, 21.971944444444446, 26.69...</td>\n",
       "      <td>(0, 0)</td>\n",
       "    </tr>\n",
       "    <tr>\n",
       "      <th>27</th>\n",
       "      <td>&lt;rdkit.Chem.rdchem.Mol object at 0x7fae049f5380&gt;</td>\n",
       "      <td>5RH0</td>\n",
       "      <td>0</td>\n",
       "      <td>[10.2895625, 22.4358125, 26.394125]</td>\n",
       "      <td>(0, 2)</td>\n",
       "    </tr>\n",
       "    <tr>\n",
       "      <th>28</th>\n",
       "      <td>&lt;rdkit.Chem.rdchem.Mol object at 0x7fae049f53f0&gt;</td>\n",
       "      <td>5RH1</td>\n",
       "      <td>0</td>\n",
       "      <td>[10.4460625, 22.320187499999996, 26.7326874999...</td>\n",
       "      <td>(1, 1)</td>\n",
       "    </tr>\n",
       "    <tr>\n",
       "      <th>29</th>\n",
       "      <td>&lt;rdkit.Chem.rdchem.Mol object at 0x7fae049f5460&gt;</td>\n",
       "      <td>5RH2</td>\n",
       "      <td>0</td>\n",
       "      <td>[10.565833333333334, 22.149944444444444, 26.79...</td>\n",
       "      <td>(0, 1)</td>\n",
       "    </tr>\n",
       "    <tr>\n",
       "      <th>30</th>\n",
       "      <td>&lt;rdkit.Chem.rdchem.Mol object at 0x7fae049f54d0&gt;</td>\n",
       "      <td>5RH3</td>\n",
       "      <td>0</td>\n",
       "      <td>[10.488263157894735, 22.096000000000004, 26.96...</td>\n",
       "      <td>(0, 1)</td>\n",
       "    </tr>\n",
       "    <tr>\n",
       "      <th>31</th>\n",
       "      <td>&lt;rdkit.Chem.rdchem.Mol object at 0x7fae049f5540&gt;</td>\n",
       "      <td>5RHD</td>\n",
       "      <td>0</td>\n",
       "      <td>[12.382250000000003, 22.348062499999994, 29.70...</td>\n",
       "      <td>(3, 4)</td>\n",
       "    </tr>\n",
       "    <tr>\n",
       "      <th>32</th>\n",
       "      <td>&lt;rdkit.Chem.rdchem.Mol object at 0x7fae049f55b0&gt;</td>\n",
       "      <td>7K0F</td>\n",
       "      <td>0</td>\n",
       "      <td>[9.61397435897436, 22.3984358974359, 27.662358...</td>\n",
       "      <td>(1, 3)</td>\n",
       "    </tr>\n",
       "  </tbody>\n",
       "</table>\n",
       "</div>"
      ],
      "text/plain": [
       "                                               ROMol  Name Sequence  \\\n",
       "0   <rdkit.Chem.rdchem.Mol object at 0x7fae049f4350>  5R7Y        0   \n",
       "1   <rdkit.Chem.rdchem.Mol object at 0x7fae049f4820>  5R80        0   \n",
       "2   <rdkit.Chem.rdchem.Mol object at 0x7fae049f4200>  5R81        0   \n",
       "3   <rdkit.Chem.rdchem.Mol object at 0x7fae049f43c0>  5R82        0   \n",
       "4   <rdkit.Chem.rdchem.Mol object at 0x7fae049f4430>  5R83        0   \n",
       "5   <rdkit.Chem.rdchem.Mol object at 0x7fae049f49e0>  5R84        0   \n",
       "6   <rdkit.Chem.rdchem.Mol object at 0x7fae049f4a50>  5RE4        0   \n",
       "7   <rdkit.Chem.rdchem.Mol object at 0x7fae049f4ac0>  5RE9        0   \n",
       "8   <rdkit.Chem.rdchem.Mol object at 0x7fae049f4b30>  5REB        0   \n",
       "9   <rdkit.Chem.rdchem.Mol object at 0x7fae049f4ba0>  5REH        0   \n",
       "10  <rdkit.Chem.rdchem.Mol object at 0x7fae049f4c10>  5REZ        0   \n",
       "11  <rdkit.Chem.rdchem.Mol object at 0x7fae049f4c80>  5RF1        0   \n",
       "12  <rdkit.Chem.rdchem.Mol object at 0x7fae049f4cf0>  5RF2        0   \n",
       "13  <rdkit.Chem.rdchem.Mol object at 0x7fae049f4d60>  5RF3        0   \n",
       "14  <rdkit.Chem.rdchem.Mol object at 0x7fae049f4dd0>  5RF6        0   \n",
       "15  <rdkit.Chem.rdchem.Mol object at 0x7fae049f4e40>  5RF7        0   \n",
       "16  <rdkit.Chem.rdchem.Mol object at 0x7fae049f4eb0>  5RFE        0   \n",
       "17  <rdkit.Chem.rdchem.Mol object at 0x7fae049f4f20>  5RG1        0   \n",
       "18  <rdkit.Chem.rdchem.Mol object at 0x7fae049f4f90>  5RGH        0   \n",
       "19  <rdkit.Chem.rdchem.Mol object at 0x7fae049f5000>  5RGI        0   \n",
       "20  <rdkit.Chem.rdchem.Mol object at 0x7fae049f5070>  5RGK        0   \n",
       "21  <rdkit.Chem.rdchem.Mol object at 0x7fae049f50e0>  5RGU        0   \n",
       "22  <rdkit.Chem.rdchem.Mol object at 0x7fae049f5150>  5RGV        0   \n",
       "23  <rdkit.Chem.rdchem.Mol object at 0x7fae049f51c0>  5RGW        0   \n",
       "24  <rdkit.Chem.rdchem.Mol object at 0x7fae049f5230>  5RGX        0   \n",
       "25  <rdkit.Chem.rdchem.Mol object at 0x7fae049f52a0>  5RGY        0   \n",
       "26  <rdkit.Chem.rdchem.Mol object at 0x7fae049f5310>  5RGZ        0   \n",
       "27  <rdkit.Chem.rdchem.Mol object at 0x7fae049f5380>  5RH0        0   \n",
       "28  <rdkit.Chem.rdchem.Mol object at 0x7fae049f53f0>  5RH1        0   \n",
       "29  <rdkit.Chem.rdchem.Mol object at 0x7fae049f5460>  5RH2        0   \n",
       "30  <rdkit.Chem.rdchem.Mol object at 0x7fae049f54d0>  5RH3        0   \n",
       "31  <rdkit.Chem.rdchem.Mol object at 0x7fae049f5540>  5RHD        0   \n",
       "32  <rdkit.Chem.rdchem.Mol object at 0x7fae049f55b0>  7K0F        0   \n",
       "\n",
       "                                               center    cell  \n",
       "0   [13.249461538461539, 22.272230769230774, 30.09...  (4, 3)  \n",
       "1     [13.964214285714288, 25.18, 26.190714285714286]  (4, 1)  \n",
       "2   [13.6084, 24.955733333333335, 26.351799999999994]  (4, 1)  \n",
       "3   [13.869000000000002, 23.278363636363636, 28.25...  (4, 2)  \n",
       "4   [10.689875, 22.155312500000004, 26.73431249999...  (0, 1)  \n",
       "5          [10.98325, 21.9586875, 27.040125000000003]  (0, 0)  \n",
       "6   [9.023272727272728, 21.75272727272727, 26.5504...  (0, 3)  \n",
       "7   [12.346777777777781, 25.580666666666662, 31.04...  (3, 3)  \n",
       "8   [13.781538461538462, 22.16646153846154, 30.418...  (4, 3)  \n",
       "9   [5.17038888888889, 24.85977777777778, 27.97638...  (0, 4)  \n",
       "10  [12.406538461538462, 23.27292307692307, 27.330...  (2, 2)  \n",
       "11  [13.512363636363638, 25.644272727272725, 25.69...  (4, 1)  \n",
       "12  [12.7456, 20.584600000000002, 32.455200000000005]  (4, 4)  \n",
       "13  [6.657142857142858, 21.22457142857143, 26.1192...  (1, 4)  \n",
       "14  [12.313399999999998, 21.69826666666667, 30.625...  (3, 4)  \n",
       "15  [10.342368421052633, 22.08431578947368, 26.859...  (0, 1)  \n",
       "16  [11.483722222222223, 23.66111111111111, 28.300...  (2, 3)  \n",
       "17                      [10.03515, 22.9566, 26.73505]  (1, 2)  \n",
       "18  [13.306785714285711, 22.283428571428573, 29.35...  (4, 3)  \n",
       "19  [8.206866666666667, 20.15246666666667, 28.1496...  (1, 4)  \n",
       "20    [5.286, 24.998944444444447, 28.500944444444446]  (0, 4)  \n",
       "21  [11.614136363636364, 23.393636363636368, 25.39...  (2, 0)  \n",
       "22             [9.3784, 22.70645, 26.665900000000004]  (1, 3)  \n",
       "23  [11.120777777777777, 21.964000000000002, 26.59...  (0, 0)  \n",
       "24  [10.981578947368423, 22.05821052631579, 26.693...  (0, 0)  \n",
       "25  [12.213227272727273, 26.963545454545454, 24.93...  (3, 1)  \n",
       "26  [11.150666666666668, 21.971944444444446, 26.69...  (0, 0)  \n",
       "27                [10.2895625, 22.4358125, 26.394125]  (0, 2)  \n",
       "28  [10.4460625, 22.320187499999996, 26.7326874999...  (1, 1)  \n",
       "29  [10.565833333333334, 22.149944444444444, 26.79...  (0, 1)  \n",
       "30  [10.488263157894735, 22.096000000000004, 26.96...  (0, 1)  \n",
       "31  [12.382250000000003, 22.348062499999994, 29.70...  (3, 4)  \n",
       "32  [9.61397435897436, 22.3984358974359, 27.662358...  (1, 3)  "
      ]
     },
     "execution_count": 18,
     "metadata": {},
     "output_type": "execute_result"
    }
   ],
   "source": [
    "lig_df"
   ]
  },
  {
   "cell_type": "markdown",
   "id": "8a253b6e",
   "metadata": {},
   "source": [
    "Create a dataframe to hold the occupied SOM cells"
   ]
  },
  {
   "cell_type": "code",
   "execution_count": 19,
   "id": "8f61928b",
   "metadata": {},
   "outputs": [],
   "source": [
    "cell_df = lig_df.cell.value_counts().to_frame().reset_index()\n",
    "cell_df.columns = [\"Cell\",\"Count\"]"
   ]
  },
  {
   "cell_type": "markdown",
   "id": "4cb39e47",
   "metadata": {},
   "source": [
    "Plot the SOM, the point size is proportional to the number of ligands in a cell.  The numbers adjacent to the points are the cluster ids.  Adjacent cells represent clusters that are close 3D in space (adjacent pockets) on the protein.  "
   ]
  },
  {
   "cell_type": "code",
   "execution_count": 20,
   "id": "ae716939",
   "metadata": {},
   "outputs": [
    {
     "data": {
      "image/png": "[encoded data removed]",
      "text/plain": [
       "<Figure size 1000x1000 with 1 Axes>"
      ]
     },
     "metadata": {},
     "output_type": "display_data"
    }
   ],
   "source": [
    "sns.set(rc={'figure.figsize': (10, 10)})\n",
    "sns.set_style('whitegrid')\n",
    "sns.set_context('talk')\n",
    "cell_df['x'] = [x[0] for x in cell_df.Cell]\n",
    "cell_df['y'] = [x[1] for x in cell_df.Cell]\n",
    "ax = sns.scatterplot(x=\"x\",y='y',size=\"Count\",data=cell_df,sizes=(40,500),color=\"lightblue\")\n",
    "ax.legend(title=\"Count\",loc='upper left', bbox_to_anchor=(1.00, 0.75), ncol=1)\n",
    "cell_df.sort_values('Count',ascending=False)\n",
    "cell_df['ix'] = range(0,len(cell_df))\n",
    "for x,y,ix in cell_df[['x','y','ix']].values:\n",
    "    ax.text(x+0.1,y+0.1,ix)    "
   ]
  },
  {
   "cell_type": "code",
   "execution_count": null,
   "id": "8fb9e037",
   "metadata": {},
   "outputs": [],
   "source": [
    "# delete any files named som_cluster*.sdf\n",
    "for filename in glob(\"som_cluster*.sdf\"):\n",
    "    os.unlink(filename)\n",
    "\n",
    "# write each cluster as an SDF\n",
    "for i,x in enumerate(lig_df.cell.value_counts().index):\n",
    "    cluster_df = lig_df.query(\"cell == @x\")\n",
    "    filename = f\"som_cluster_{i:03d}.sdf\"\n",
    "    print(filename, x, cluster_df.shape[0])\n",
    "    PandasTools.WriteSDF(cluster_df,filename,properties=[\"Name\",\"Sequence\"])"
   ]
  },
  {
   "cell_type": "markdown",
   "id": "305b1b0a",
   "metadata": {},
   "source": [
    "Write each cluster to an SD file.  To look at the clusters with PyMol, you can do \n",
    "<pre>\n",
    "pymol 5R7Y_aligned.pdb som_cluster*.sdf\n",
    "</pre>\n",
    "Then, in PyMol, execute these commands\n",
    "<pre>\n",
    "zoom all\n",
    "set all_states,on"
   ]
  },
  {
   "cell_type": "markdown",
   "id": "f8911524",
   "metadata": {},
   "source": [
    "MIT License\n",
    "\n",
    "Copyright (c) 2021 Patrick Walters\n",
    "\n",
    "Permission is hereby granted, free of charge, to any person obtaining a copy\n",
    "of this software and associated documentation files (the \"Software\"), to deal\n",
    "in the Software without restriction, including without limitation the rights\n",
    "to use, copy, modify, merge, publish, distribute, sublicense, and/or sell\n",
    "copies of the Software, and to permit persons to whom the Software is\n",
    "furnished to do so, subject to the following conditions:\n",
    "\n",
    "The above copyright notice and this permission notice shall be included in all\n",
    "copies or substantial portions of the Software."
   ]
  }
 ],
 "metadata": {
  "kernelspec": {
   "display_name": "Python 3 (ipykernel)",
   "language": "python",
   "name": "python3"
  },
  "language_info": {
   "codemirror_mode": {
    "name": "ipython",
    "version": 3
   },
   "file_extension": ".py",
   "mimetype": "text/x-python",
   "name": "python",
   "nbconvert_exporter": "python",
   "pygments_lexer": "ipython3",
   "version": "3.10.6"
  }
 },
 "nbformat": 4,
 "nbformat_minor": 5
}
