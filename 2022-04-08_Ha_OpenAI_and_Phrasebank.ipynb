{
 "cells": [
  {
   "cell_type": "markdown",
   "id": "91c6128f",
   "metadata": {},
   "source": [
    "# 1. Academic Phrasebank\n",
    "\n",
    "https://www.phrasebank.manchester.ac.uk/\n",
    "\n",
    "General resources for \"academic\" phrases for academic writers. The resource should be particularly useful for writers who need to report their research work."
   ]
  },
  {
   "cell_type": "markdown",
   "id": "80e6006b",
   "metadata": {},
   "source": [
    "# 2. OpenAI Gym\n",
    "\n",
    "https://gym.openai.com/docs/\n",
    "\n",
    "The gym library is a collection of test problems — *environments* — that you can use to work out your reinforcement learning algorithms."
   ]
  },
  {
   "cell_type": "markdown",
   "id": "975f04fa",
   "metadata": {},
   "source": [
    "In layman's term:\n",
    "- **Reinforcement Learning**: A Machine Learning paradigm that involves training an *agent* to take *actions* in an *environment*, in order to maximize some *reward*.\n",
    "    + Example 1: Training [AlphaGo](https://www.deepmind.com/research/highlighted-research/alphago) to play a game of Go and earn reward if it makes a move that wins the chess match.  \n",
    "    + Example 2: Training [Alphastar](https://www.deepmind.com/blog/alphastar-grandmaster-level-in-starcraft-ii-using-multi-agent-reinforcement-learning) to play Starcraft II\n",
    "    \n",
    "- **Environment**: Can be roughly understood as a \"game\" that the agent is trained to master. The agent will play this game over and over to master it. Each \"playthrough\" is called an *episode*"
   ]
  },
  {
   "cell_type": "code",
   "execution_count": 1,
   "id": "1b9ca0fe",
   "metadata": {},
   "outputs": [],
   "source": [
    "import gym\n",
    "import math\n",
    "import random\n",
    "import numpy as np\n",
    "import matplotlib\n",
    "import matplotlib.pyplot as plt\n",
    "from collections import namedtuple, deque\n",
    "from itertools import count\n",
    "from PIL import Image\n",
    "\n",
    "import torch\n",
    "import torch.nn as nn\n",
    "import torch.optim as optim\n",
    "import torch.nn.functional as F\n",
    "import torchvision.transforms as T\n",
    "\n",
    "import matplotlib.pyplot as plt\n",
    "%matplotlib inline\n",
    "from IPython import display"
   ]
  },
  {
   "cell_type": "markdown",
   "id": "aed266f4",
   "metadata": {},
   "source": [
    "## Warm-up example: Cart Pole"
   ]
  },
  {
   "cell_type": "markdown",
   "id": "ba919b2e",
   "metadata": {},
   "source": [
    "*Goal: The pendulum starts upright, and the goal is to prevent it from falling over. The system is controlled by applying a force of +1 or -1 to the cart.*\n",
    "\n",
    "*Reward: A reward of +1 is provided for every timestep that the pole remains upright.* \n",
    "\n",
    "*Episode: The episode ends when the game is over (the pole is more than 15 degrees from vertical, or the cart moves more than 2.4 units from the center.)*"
   ]
  },
  {
   "cell_type": "code",
   "execution_count": 2,
   "id": "4527224e",
   "metadata": {
    "scrolled": true
   },
   "outputs": [
    {
     "data": {
      "image/png": "[encoded data removed]",
      "text/plain": [
       "<Figure size 432x288 with 1 Axes>"
      ]
     },
     "metadata": {},
     "output_type": "display_data"
    },
    {
     "name": "stdout",
     "output_type": "stream",
     "text": [
      "Episode finished after 23 timesteps\n"
     ]
    },
    {
     "data": {
      "image/png": "[encoded data removed]",
      "text/plain": [
       "<Figure size 432x288 with 1 Axes>"
      ]
     },
     "metadata": {
      "needs_background": "light"
     },
     "output_type": "display_data"
    }
   ],
   "source": [
    "def show_state(env, episode, step=0, info=\"\"):\n",
    "    plt.figure(3)\n",
    "    plt.clf()\n",
    "    plt.imshow(env.render(mode='rgb_array'))\n",
    "    plt.title(\"%s | Step: %d %s | Episode: %d\" % (env.spec.id,step, info, episode))\n",
    "    plt.axis('off')\n",
    "\n",
    "    display.clear_output(wait=True)\n",
    "    display.display(plt.gcf())\n",
    "    \n",
    "def first_demonstration():\n",
    "    env = gym.make('CartPole-v1')\n",
    "    for i_episode in range(2):\n",
    "        observation = env.reset()\n",
    "        for t in range(50):\n",
    "            env.render()\n",
    "            action = env.action_space.sample()\n",
    "            observation, reward, done, info = env.step(action)\n",
    "            show_state(env,step=t, episode = i_episode)\n",
    "            if done:\n",
    "                print(\"Episode finished after {} timesteps\".format(t+1))\n",
    "                break\n",
    "    env.close()\n",
    "    return None\n",
    "\n",
    "first_demonstration()"
   ]
  },
  {
   "cell_type": "markdown",
   "id": "2ae1b2fc",
   "metadata": {},
   "source": [
    "## Build a model to train our Agent to play Cart Pole"
   ]
  },
  {
   "cell_type": "markdown",
   "id": "3407bef9",
   "metadata": {},
   "source": [
    "tl,dr: Q-Learning, with CNN "
   ]
  },
  {
   "cell_type": "code",
   "execution_count": 3,
   "id": "464c618e",
   "metadata": {},
   "outputs": [],
   "source": [
    "env = gym.make('CartPole-v1').unwrapped\n",
    "\n",
    "# set up matplotlib\n",
    "is_ipython = 'inline' in matplotlib.get_backend()\n",
    "if is_ipython:\n",
    "    from IPython import display\n",
    "\n",
    "plt.ion()\n",
    "\n",
    "# if gpu is to be used\n",
    "device = torch.device(\"cuda\" if torch.cuda.is_available() else \"cpu\")"
   ]
  },
  {
   "cell_type": "code",
   "execution_count": 4,
   "id": "a16b27fe",
   "metadata": {},
   "outputs": [],
   "source": [
    "### Replay Memory\n",
    "\n",
    "\"\"\"\n",
    "Experience replay memory: At time t, the agent's experience e_t is defined as the tuple \n",
    "e_t = (s_t, a_t, r_(t+1), s_(t+1)). All of the agent's experiences at each time step over \n",
    "all episodes played by the agent are stored in the replay memory (or normally N last experiences).\n",
    "\n",
    "This replay memory data set is what we'll randomly sample from to train the network. \n",
    "A key reason for using replay memory is to break the correlation between consecutive samples.\n",
    "\n",
    "- Transition: a named tuple representing a single transition in our environment. \n",
    "    It essentially maps (state, action) pairs to their (next_state, reward) result, \n",
    "    with the state being the screen difference image as described later on.\n",
    "- ReplayMemory: a cyclic buffer of bounded size that holds the transitions observed recently. \n",
    "    It also implements a .sample() method for selecting a random batch of transitions for training.\n",
    "\"\"\"\n",
    "\n",
    "\n",
    "Transition = namedtuple('Transition',\n",
    "                        ('state', 'action', 'next_state', 'reward'))\n",
    "\n",
    "\n",
    "class ReplayMemory(object):\n",
    "\n",
    "    def __init__(self, capacity):\n",
    "        self.memory = deque([],maxlen=capacity)\n",
    "\n",
    "    def push(self, *args):\n",
    "        \"\"\"Save a transition\"\"\"\n",
    "        self.memory.append(Transition(*args))\n",
    "\n",
    "    def sample(self, batch_size):\n",
    "        return random.sample(self.memory, batch_size)\n",
    "\n",
    "    def __len__(self):\n",
    "        return len(self.memory)"
   ]
  },
  {
   "cell_type": "code",
   "execution_count": 5,
   "id": "cd4f030e",
   "metadata": {},
   "outputs": [
    {
     "data": {
      "text/plain": [
       "'\\nhttps://colab.research.google.com/drive/1eN33dPVtdPViiS1njTW_-r-IYCDTFU7N#scrollTo=WNaOc4flcOl2\\n\\nQ-Learning Theory: \\n\\nOur aim will be to train a policy pi that tries to maximize the discounted, cumulative reward R\\nThe main idea behind Q-learning is that if we had a function Q*: State x Action → Real\\nthat could tell us what our return would be if we were to take an action in a given state,\\nthen we could easily construct a policy that maximizes our rewards:\\n\\npi*(s) = argmax Q*(s,a)\\n            a\\nevery Q function for some policy obeys the Bellman equation\\nThe difference between the two sides of the equality is known as the temporal difference error\\nWe seek to minimise the temporal difference error using Huber loss \\n'"
      ]
     },
     "execution_count": 5,
     "metadata": {},
     "output_type": "execute_result"
    }
   ],
   "source": [
    "\"\"\"\n",
    "https://colab.research.google.com/drive/1eN33dPVtdPViiS1njTW_-r-IYCDTFU7N#scrollTo=WNaOc4flcOl2\n",
    "\n",
    "Q-Learning Theory: \n",
    "\n",
    "Our aim will be to train a policy pi that tries to maximize the discounted, cumulative reward R\n",
    "The main idea behind Q-learning is that if we had a function Q*: State x Action → Real\n",
    "that could tell us what our return would be if we were to take an action in a given state,\n",
    "then we could easily construct a policy that maximizes our rewards:\n",
    "\n",
    "pi*(s) = argmax Q*(s,a)\n",
    "            a\n",
    "every Q function for some policy obeys the Bellman equation\n",
    "The difference between the two sides of the equality is known as the temporal difference error\n",
    "We seek to minimise the temporal difference error using Huber loss \n",
    "\"\"\""
   ]
  },
  {
   "cell_type": "code",
   "execution_count": 6,
   "id": "ddf7aa6b",
   "metadata": {},
   "outputs": [],
   "source": [
    "### Q-network\n",
    "\n",
    "\"\"\"\n",
    "Our model will be a convolutional neural network that takes in the difference between the current and previous \n",
    "screen patches. It has two outputs, representing Q(s,left) and Q(s,right) (where ss is the input to the network). \n",
    "In effect, the network is trying to predict the expected return of taking each action given the current input.\n",
    "\"\"\"\n",
    "\n",
    "class DQN(nn.Module):\n",
    "\n",
    "    def __init__(self, h, w, outputs):\n",
    "        super(DQN, self).__init__()\n",
    "        self.conv1 = nn.Conv2d(3, 16, kernel_size=5, stride=2)\n",
    "        self.bn1 = nn.BatchNorm2d(16)\n",
    "        self.conv2 = nn.Conv2d(16, 32, kernel_size=5, stride=2)\n",
    "        self.bn2 = nn.BatchNorm2d(32)\n",
    "        self.conv3 = nn.Conv2d(32, 32, kernel_size=5, stride=2)\n",
    "        self.bn3 = nn.BatchNorm2d(32)\n",
    "\n",
    "        # Number of Linear input connections depends on output of conv2d layers\n",
    "        # and therefore the input image size, so compute it.\n",
    "        def conv2d_size_out(size, kernel_size = 5, stride = 2):\n",
    "            return (size - (kernel_size - 1) - 1) // stride  + 1\n",
    "        convw = conv2d_size_out(conv2d_size_out(conv2d_size_out(w)))\n",
    "        convh = conv2d_size_out(conv2d_size_out(conv2d_size_out(h)))\n",
    "        linear_input_size = convw * convh * 32\n",
    "        self.head = nn.Linear(linear_input_size, outputs)\n",
    "\n",
    "    # Called with either one element to determine next action, or a batch\n",
    "    # during optimization. Returns tensor([[left0exp,right0exp]...]).\n",
    "    def forward(self, x):\n",
    "        x = x.to(device)\n",
    "        x = F.relu(self.bn1(self.conv1(x)))\n",
    "        x = F.relu(self.bn2(self.conv2(x)))\n",
    "        x = F.relu(self.bn3(self.conv3(x)))\n",
    "        return self.head(x.view(x.size(0), -1))"
   ]
  },
  {
   "cell_type": "code",
   "execution_count": 7,
   "id": "cb77909f",
   "metadata": {},
   "outputs": [
    {
     "name": "stderr",
     "output_type": "stream",
     "text": [
      "/home/son.ha/anaconda3/envs/myenv/lib/python3.9/site-packages/torchvision/transforms/transforms.py:280: UserWarning: Argument interpolation should be of type InterpolationMode instead of int. Please, use InterpolationMode enum.\n",
      "  warnings.warn(\n"
     ]
    },
    {
     "data": {
      "image/png": "[encoded data removed]",
      "text/plain": [
       "<Figure size 432x288 with 1 Axes>"
      ]
     },
     "metadata": {
      "needs_background": "light"
     },
     "output_type": "display_data"
    }
   ],
   "source": [
    "\"\"\"\n",
    "The code below are utilities for extracting and processing rendered images from the environment. \n",
    "It uses the torchvision package, which makes it easy to compose image transforms. \n",
    "Once you run the cell it will display an example patch that it extracted.\n",
    "\"\"\"\n",
    "\n",
    "resize = T.Compose([T.ToPILImage(),\n",
    "                    T.Resize(40, interpolation=Image.CUBIC),\n",
    "                    T.ToTensor()])\n",
    "\n",
    "\n",
    "def get_cart_location(screen_width):\n",
    "    world_width = env.x_threshold * 2\n",
    "    scale = screen_width / world_width\n",
    "    return int(env.state[0] * scale + screen_width / 2.0)  # MIDDLE OF CART\n",
    "\n",
    "def get_screen():\n",
    "    # Returned screen requested by gym is 400x600x3, but is sometimes larger\n",
    "    # such as 800x1200x3. Transpose it into torch order (CHW).\n",
    "    screen = env.render(mode='rgb_array').transpose((2, 0, 1))\n",
    "    # Cart is in the lower half, so strip off the top and bottom of the screen\n",
    "    _, screen_height, screen_width = screen.shape\n",
    "    screen = screen[:, int(screen_height*0.4):int(screen_height * 0.8)]\n",
    "    view_width = int(screen_width * 0.6)\n",
    "    cart_location = get_cart_location(screen_width)\n",
    "    if cart_location < view_width // 2:\n",
    "        slice_range = slice(view_width)\n",
    "    elif cart_location > (screen_width - view_width // 2):\n",
    "        slice_range = slice(-view_width, None)\n",
    "    else:\n",
    "        slice_range = slice(cart_location - view_width // 2,\n",
    "                            cart_location + view_width // 2)\n",
    "    # Strip off the edges, so that we have a square image centered on a cart\n",
    "    screen = screen[:, :, slice_range]\n",
    "    # Convert to float, rescale, convert to torch tensor\n",
    "    # (this doesn't require a copy)\n",
    "    screen = np.ascontiguousarray(screen, dtype=np.float32) / 255\n",
    "    screen = torch.from_numpy(screen)\n",
    "    # Resize, and add a batch dimension (BCHW)\n",
    "    return resize(screen).unsqueeze(0)\n",
    "\n",
    "\n",
    "env.reset()\n",
    "plt.figure()\n",
    "plt.imshow(get_screen().cpu().squeeze(0).permute(1, 2, 0).numpy(),\n",
    "           interpolation='none')\n",
    "plt.title('Example extracted screen')\n",
    "plt.show()"
   ]
  },
  {
   "cell_type": "code",
   "execution_count": 8,
   "id": "2fecaba1",
   "metadata": {},
   "outputs": [],
   "source": [
    "\"\"\"\n",
    "This cell instantiates our model and its optimizer, and defines some utilities:\n",
    "\n",
    "select_action - will select an action accordingly to an epsilon greedy policy. \n",
    "Simply put, we’ll sometimes use our model for choosing the action, and sometimes we’ll just sample one uniformly. \n",
    "The probability of choosing a random action will start at EPS_START and will decay exponentially towards EPS_END. \n",
    "EPS_DECAY controls the rate of the decay.\n",
    "\n",
    "plot_durations - a helper for plotting the durations of episodes, along with an average over the last 100 episodes(the\n",
    "measure used in the official evaluations). The plot will be underneath the cell containing the main training loop,\n",
    "and will update after every episode.\n",
    "\"\"\"\n",
    "\n",
    "BATCH_SIZE = 128\n",
    "GAMMA = 0.999\n",
    "EPS_START = 0.9\n",
    "EPS_END = 0.05\n",
    "EPS_DECAY = 200\n",
    "TARGET_UPDATE = 10\n",
    "\n",
    "# Get screen size so that we can initialize layers correctly based on shape\n",
    "# returned from AI gym. Typical dimensions at this point are close to 3x40x90\n",
    "# which is the result of a clamped and down-scaled render buffer in get_screen()\n",
    "init_screen = get_screen()\n",
    "_, _, screen_height, screen_width = init_screen.shape\n",
    "\n",
    "# Get number of actions from gym action space\n",
    "n_actions = env.action_space.n\n",
    "\n",
    "policy_net = DQN(screen_height, screen_width, n_actions).to(device)\n",
    "target_net = DQN(screen_height, screen_width, n_actions).to(device)\n",
    "target_net.load_state_dict(policy_net.state_dict())\n",
    "target_net.eval()\n",
    "\n",
    "optimizer = optim.RMSprop(policy_net.parameters())\n",
    "memory = ReplayMemory(10000)\n",
    "\n",
    "\n",
    "steps_done = 0\n",
    "\n",
    "\n",
    "def select_action(state):\n",
    "    global steps_done\n",
    "    sample = random.random()\n",
    "    eps_threshold = EPS_END + (EPS_START - EPS_END) * \\\n",
    "        math.exp(-1. * steps_done / EPS_DECAY)\n",
    "    steps_done += 1\n",
    "    if sample > eps_threshold:\n",
    "        with torch.no_grad():\n",
    "            # t.max(1) will return largest column value of each row.\n",
    "            # second column on max result is index of where max element was\n",
    "            # found, so we pick action with the larger expected reward.\n",
    "            return policy_net(state).max(1)[1].view(1, 1)\n",
    "    else:\n",
    "        return torch.tensor([[random.randrange(n_actions)]], device=device, dtype=torch.long)\n",
    "\n",
    "\n",
    "episode_durations = []\n",
    "\n",
    "\n",
    "def plot_durations():\n",
    "    plt.figure(2)\n",
    "    plt.clf()\n",
    "    durations_t = torch.tensor(episode_durations, dtype=torch.float)\n",
    "    #plt.title('Training...')\n",
    "    #plt.xlabel('Episode')\n",
    "    #plt.ylabel('Duration')\n",
    "    plt.plot(durations_t.numpy())\n",
    "    # Take 100 episode averages and plot them too\n",
    "    if len(durations_t) >= 100:\n",
    "        means = durations_t.unfold(0, 100, 1).mean(1).view(-1)\n",
    "        means = torch.cat((torch.zeros(99), means))\n",
    "        plt.plot(means.numpy())\n",
    "\n",
    "    plt.pause(0.001)  # pause a bit so that plots are updated\n",
    "    if is_ipython:\n",
    "        display.clear_output(wait=True)\n",
    "        display.display(plt.gcf())"
   ]
  },
  {
   "cell_type": "code",
   "execution_count": 9,
   "id": "69336a65",
   "metadata": {},
   "outputs": [],
   "source": [
    "def optimize_model():\n",
    "    if len(memory) < BATCH_SIZE:\n",
    "        return\n",
    "    transitions = memory.sample(BATCH_SIZE)\n",
    "    # Transpose the batch (see https://stackoverflow.com/a/19343/3343043 for\n",
    "    # detailed explanation). This converts batch-array of Transitions\n",
    "    # to Transition of batch-arrays.\n",
    "    batch = Transition(*zip(*transitions))\n",
    "\n",
    "    # Compute a mask of non-final states and concatenate the batch elements\n",
    "    # (a final state would've been the one after which simulation ended)\n",
    "    non_final_mask = torch.tensor(tuple(map(lambda s: s is not None,\n",
    "                                          batch.next_state)), device=device, dtype=torch.bool)\n",
    "    non_final_next_states = torch.cat([s for s in batch.next_state\n",
    "                                                if s is not None])\n",
    "    state_batch = torch.cat(batch.state)\n",
    "    action_batch = torch.cat(batch.action)\n",
    "    reward_batch = torch.cat(batch.reward)\n",
    "\n",
    "    # Compute Q(s_t, a) - the model computes Q(s_t), then we select the\n",
    "    # columns of actions taken. These are the actions which would've been taken\n",
    "    # for each batch state according to policy_net\n",
    "    state_action_values = policy_net(state_batch).gather(1, action_batch)\n",
    "\n",
    "    # Compute V(s_{t+1}) for all next states.\n",
    "    # Expected values of actions for non_final_next_states are computed based\n",
    "    # on the \"older\" target_net; selecting their best reward with max(1)[0].\n",
    "    # This is merged based on the mask, such that we'll have either the expected\n",
    "    # state value or 0 in case the state was final.\n",
    "    next_state_values = torch.zeros(BATCH_SIZE, device=device)\n",
    "    next_state_values[non_final_mask] = target_net(non_final_next_states).max(1)[0].detach()\n",
    "    # Compute the expected Q values\n",
    "    expected_state_action_values = (next_state_values * GAMMA) + reward_batch\n",
    "\n",
    "    # Compute Huber loss\n",
    "    criterion = nn.SmoothL1Loss()\n",
    "    loss = criterion(state_action_values, expected_state_action_values.unsqueeze(1))\n",
    "\n",
    "    # Optimize the model\n",
    "    optimizer.zero_grad()\n",
    "    loss.backward()\n",
    "    for param in policy_net.parameters():\n",
    "        param.grad.data.clamp_(-1, 1)\n",
    "    optimizer.step()"
   ]
  },
  {
   "cell_type": "code",
   "execution_count": 10,
   "id": "d4035581",
   "metadata": {},
   "outputs": [],
   "source": [
    "def show_state(env, episode, step=0, info=\"\"):\n",
    "    plt.figure(3)\n",
    "    plt.clf()\n",
    "    plt.imshow(env.render(mode='rgb_array'))\n",
    "    plt.title(\"%s | Step: %d %s | Episode: %d\" % (env.spec.id,step, info, episode))\n",
    "    plt.axis('off')\n",
    "\n",
    "    display.clear_output(wait=True)\n",
    "    display.display(plt.gcf())"
   ]
  },
  {
   "cell_type": "code",
   "execution_count": 11,
   "id": "0c5aec47",
   "metadata": {},
   "outputs": [
    {
     "data": {
      "image/png": "[encoded data removed]",
      "text/plain": [
       "<Figure size 432x288 with 1 Axes>"
      ]
     },
     "metadata": {},
     "output_type": "display_data"
    },
    {
     "data": {
      "image/png": "[encoded data removed]",
      "text/plain": [
       "<Figure size 432x288 with 1 Axes>"
      ]
     },
     "metadata": {
      "needs_background": "light"
     },
     "output_type": "display_data"
    }
   ],
   "source": [
    "num_episodes = 50\n",
    "for i_episode in range(num_episodes):\n",
    "    # Initialize the environment and state\n",
    "    env.reset()\n",
    "    last_screen = get_screen()\n",
    "    current_screen = get_screen()\n",
    "    state = current_screen - last_screen\n",
    "    \n",
    "    for t in count():\n",
    "        show_state(env,step=t, episode = i_episode)\n",
    "        # Select and perform an action\n",
    "        action = select_action(state)\n",
    "        _, reward, done, _ = env.step(action.item())\n",
    "        reward = torch.tensor([reward], device=device)\n",
    "\n",
    "        # Observe new state\n",
    "        last_screen = current_screen\n",
    "        current_screen = get_screen()\n",
    "        if not done:\n",
    "            next_state = current_screen - last_screen\n",
    "        else:\n",
    "            next_state = None\n",
    "\n",
    "        # Store the transition in memory\n",
    "        memory.push(state, action, next_state, reward)\n",
    "\n",
    "        # Move to the next state\n",
    "        state = next_state\n",
    "\n",
    "        # Perform one step of the optimization (on the policy network)\n",
    "        optimize_model()\n",
    "        if done:\n",
    "            episode_durations.append(t + 1)\n",
    "            #plot_durations()\n",
    "            break\n",
    "    # Update the target network, copying all weights and biases in DQN\n",
    "    if i_episode % TARGET_UPDATE == 0:\n",
    "        target_net.load_state_dict(policy_net.state_dict())\n",
    "\n",
    "print('Complete')\n",
    "env.render()\n",
    "show_state(env,step=t, episode = i_episode)\n",
    "#env.close()\n",
    "#plt.ioff()\n",
    "#plt.show()"
   ]
  },
  {
   "cell_type": "code",
   "execution_count": 12,
   "id": "0506020b",
   "metadata": {},
   "outputs": [
    {
     "data": {
      "text/plain": [
       "ValuesView(├──CartPole: [ v0, v1 ]\n",
       "├──MountainCar: [ v0 ]\n",
       "├──MountainCarContinuous: [ v0 ]\n",
       "├──Pendulum: [ v1 ]\n",
       "├──Acrobot: [ v1 ]\n",
       "├──LunarLander: [ v2 ]\n",
       "├──LunarLanderContinuous: [ v2 ]\n",
       "├──BipedalWalker: [ v3 ]\n",
       "├──BipedalWalkerHardcore: [ v3 ]\n",
       "├──CarRacing: [ v1 ]\n",
       "├──Blackjack: [ v1 ]\n",
       "├──FrozenLake: [ v1 ]\n",
       "├──FrozenLake8x8: [ v1 ]\n",
       "├──CliffWalking: [ v0 ]\n",
       "├──Taxi: [ v3 ]\n",
       "├──Reacher: [ v2 ]\n",
       "├──Pusher: [ v2 ]\n",
       "├──InvertedPendulum: [ v2 ]\n",
       "├──InvertedDoublePendulum: [ v2 ]\n",
       "├──HalfCheetah: [ v2, v3 ]\n",
       "├──Hopper: [ v2, v3 ]\n",
       "├──Swimmer: [ v2, v3 ]\n",
       "├──Walker2d: [ v2, v3 ]\n",
       "├──Ant: [ v2, v3 ]\n",
       "├──Humanoid: [ v2, v3 ]\n",
       "└──HumanoidStandup: [ v2 ]\n",
       ")"
      ]
     },
     "execution_count": 12,
     "metadata": {},
     "output_type": "execute_result"
    }
   ],
   "source": [
    "from gym import envs\n",
    "envs.registry.all()"
   ]
  }
 ],
 "metadata": {
  "kernelspec": {
   "display_name": "Python 3 (ipykernel)",
   "language": "python",
   "name": "python3"
  },
  "language_info": {
   "codemirror_mode": {
    "name": "ipython",
    "version": 3
   },
   "file_extension": ".py",
   "mimetype": "text/x-python",
   "name": "python",
   "nbconvert_exporter": "python",
   "pygments_lexer": "ipython3",
   "version": "3.9.10"
  }
 },
 "nbformat": 4,
 "nbformat_minor": 5
}
