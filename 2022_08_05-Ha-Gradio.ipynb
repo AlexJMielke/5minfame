{
 "cells": [
  {
   "cell_type": "code",
   "execution_count": 1,
   "id": "00a6d781",
   "metadata": {},
   "outputs": [],
   "source": [
    "import gradio as gr\n",
    "from transformers import pipeline\n",
    "import ffmpeg"
   ]
  },
  {
   "cell_type": "markdown",
   "id": "8f6aaaa2",
   "metadata": {},
   "source": [
    "Gradio is an open-source Python library that is used to build machine learning and data science demos and web applications."
   ]
  },
  {
   "cell_type": "code",
   "execution_count": 2,
   "id": "0e4ea3bd",
   "metadata": {
    "scrolled": true
   },
   "outputs": [
    {
     "name": "stdout",
     "output_type": "stream",
     "text": [
      "Running on local URL:  http://127.0.0.1:7860/\n",
      "\n",
      "To create a public link, set `share=True` in `launch()`.\n"
     ]
    },
    {
     "data": {
      "text/html": [
       "<div><iframe src=\"http://127.0.0.1:7860/\" width=\"900\" height=\"500\" allow=\"autoplay; camera; microphone;\" frameborder=\"0\" allowfullscreen></iframe></div>"
      ],
      "text/plain": [
       "<IPython.core.display.HTML object>"
      ]
     },
     "metadata": {},
     "output_type": "display_data"
    },
    {
     "data": {
      "text/plain": [
       "(<gradio.routes.App at 0x7fad38913fd0>, 'http://127.0.0.1:7860/', None)"
      ]
     },
     "execution_count": 2,
     "metadata": {},
     "output_type": "execute_result"
    }
   ],
   "source": [
    "### Text generation\n",
    "gr.close_all()\n",
    "\n",
    "#Firstly, define a function\n",
    "def predict(prompt):\n",
    "    model = pipeline(\"text-generation\")\n",
    "    completion = model(prompt)[0][\"generated_text\"]\n",
    "    return completion\n",
    "\n",
    "#Secondly, create an 'interface'\n",
    "textbox = gr.Textbox(label=\"Type your sentence here:\", placeholder=\"Hi, my name is John Doe.\", lines=2)\n",
    "demo = gr.Interface(fn=predict, inputs=textbox, outputs=\"text\")\n",
    "\n",
    "#Then launch\n",
    "demo.launch(server_port=7860)"
   ]
  },
  {
   "cell_type": "code",
   "execution_count": 3,
   "id": "63231387",
   "metadata": {
    "scrolled": true
   },
   "outputs": [
    {
     "name": "stdout",
     "output_type": "stream",
     "text": [
      "Running on local URL:  http://127.0.0.1:7862/\n",
      "\n",
      "To create a public link, set `share=True` in `launch()`.\n"
     ]
    },
    {
     "data": {
      "text/html": [
       "<div><iframe src=\"http://127.0.0.1:7862/\" width=\"900\" height=\"500\" allow=\"autoplay; camera; microphone;\" frameborder=\"0\" allowfullscreen></iframe></div>"
      ],
      "text/plain": [
       "<IPython.core.display.HTML object>"
      ]
     },
     "metadata": {},
     "output_type": "display_data"
    },
    {
     "data": {
      "text/plain": [
       "(<gradio.routes.App at 0x7fad38566a90>, 'http://127.0.0.1:7862/', None)"
      ]
     },
     "execution_count": 3,
     "metadata": {},
     "output_type": "execute_result"
    }
   ],
   "source": [
    "### Audio transcription\n",
    "#demo.close()\n",
    "#gr.close_all()\n",
    "\n",
    "#Firstly, define a funtion\n",
    "def transcribe_audio(mic=None, file=None):\n",
    "    model = pipeline(\"automatic-speech-recognition\")\n",
    "    if mic is not None:\n",
    "        audio = mic\n",
    "    elif file is not None:\n",
    "        audio = file\n",
    "    else:\n",
    "        return \"You must either provide a mic recording or a file\"\n",
    "    transcription = model(audio)[\"text\"]\n",
    "    return transcription\n",
    "\n",
    "#Secondly, create an 'interface'\n",
    "demo2 = gr.Interface(\n",
    "    fn=transcribe_audio,\n",
    "    inputs=[\n",
    "        gr.Audio(source=\"microphone\", type=\"filepath\"),\n",
    "        gr.Audio(source=\"upload\", type=\"filepath\"),\n",
    "    ],\n",
    "    outputs=\"text\",\n",
    ")\n",
    "\n",
    "#Then launch\n",
    "demo2.launch(server_port=7862)"
   ]
  },
  {
   "cell_type": "code",
   "execution_count": 4,
   "id": "7ac1b30e",
   "metadata": {},
   "outputs": [],
   "source": [
    "### Prediction of bioassay with Random Forest example\n",
    "# Input: Cell Painting features extracted by CellProfiler\n",
    "# Output: Activity (\"Active\", or \"Inactive\") of ChEMBL assay CHEMBL1741322\n",
    "# Assay description: Cytochrome panel assay. Compounds with AC50 equal or less than 10 uM are considered active\n",
    "\n",
    "import pandas as pd\n",
    "import numpy as np\n",
    "from sklearn.ensemble import RandomForestClassifier\n",
    "from sklearn.model_selection import train_test_split\n",
    "\n",
    "dataset = pd.read_csv(\"toy_dataset_Cytochrome.csv\")\n",
    "X_train, X_test, y_train, y_test = train_test_split(dataset.iloc[:,0:-1], dataset[\"CHEMBL1741322\"], test_size=0.1)\n",
    "\n",
    "clf = RandomForestClassifier(max_depth=2, random_state=0)\n",
    "clf.fit(X_train.values, y_train.values)\n",
    "\n",
    "np.savez(\"CP_predict.npz\", X=X_test.iloc[[1,11,67,109,222],:].values, y=y_test.iloc[[1,11,67,109,222]].values)"
   ]
  },
  {
   "cell_type": "code",
   "execution_count": 5,
   "id": "904c4890",
   "metadata": {},
   "outputs": [
    {
     "name": "stdout",
     "output_type": "stream",
     "text": [
      "Running on local URL:  http://127.0.0.1:7864/\n",
      "\n",
      "To create a public link, set `share=True` in `launch()`.\n"
     ]
    },
    {
     "data": {
      "text/html": [
       "<div><iframe src=\"http://127.0.0.1:7864/\" width=\"900\" height=\"500\" allow=\"autoplay; camera; microphone;\" frameborder=\"0\" allowfullscreen></iframe></div>"
      ],
      "text/plain": [
       "<IPython.core.display.HTML object>"
      ]
     },
     "metadata": {},
     "output_type": "display_data"
    },
    {
     "data": {
      "text/plain": [
       "(<gradio.routes.App at 0x7fac87e27d90>, 'http://127.0.0.1:7864/', None)"
      ]
     },
     "execution_count": 5,
     "metadata": {},
     "output_type": "execute_result"
    },
    {
     "name": "stderr",
     "output_type": "stream",
     "text": [
      "No model was supplied, defaulted to gpt2 (https://huggingface.co/gpt2)\n",
      "The attention mask and the pad token id were not set. As a consequence, you may observe unexpected behavior. Please pass your input's `attention_mask` to obtain reliable results.\n",
      "Setting `pad_token_id` to `eos_token_id`:50256 for open-end generation.\n"
     ]
    }
   ],
   "source": [
    "#demo2.close()\n",
    "#gr.close_all()\n",
    "\n",
    "def predict(cp_profile):\n",
    "    features = np.load(cp_profile)[\"X\"]\n",
    "    true_label = np.load(cp_profile)[\"y\"]\n",
    "    pred = clf.predict(features)\n",
    "    pred = [\"Active\" if i==1 else \"Inactive\" for i in pred]\n",
    "    return pred#, true_label\n",
    "    \n",
    "textbox = gr.Textbox(label=\"Path to Cell Painting features here:\", lines=2, placeholder=\"CP_predict.npz\")\n",
    "demo3 = gr.Interface(fn=predict, inputs=textbox, outputs=\"text\")\n",
    "\n",
    "demo3.launch(server_port=7864)"
   ]
  }
 ],
 "metadata": {
  "kernelspec": {
   "display_name": "Python 3 (ipykernel)",
   "language": "python",
   "name": "python3"
  },
  "language_info": {
   "codemirror_mode": {
    "name": "ipython",
    "version": 3
   },
   "file_extension": ".py",
   "mimetype": "text/x-python",
   "name": "python",
   "nbconvert_exporter": "python",
   "pygments_lexer": "ipython3",
   "version": "3.9.13"
  }
 },
 "nbformat": 4,
 "nbformat_minor": 5
}
